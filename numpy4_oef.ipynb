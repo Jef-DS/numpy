{
  "nbformat": 4,
  "nbformat_minor": 0,
  "metadata": {
    "colab": {
      "provenance": []
    },
    "kernelspec": {
      "name": "python3",
      "display_name": "Python 3"
    },
    "language_info": {
      "name": "python"
    }
  },
  "cells": [
    {
      "cell_type": "markdown",
      "source": [
        "#Oefeningen op UFuncs\n",
        "##Oef1\n",
        "Vertrek van onderstaande code. Hoe kun je de getallen in elke kolom optellen? Het resultaat zou er dus als volgt moeten uitzien (meerdere antwoorden mogelijk):\n",
        "```\n",
        "[12 15 18]\n",
        "```\n",
        "1) print(np.sum(arr1))\n",
        "1) print(np.add(arr1))\n",
        "1) print(np.add.reduce(arr1))\n",
        "1) print(np.add.accumulate(arr1))\n",
        "\n"
      ],
      "metadata": {
        "id": "xZpJkAQrWUS1"
      }
    },
    {
      "cell_type": "code",
      "source": [
        "import numpy as np\n",
        "arr1 = np.arange(1, 10).reshape(3, -1)\n",
        "print(arr1)\n",
        "#Wat moet je hier invullen om [12 15 18] te krijgen?"
      ],
      "metadata": {
        "id": "GdkxBvhCWswd"
      },
      "execution_count": null,
      "outputs": []
    },
    {
      "cell_type": "markdown",
      "source": [
        "##Oef2\n",
        "Hoe kun je in onderstaande code ervoor zorgen dat de getallen in elke rij worden opgeteld? Het resultaat zou er dus als volgt moeten uitzien (meerdere antwoorden mogelijk):\n",
        "```\n",
        "[ 6 15 24]\n",
        "```\n",
        "1) np.sum(arr1, axis=0)\n",
        "1) np.add.reduce(arr1, axis=0)\n",
        "1) np.sum(arr1, axis=1)\n",
        "1) np.add.reduce(arr1, axis=1)\n",
        "\n",
        "\n"
      ],
      "metadata": {
        "id": "-5ZF9OjeYS2C"
      }
    },
    {
      "cell_type": "code",
      "source": [
        "import numpy as np\n",
        "arr1 = np.arange(1, 10).reshape(3, -1)\n",
        "print(arr1)\n",
        "#Wat moet je hier invullen om [ 6 15 24] te krijgen?"
      ],
      "metadata": {
        "id": "XFuZUNcEYzij"
      },
      "execution_count": null,
      "outputs": []
    },
    {
      "cell_type": "markdown",
      "source": [
        "##Oef3\n",
        "Kijk eens met %timeit of er een verschil in snelheid is tussen sum(arr1) en np.sum(arr1)\n",
        "1) ze zijn beiden (ongeveer) even snel\n",
        "1) np.sum is veel sneller\n",
        "1) sum is veel sneller"
      ],
      "metadata": {
        "id": "bSPCVEL_ZeJp"
      }
    },
    {
      "cell_type": "code",
      "source": [
        "import numpy as np\n",
        "arr1 = np.arange(10_000)"
      ],
      "metadata": {
        "id": "dJQAuNI5Z6f1"
      },
      "execution_count": null,
      "outputs": []
    },
    {
      "cell_type": "markdown",
      "source": [
        "##Oef4\n",
        "Is er een verschil in snelheid tussen np.add(arr1, arr2) en np.add(arr1, arr2, out=arr1)?\n",
        "1) ze zijn beiden (ongeveer) even snel\n",
        "1) np.add(arr1, arr2) is veel sneller\n",
        "1) np.add(arr1, arr2, out=arr1) is veel sneller"
      ],
      "metadata": {
        "id": "EOIz-82jbLPh"
      }
    },
    {
      "cell_type": "code",
      "source": [
        "import numpy as np\n",
        "arr1 = np.arange(10_000)\n",
        "arr2 = np.arange(10_000)\n",
        "#meet de tijd voor np.add(arr1, arr2)\n",
        "#meet de tijd voor np.add(arr1, arr2? out=arr1)"
      ],
      "metadata": {
        "id": "ajvV-eY9cuEx"
      },
      "execution_count": null,
      "outputs": []
    },
    {
      "cell_type": "markdown",
      "source": [
        "##Oef5\n",
        "Wat is het snelste volgens de volgende code:  arr1 + arr2 of arr1 += arr1\n",
        "1) Ze zijn beiden (ongeveer) even snel\n",
        "1) arr1 + arr2 is sneller\n",
        "1) arr1 += arr2 is sneller\n",
        "1) we kunnen de tijd van arr1 += arr2 niet meten met deze code"
      ],
      "metadata": {
        "id": "9PPn9roIdET4"
      }
    },
    {
      "cell_type": "code",
      "source": [
        "import numpy as np\n",
        "arr1 = np.arange(10_000)\n",
        "arr2 = np.arange(10_000)\n",
        "%timeit arr1 + arr2\n",
        "%timeit arr1+= arr2"
      ],
      "metadata": {
        "id": "dF08RDnNda10"
      },
      "execution_count": null,
      "outputs": []
    },
    {
      "cell_type": "markdown",
      "source": [
        "##Oef6\n",
        "Welk van de twee statements met np.add() moet je gebruiken om bij de even getallen 2 op te tellen. Het resultaat zou dus het volgende moeten zijn:\n",
        "```\n",
        "[ 1  4  3  6  5  8  7 10  9 12]\n",
        "```\n",
        "1) arr1 = np.add(arr1, arr2, where=arr1 % 2 == 0)\n",
        "1) np.add(arr1, arr2, out = arr1, where=arr1 % 2 == 0)\n",
        "1) Beide statements werken\n"
      ],
      "metadata": {
        "id": "h2L-oKVtfSl4"
      }
    },
    {
      "cell_type": "code",
      "source": [
        "import numpy as np\n",
        "arr1 = np.arange(1, 11)\n",
        "print(arr1)\n",
        "arr2 = np.full_like(arr1, 2)\n",
        "#arr1 = np.add(arr1, arr2, where=arr1 % 2 == 0)\n",
        "#np.add(arr1, arr2, out = arr1, where=arr1 % 2 == 0)\n",
        "print(arr1)"
      ],
      "metadata": {
        "id": "lMuIscfff5Ne"
      },
      "execution_count": null,
      "outputs": []
    },
    {
      "cell_type": "markdown",
      "source": [
        "##Oef7\n",
        "Hoe kan ik de drie elementen van arr2 optellen bij de laatste drie elementen van arr1? Het resultaat moet er dus als volgt uitzien (meerdere antwoorden mogelijk):\n",
        "```\n",
        "[1 2 4 6 8]\n",
        "```\n",
        "1) np.add.at(arr1,range(-3, 0), arr2)\n",
        "1) arr1 = np.add.at(arr1,list(range(-3, 0)), arr2)\n",
        "1) np.add.at(arr1,range(-3, 0), arr2, out=arr1)\n",
        "1) arr1 = np.add.at(arr1, [-3, -2, -1], arr2)\n"
      ],
      "metadata": {
        "id": "rPyAuNvvj153"
      }
    },
    {
      "cell_type": "code",
      "source": [
        "import numpy as np\n",
        "arr1 = np.arange(1, 6)\n",
        "print('arr1: ', arr1)\n",
        "arr2 = np.arange(1, 4)\n",
        "print('arr2:', arr2)\n",
        "#wat moeten we hier invullen?\n",
        "#np.add.at(arr1,range(-3, 0), arr2)              #antwoord1\n",
        "#arr1 = np.add.at(arr1,list(range(-3, 0)), arr2) #antwoord2\n",
        "#np.add.at(arr1,range(-3, 0), arr2, out=arr1)    #antwoord3\n",
        "#arr1 = np.add.at(arr1, [-3, -2, -1], arr2)      #antwoord4\n",
        "print(arr1)"
      ],
      "metadata": {
        "id": "C4_C4NPLkak3"
      },
      "execution_count": null,
      "outputs": []
    },
    {
      "cell_type": "markdown",
      "source": [
        "##Oef8\n",
        "Ik wil de getallen in arr1 per 7 (bijvoorbeeld de 7 dagen van een week) optellen. Wat moet ik invullen als *indices*? Het resultaat zou dus de volgende reeks moeten zijn:\n",
        "```\n",
        "[ 28  77 126 175]\n",
        "```\n",
        "1) indices = range(0, 29, 7)\n",
        "2) indices = range(0, 28, 7)\n",
        "3) indices = range(0, 27, 7)\n",
        "4) geen van deze antwoorden werkt"
      ],
      "metadata": {
        "id": "yJn8qn6AnYQ6"
      }
    },
    {
      "cell_type": "code",
      "source": [
        "import numpy as np\n",
        "arr1 = np.arange(1, 29)\n",
        "print('arr1: ', arr1)\n",
        "#wat moeten we hier invullen?\n",
        "#indices = range(0, 29, 7)     #antwoord 1\n",
        "#indices = range(0, 28, 7)    #antwoord 2\n",
        "#indices = range(0, 27, 7)    #antwoord 3\n",
        "print('indices:',list(indices))\n",
        "arr1 = np.add.reduceat(arr1,indices)\n",
        "print(arr1)"
      ],
      "metadata": {
        "id": "mNPc5LF4oEtS"
      },
      "execution_count": null,
      "outputs": []
    },
    {
      "cell_type": "markdown",
      "source": [
        "## Oef9\n",
        "In de onderstaande code tellen we de 5 elementen van arr2 op bij de eerste 5 elementen van arr1 (in commentaar). Hoe zou je dit nog kunnen schrijven?\n",
        "\n",
        "Je moet dus het volgende resultaat krijgen\n",
        "```\n",
        "[ 0  3  6  9 12  5  6  7  8  9]\n",
        "```\n",
        "\n",
        "1) arr1 = arr1[range(5)] + arr2\n",
        "1) arr1 = arr1[0, 1, 2, 3, 4] + arr2\n",
        "1) arr1 += arr2\n",
        "1) arr1[range(5)] += arr2\n",
        "1) geen van deze oplossingen werkt"
      ],
      "metadata": {
        "id": "wlKux8Nekd8r"
      }
    },
    {
      "cell_type": "code",
      "source": [
        "import numpy as np\n",
        "arr1 = np.arange(10)\n",
        "arr2 = np.arange(0, 10, 2)\n",
        "print(f'{arr1=}')\n",
        "print(f'{arr2=}')\n",
        "#np.add.at(arr1, range(5), arr2) # hoe zou je dit nog kunnen schrijven\n",
        "print(arr1)\n"
      ],
      "metadata": {
        "id": "VbAJIezrkoSk"
      },
      "execution_count": null,
      "outputs": []
    },
    {
      "cell_type": "markdown",
      "source": [
        "##Oef10\n",
        "In de onderstaande code is np.add.at gebruikt om de 5 getallen van arr2 op te tellen bij de getallen in de posities 3, 4, 7, 8 en 9. Hoe zou je dit schrijven met de +=-operator?"
      ],
      "metadata": {
        "id": "lNeIx4hEmm4V"
      }
    },
    {
      "cell_type": "code",
      "source": [
        "import numpy as np\n",
        "arr1 = np.arange(10)\n",
        "arr2 = np.arange(0, 10, 2)\n",
        "print(f'{arr1=}')\n",
        "print(f'{arr2=}')\n",
        "#np.add.at(arr1, [3, 4, 7, 8, 9], arr2)\n",
        "#hoe zou je dit met de += operator schrijven\n",
        "print(arr1)"
      ],
      "metadata": {
        "id": "EGw9E78amoqW"
      },
      "execution_count": null,
      "outputs": []
    },
    {
      "cell_type": "markdown",
      "source": [
        "#Oplossingen UFuncs\n",
        "##Oef1\n",
        "np.add.reduce(arr1) (antwoord 3) is correct. Bij een array van 2 dimensies wordt er standaard per rij opgeteld.\n",
        "##Oef2\n",
        "np.sum(arr1, axis=1) (antwoord 3) en np.add.reduce(arr1, axis=1 (antwoord 4) zijn correct.\n",
        "##Oef3\n",
        "np.sum is veel sneller (antwoord 2)\n",
        "##Oef4\n",
        "Ze zijn beiden ongeveer even snel(antwoord 1). Normaal is de versie met het out-argument een klein beetje sneller. Wanneer je grotere arrays gebruikt (bijvoorbeeld 10.000.000) zul je waarschijnlijk het verschil al beter zien.\n",
        "##Oef5\n",
        "We kunnen de tijd van arr1 += arr2 niet meten (antwoord 4) want we krijgen een fout. Wanneer we de correcte code gebruiken (global arr1;arr1+=arr2) zien we dat ze allebei weer ongeveer even snel zijn (arr1+=arr2 is iets sneller)\n",
        "##Oef6\n",
        "np.add(arr1, arr2, out = arr1, where=arr1 % 2 == 0) (antwoord 2). Een where-argument zonder out-argument heeft niet veel zin omdat we dan niet weten welke waarde de elementen zullen hebben waar de where-voorwaarde False is.\n",
        "##Oef7\n",
        "np.add.at(arr1,range(-3, 0), arr2) (antwoord 1). np.add.at() geeft altijd None terug. De at-functie heeft ook [geen out-parameter](https://numpy.org/doc/stable/reference/generated/numpy.ufunc.at.html#numpy.ufunc.at)\n",
        "##Oef8\n",
        "indices = range(0, 28, 7) (antwoord 2). Dit is hetzelfde als indices = range(0, arr1.size, 7). Als indices hebben we de waarden [0, 7, 14, 21] nodig. Dat zijn de *ranges*: 0:7, 7:14, 14:21 en 21: . Maar ook antwoord 3 is correct want dat genereert dezelfde indices.\n",
        "##Oef9\n",
        "arr1[range(5)] += arr2 (antwoord 4). We zetten de indexen van np.add.at tussen de vierkante haakjes van arr1\n",
        "##Oef10\n",
        "arr1[[3, 4, 7, 8, 9]] += arr2 (vergeet de dubbele vierkante haakjes niet)"
      ],
      "metadata": {
        "id": "6vWs9q5EXwAp"
      }
    }
  ]
}