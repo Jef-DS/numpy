{
  "nbformat": 4,
  "nbformat_minor": 0,
  "metadata": {
    "colab": {
      "provenance": []
    },
    "kernelspec": {
      "name": "python3",
      "display_name": "Python 3"
    },
    "language_info": {
      "name": "python"
    }
  },
  "cells": [
    {
      "cell_type": "markdown",
      "source": [
        "#Oefeningen op arrays maken in NumPy\n",
        "##Oef1\n",
        "Vertrek van de onderstaande code. Wat moet je invullen om de volgende output te krijgen:\n",
        "```\n",
        "[[0 1 2]\n",
        " [3 4 5]\n",
        " [6 7 8]]\n",
        "```\n",
        "1) arr.reshape(3, -1)\n",
        "1) arr.resize(3, -1)\n",
        "1) arr = arr. reshape(3, -1)\n",
        "1) arr = arr.resize(3, -1)"
      ],
      "metadata": {
        "id": "5TTO4w4tqMdP"
      }
    },
    {
      "cell_type": "code",
      "source": [
        "import numpy as np\n",
        "arr = np.arange(9)\n",
        "#wat moet je hier invullen?\n",
        "print(arr)"
      ],
      "metadata": {
        "id": "f8wspteKqiTj"
      },
      "execution_count": null,
      "outputs": []
    },
    {
      "cell_type": "markdown",
      "source": [
        "##Oef2\n",
        "De volgende code geeft een fout.Hoe kan ik die fout wegkrijgen?\n",
        "\n",
        "1) arr = arr.reshape(3, 3)\n",
        "1) arr = arr.resize(9).reshape(3, -1)\n",
        "1) arr = arr.reshape(-1, -1)\n",
        "1) geen van deze oplossingen werkt"
      ],
      "metadata": {
        "id": "RoB4cnQ2qlMU"
      }
    },
    {
      "cell_type": "code",
      "source": [
        "import numpy as np\n",
        "arr = np.arange(10)\n",
        "arr = arr.reshape(3, -1) #wat moet ik hier zetten\n",
        "print(arr)"
      ],
      "metadata": {
        "id": "PikIjCBOqn88"
      },
      "execution_count": null,
      "outputs": []
    },
    {
      "cell_type": "markdown",
      "source": [
        "##Oef3\n",
        "Wat moet ik invullen in de onderstaande code om de volgende output te krijgen? (meerdere antwoorden mogelijk)\n",
        "\n",
        "```\n",
        "[10 11 12 13 14]\n",
        "```\n",
        "1) arr2 = np.full_like(arr, 10)\n",
        "1) arr2 = np.full_like(arr, 5)\n",
        "1) arr2 = 10\n",
        "1) arr2 = np.full_like(10, arr)\n",
        "1) arr2 = np.full_like(5, arr)"
      ],
      "metadata": {
        "id": "jk0xjL6lquHM"
      }
    },
    {
      "cell_type": "code",
      "source": [
        "import numpy as np\n",
        "arr = np.arange(5)\n",
        "#Wat moet ik hier invullen?\n",
        "print(arr + arr2)"
      ],
      "metadata": {
        "id": "zJBAYESMqw38"
      },
      "execution_count": null,
      "outputs": []
    },
    {
      "cell_type": "markdown",
      "source": [
        "##Oef4\n",
        "Wat is de *shape* van de array *arr* in de onderstaande code\n",
        "\n",
        "1) (10,)\n",
        "1) (9,)\n",
        "1) (11,)"
      ],
      "metadata": {
        "id": "UVjGxQ3pq0F1"
      }
    },
    {
      "cell_type": "code",
      "source": [
        "import numpy as np\n",
        "arr = np.linspace(1, 10, 9)"
      ],
      "metadata": {
        "id": "iyOn_PM0q5c9"
      },
      "execution_count": null,
      "outputs": []
    },
    {
      "cell_type": "markdown",
      "source": [
        "##Oef5\n",
        "Wat is het grootst mogelijke getal dat afgedrukt kan worden met de onderstaande code.\n",
        "\n",
        "1) 9.0\n",
        "1) 10.0\n",
        "1) 8.875\n",
        "1) dat kunnen we niet weten"
      ],
      "metadata": {
        "id": "qr4uuh1yq8NO"
      }
    },
    {
      "cell_type": "code",
      "source": [
        "import numpy as np\n",
        "rng = np.random.default_rng()\n",
        "arr = np.linspace(1, 10, 9)\n",
        "keuze = rng.choice(arr, size=1, replace=False)\n",
        "print(keuze[0])"
      ],
      "metadata": {
        "id": "1o1ydGijrC0-"
      },
      "execution_count": null,
      "outputs": []
    },
    {
      "cell_type": "markdown",
      "source": [
        "##Oef6\n",
        "Wat moeten we invullen in de volgende code om als *shape* (5, 2) te krijgen? (meerdere antwoorden mogelijk)\n",
        "\n",
        "1) arr3 = np.vstack([arr1, arr2])\n",
        "1) arr3 = np.hstack([arr1, arr2])\n",
        "1) arr3 = np.column_stack([arr1, arr2])\n",
        "1) arr3 = np.stack([arr1, arr2], axis=0)\n",
        "1) arr3 = np.stack([arr1, arr2], axis=1)"
      ],
      "metadata": {
        "id": "zBOUrNSjrJJY"
      }
    },
    {
      "cell_type": "code",
      "source": [
        "import numpy as np\n",
        "arr1 = np.arange(1, 6)\n",
        "arr2 = np.arange(11, 16)\n",
        "#Wat moet je hier invullen?\n",
        "print(arr3.shape)"
      ],
      "metadata": {
        "id": "kkMfmYznrMeg"
      },
      "execution_count": null,
      "outputs": []
    },
    {
      "cell_type": "markdown",
      "source": [
        "##Oef7\n",
        "Wat is het verschil in de volgende code tussen `arr1 = np.split(arr, [1])` en `arr1 = np.split(arr, 1)`\n",
        "\n",
        "1) er is geen verschil\n",
        "1) met [1] is de shape van arr1[0] gelijk aan (1, 3) en met 1 is het (3, 3)\n",
        "1) met [1] is de shape van arr1[0] gelijk aan (3, 3) en met 1 is het (1, 3)\n",
        "1) met [1] geeft de code een fout en met 1 niet\n",
        "1) met 1 geeft de code een fout en met [1] niet"
      ],
      "metadata": {
        "id": "ZpnIBg7yrO7A"
      }
    },
    {
      "cell_type": "code",
      "source": [
        "import numpy as np\n",
        "arr = np.arange(9).reshape(-1, 3)\n",
        "#arr1 = np.split(arr, [1])\n",
        "#arr1 = np.split(arr, 1)\n",
        "arr1[0].shape"
      ],
      "metadata": {
        "id": "IBo5t4efrSsB"
      },
      "execution_count": null,
      "outputs": []
    },
    {
      "cell_type": "markdown",
      "source": [
        "##Oef8\n",
        "Wat is de waarde van arr[0] in de volgende code (zoek voor alle zekerheid eens op wat np.empty() doet)\n",
        "\n",
        "1) Dat kunnen we niet op voorhand zeggen\n",
        "1) 0\n",
        "1) nan (not-a-number)\n",
        "1) None"
      ],
      "metadata": {
        "id": "BYgQbiK2rWxk"
      }
    },
    {
      "cell_type": "code",
      "source": [
        "import numpy as np\n",
        "arr = np.empty(4)\n",
        "print(arr)"
      ],
      "metadata": {
        "id": "aGgfyV29ra9K"
      },
      "execution_count": null,
      "outputs": []
    },
    {
      "cell_type": "markdown",
      "source": [
        "##Oef9\n",
        "Hoeveel punten worden er geplot met de onderstaande code.\n",
        "\n",
        "1) 10\n",
        "1) 9\n",
        "1) genoeg om een vloeiende curve te tekenen\n",
        "1) de code geeft een fout (er wordt dus niets geplot)"
      ],
      "metadata": {
        "id": "eQy_zI0Grm4b"
      }
    },
    {
      "cell_type": "code",
      "source": [
        "import numpy as np\n",
        "import matplotlib.pyplot as plt\n",
        "x = np.linspace(10)\n",
        "y = x ** 2\n",
        "plt.plot(x, y)\n",
        "plt.show()"
      ],
      "metadata": {
        "id": "KxV_i2-nrshU"
      },
      "execution_count": null,
      "outputs": []
    },
    {
      "cell_type": "markdown",
      "source": [
        "##Oef10\n",
        "We hebben gezien dat we met np.linalg.inv(arr) de inverse van een matrix kunnen berekenen en vervolgens met de @-operator een vermenigvuldiging kunnen uitvoeren om de oplossing van een stelsel te bekomen.\n",
        "\n",
        "Gebruik dit eens om het volgende stelsel op te lossen. Wat is de uitkomst?\n",
        "\n",
        "$$x_1 + x_2 + 2 x_3 = 7\\\\\n",
        "3x_1 - 2x_2 +x_3=1\\\\\n",
        "2x_1 + 2x_2 + 4x_3 = 12$$\n",
        "\n",
        "1) x1=1,x2=2, x3=2\n",
        "1) x1=0,x2=3, x3=2\n",
        "1) Je krijgt een foutmelding wanneer je de inverse probeert te gebruiken."
      ],
      "metadata": {
        "id": "nsanODWCuxo6"
      }
    },
    {
      "cell_type": "code",
      "source": [],
      "metadata": {
        "id": "JPow7xdiwG41"
      },
      "execution_count": null,
      "outputs": []
    },
    {
      "cell_type": "markdown",
      "source": [
        "##Extra oef\n",
        "we hebben gezien hoe we een stelsel van vergelijkingen kunnen oplossen door de rijen van een matrix van elkaar af te trekken. De code die we gezien hebben was heel specifiek voor een bepaalde matrix. Schrijf eens een functie waarmee je de code in de volgende stelsels kunt oplossen. Je moet de volgende twee oplossingen krijgen (opmerking: de methode zoals wij ze gezien hebben werkt niet wanneer je een 0 zou uitkomen op een diagonaal. Dan moet je twee rijen wisselen. Maar daar moet je in eerste instantie geen rekening mee houden) :\n",
        "(zie eventueel [zie Gauss-Jordan eliminatie](https://nl.wikipedia.org/wiki/Gauss-Jordaneliminatie))\n",
        "```\n",
        "[ 2. -1.  3.]\n",
        "[2. 1.]\n",
        "```"
      ],
      "metadata": {
        "id": "bx4mGNCSr2BO"
      }
    },
    {
      "cell_type": "code",
      "source": [
        "import numpy as np\n",
        "\n",
        "#Vul deze functie aan\n",
        "def los_vergelijkingen_op(matrix, vector):\n",
        "  pass\n",
        "\n",
        "arr_A = np.array([2, 2, -1, 1, 2, 3, 1, -1, 2], dtype=np.float64).reshape(3, -1)\n",
        "vec_y = np.array([-1, 9, 9])\n",
        "oplossing = los_vergelijkingen_op(arr_A, vec_y)\n",
        "print(oplossing)\n",
        "arr_A = np.array([1, 1, 3, -2], dtype=np.float64).reshape(2, -1)\n",
        "vec_y = np.array([3, 4])\n",
        "oplossing = los_vergelijkingen_op(arr_A, vec_y)\n",
        "print(oplossing)"
      ],
      "metadata": {
        "id": "mj3hKxf9r4pO"
      },
      "execution_count": null,
      "outputs": []
    },
    {
      "cell_type": "markdown",
      "source": [
        "#Oplossingen\n",
        "##Oef1\n",
        "arr = arr.reshape(3, -1)(antwoord 3). We moeten *reshape()* gebruiken want we willen alleen de vorm (de dimensies) wijzigen en niet de grootte (dat is wat resize() doet)\n",
        "##Oef2\n",
        "Geen van deze oplossingen werkt(antwoord 4). Het tweede antwoord komt het dichtste in de buurt. De volgende code werkt wel (resize() wijzigt de grootte en geeft None terug):\n",
        "```\n",
        "arr.resize(9)\n",
        "arr = arr.reshape(3, -1)\n",
        "```\n",
        "##Oef3\n",
        "arr2 = np.full_like(arr, 10)(antwoord 1) en arr2 = 10 (antwoord 3). Het eerste antwoord is redelijk logisch. Het derde antwoord zorgt ervoor dat de optelling`arr + 10` wordt.\n",
        "##Oef4\n",
        "(9,) (antwoord 2). Het derde argument van *np.linspace* bepaalt hoeveel getallen er gegenereerd moeten worden. De afstand tussen twee opeenvolgende getallen wordt berekend (bij *np.arange* geven we als derde argument de afstand tussen de opeenvolgende getallen)\n",
        "##Oef5\n",
        "10 (antwoord 2). Standaard is het tweede argument van *np.linspace* inclusief.\n",
        "##Oef6\n",
        "arr3 = np.column_stack([arr1, arr2]) (antwoord 3) en arr3 = np.stack([arr1, arr2], axis=1) (antwoord 5)\n",
        "##Oef7\n",
        "met [1] is de shape van arr1[0] gelijk aan (1, 3) en met 1 is het (3, 3)(antwoord 2).\n",
        "\n",
        "Wanneer we een list meegeven ([1]), zijn dat de indexen waarop gesplitst moet worden. Wanneer we een getal meegeven (1), zeggen we in hoeveel gelijke delen de array moet gesplitst worden.\n",
        "##Oef8\n",
        "Dat kunnen we niet op voorhand zeggen(antwoord 1). De functie *np.empty* voorziet plaats in het geheugen, maar initialiseert de waarden niet. Je krijgt standaard de informatie te zien die (toevallig) op die plaats in het geheugen staat. Wanneer we als type een (Pytyon) object meegeven, worden de elementen geïnitialiseerd op None. We gebruiken *np.empty* wanneer we de waarden achteraf invullen.\n",
        "##Oef9\n",
        "De code geeft een fout(antwoord 4). *np.linspace* is niet hetzelfde als *np.arange*. We moeten altijd een begin- en eindwaarde invullen.\n",
        "##Oef10\n",
        "Je krijgt een foutmelding omdat je de inverse probeert te gebruiken (antwoord 3). De matrix heeft geen inverse. Dus je kunt het stelsel niet oplossen. (de coëfficiënten van de derde rij zijn een veelvoud van de coëfficiënten van de eerste rij)\n",
        "##Extra oef\n",
        "```\n",
        "import numpy as np\n",
        "\n",
        "def los_vergelijkingen_op(matrix, vector):\n",
        "  stelsel = np.column_stack([matrix, vector])\n",
        "  for pivot in range(stelsel.shape[0]):\n",
        "    stelsel[pivot] /= stelsel[pivot, pivot]\n",
        "\n",
        "    for index in range(pivot + 1, stelsel.shape[0]):\n",
        "      stelsel[index] -= stelsel[index, pivot] * stelsel[pivot]\n",
        "  for pivot in range(stelsel.shape[0] - 1, -1, -1):\n",
        "    for index in range(pivot - 1, -1, -1):\n",
        "      stelsel[index] -= stelsel[index, pivot] * stelsel[pivot]\n",
        "  return stelsel[:, -1]\n",
        "\n",
        "arr_A = np.array([2, 2, -1, 1, 2, 3, 1, -1, 2], dtype=np.float64).reshape(3, -1)\n",
        "vec_y = np.array([-1, 9, 9])\n",
        "oplossing = los_vergelijkingen_op(arr_A, vec_y)\n",
        "print(oplossing)\n",
        "arr_A = np.array([1, 1, 3, -2], dtype=np.float64).reshape(2, -1)\n",
        "vec_y = np.array([3, 4])\n",
        "oplossing = los_vergelijkingen_op(arr_A, vec_y)\n",
        "print(oplossing)\n",
        "```\n",
        "\n"
      ],
      "metadata": {
        "id": "-aSsdmlXsZB7"
      }
    }
  ]
}