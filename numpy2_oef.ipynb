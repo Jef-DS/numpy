{
  "nbformat": 4,
  "nbformat_minor": 0,
  "metadata": {
    "colab": {
      "provenance": []
    },
    "kernelspec": {
      "name": "python3",
      "display_name": "Python 3"
    },
    "language_info": {
      "name": "python"
    }
  },
  "cells": [
    {
      "cell_type": "markdown",
      "source": [
        "#Oefeningen op datetime64\n",
        "##Oef1\n",
        "Hoe trek je 1 dag af van de datum in de volgende code:\n",
        "\n",
        "1) datum = datum - 1\n",
        "2) datum = datum - np.datetime64('0000-01-01')\n",
        "3) datum = datum - np.timedelta(1, 'D')\n",
        "4) datum = datum.astimedelta64('D') - np.timedelta64(1, 'D')"
      ],
      "metadata": {
        "id": "G5tiDhcmgi1R"
      }
    },
    {
      "cell_type": "code",
      "source": [
        "import numpy as np\n",
        "datum = np.datetime64('2024-03-01')\n",
        "#Hoe trek je 1 dag af van de datum\n",
        "print(datum)"
      ],
      "metadata": {
        "id": "5BBRq51agp9Z"
      },
      "execution_count": null,
      "outputs": []
    },
    {
      "cell_type": "markdown",
      "source": [
        "##Oef2\n",
        "Zijn de volgende twee datums aan elkaar gelijk (volgens de ==-operator)\n",
        "\n",
        "1) Ja\n",
        "2) Nee"
      ],
      "metadata": {
        "id": "eLrtMsEvgs0B"
      }
    },
    {
      "cell_type": "code",
      "source": [
        "import numpy as np\n",
        "datum1 = np.datetime64('2025')\n",
        "datum2 = np.datetime64('2025-01-01')"
      ],
      "metadata": {
        "id": "-lMO8cFfgvg5"
      },
      "execution_count": null,
      "outputs": []
    },
    {
      "cell_type": "markdown",
      "source": [
        "##Oef3\n",
        "We kunnen een np.timedelta64 van een week delen door een np.timedelta64 van een dag:\n",
        "\n",
        "Het resultaat is natuurlijk 7. Welk van de volgende delingen werken ook (meerdere antwoorden mogelijk):\n",
        "1) np.timedelta64(1, 'Y') / np.timedelta64(1, 'D')\n",
        "2) np.timedelta64(1, 'Y') / np.timedelta64(1, 'W')\n",
        "3) np.timedelta64(1, 'Y') / np.timedelta64(1, 'M')\n",
        "4) np.timedelta64(1, 'M') / np.timedelta64(1, 'D')"
      ],
      "metadata": {
        "id": "lfzlNhdygyeB"
      }
    },
    {
      "cell_type": "code",
      "source": [
        "import numpy as np\n",
        "np.timedelta64(1, 'W') / np.timedelta64(1, 'D')"
      ],
      "metadata": {
        "id": "x1GARhjtg00T"
      },
      "execution_count": null,
      "outputs": []
    },
    {
      "cell_type": "markdown",
      "source": [
        "##Oef4\n",
        "Hoe maak je een tweedimensionele NumPy array waarbij de rijen de maanden voorstellen en de kolommen de dagen van die maand? Het resultaat zou er dus als volgt moeten uitzien wanneer we de array afdrukken: (ik heb een aantal waarden weggelaten om de afdruk overzichtelijk te maken):\n",
        "```\n",
        "array([['2025-01-01', '2025-01-02', '2025-01-03', '2025-01-04',\n",
        "        ...\n",
        "        '2025-01-28', '2025-01-29', '2025-01-30', '2025-01-31'],\n",
        "       ['2025-02-01', '2025-02-02', '2025-02-03', '2025-02-04',\n",
        "       ...\n",
        "        '2025-02-25', '2025-02-26', '2025-02-27', '2025-02-28'],\n",
        "        .\n",
        "        .\n",
        "        .\n",
        "        ['2025-11-01', '2025-11-02', '2025-11-03', '2025-11-04',\n",
        "        ...\n",
        "        '2025-11-27', '2025-11-28', '2025-11-29', '2025-11-30']\n",
        "       ['2025-12-01', '2025-12-02', '2025-12-03', '2025-12-04',\n",
        "        ...\n",
        "        '2025-12-28', '2025-12-29', '2025-12-30', '2025-12-31']],\n",
        "      dtype='datetime64[D]')\n",
        "```\n",
        "\n"
      ],
      "metadata": {
        "id": "2VrGR49Rg5j7"
      }
    },
    {
      "cell_type": "code",
      "source": [],
      "metadata": {
        "id": "AeF0U4Xng9L7"
      },
      "execution_count": null,
      "outputs": []
    },
    {
      "cell_type": "markdown",
      "source": [
        "##Oef5\n",
        "De volgende code vraagt aan de gebruiker een maandnummer en drukt vervolgens alle dagen van de maand januari af. Dat is natuurlijk niet logisch. Pas de code aan zodat er rekening wordt gehouden met de input van de gebruiker.\n",
        "\n",
        "Bijvoorbeeld:\n",
        "```\n",
        "Geef maandnummer: 2\n",
        "alle dagen van maand 2 in 2025\n",
        "['2025-02-01' '2025-02-02' '2025-02-03' '2025-02-04' '2025-02-05'\n",
        " '2025-02-06' '2025-02-07' '2025-02-08' '2025-02-09' '2025-02-10'\n",
        " '2025-02-11' '2025-02-12' '2025-02-13' '2025-02-14' '2025-02-15'\n",
        " '2025-02-16' '2025-02-17' '2025-02-18' '2025-02-19' '2025-02-20'\n",
        " '2025-02-21' '2025-02-22' '2025-02-23' '2025-02-24' '2025-02-25'\n",
        " '2025-02-26' '2025-02-27' '2025-02-28']\n",
        "```\n",
        "Maar ook\n",
        "```\n",
        "Geef maandnummer: 12\n",
        "alle dagen van maand 12 in 2025\n",
        "['2025-12-01' '2025-12-02' '2025-12-03' '2025-12-04' '2025-12-05'\n",
        " '2025-12-06' '2025-12-07' '2025-12-08' '2025-12-09' '2025-12-10'\n",
        " '2025-12-11' '2025-12-12' '2025-12-13' '2025-12-14' '2025-12-15'\n",
        " '2025-12-16' '2025-12-17' '2025-12-18' '2025-12-19' '2025-12-20'\n",
        " '2025-12-21' '2025-12-22' '2025-12-23' '2025-12-24' '2025-12-25'\n",
        " '2025-12-26' '2025-12-27' '2025-12-28' '2025-12-29' '2025-12-30'\n",
        " '2025-12-31']\n",
        "```"
      ],
      "metadata": {
        "id": "EfPG611UhP49"
      }
    },
    {
      "cell_type": "code",
      "source": [
        "import numpy as np\n",
        "maand = int(input(\"Geef maandnummer: \"))\n",
        "arr = np.arange(np.datetime64('2025-01-01'), np.datetime64('2025-02-01'), np.timedelta64(1, 'D'))\n",
        "print(f'alle dagen van maand {maand} in 2025')\n",
        "print(arr)"
      ],
      "metadata": {
        "id": "JJDRq4sChUAm"
      },
      "execution_count": null,
      "outputs": []
    },
    {
      "cell_type": "markdown",
      "source": [
        "\n",
        "\n",
        "\n",
        "\n",
        "\n",
        "\n",
        "\n",
        "\n",
        "\n",
        "##Grote oefening\n",
        "Bij de voorbeelden kon je zien hoe we np.busday kunnen gebruiken om een array te maken met de werkdagen. Hierbij houden we niet alleen rekening met de weekends, maar kunnen we ook rekening houden met de Belgische vakantiedagen. Je kunt de officiële vakantiedagen van een land opvragen bij https://openholidaysapi.org. Voor de Belgische vakantiedagen in het jaar 2025 ziet dat er als volgt uit:\n",
        "\n",
        "```\n",
        "import requests\n",
        "data = requests.get(f'https://openholidaysapi.org/PublicHolidays?countryIsoCode=BE&languageIsoCode=NL&validFrom=2025-01-01&validTo=2025-12-31')\n",
        "```\n",
        "Je krijgt json-data terug die je zult moeten verwerken om er de datums uit te halen.\n",
        "Maak een NumPy array met de werkdagen van 2025. Wanneer je de lengte van de array opvraagt, print(werkdagen.size), moet je 252 uitkomen.\n",
        "Let op: 1 november van 2025 valt op een zaterdag. In sommige bedrijven mogen werknemers zelf kiezen op welke dag ze die dag verlof nemen.\n",
        "Als je de moeilijkere versie wil van het programma, kun je er eens van uitgaan dat de officiële verlofdagen die in het weekend vallen een vrije dag geven op de eerstvolgende maandag. Dan zou je dus maar op 251 werkdagen mogen uitkomen.\n",
        "\n",
        "\n"
      ],
      "metadata": {
        "id": "Qwq4UeFvVsv2"
      }
    },
    {
      "cell_type": "code",
      "source": [
        "import requests\n",
        "data = requests.get(f'https://openholidaysapi.org/PublicHolidays?countryIsoCode=BE&languageIsoCode=NL&validFrom=2025-01-01&validTo=2025-12-31')"
      ],
      "metadata": {
        "id": "xrCNPtJDhiwp"
      },
      "execution_count": null,
      "outputs": []
    },
    {
      "cell_type": "markdown",
      "source": [
        "#Oplossingen\n",
        "##Oef1\n",
        "We kunnen 1 aftrekken van een datum (antwoord 1)\n",
        "\n",
        "##Oef2\n",
        "Ze zijn aan elkaar gelijk (antwoord 1). Je kunt dat zien wanneer je *datum1* cast naar een np.datetime64[D]: `print(datum1.astype('datetime64[D]'))`\n",
        "\n",
        "##Oef3\n",
        "Er is er maar 1 die werkt: np.timedelta64(1, 'Y') / np.timedelta64(1, 'M') (antwoord 3). Er zijn geen vast aantal dagen in een jaar of in een maand. En hoewel elk jaar 52 weken telt, is dat maar een benadering (365/7 != 366/7)\n",
        "##Oef4\n",
        "Er was nog een tweede reden waarom ik het resultaat niet volledig heb afgedrukt: het gaat niet (sorry). In een NumPy array moeten alle rijen hetzelfde aantal waarden hebben omdat een NumPy array een tabel moet vormen. En aangezien de maanden een verschillend aantal dagen hebben, lukt dit niet.\n",
        "##Oef5\n",
        "We kunnen een datetime64 maken met een ISO-string of met een Python date. Hier is de oplossing met een Python date. Het enige probleem hier is de maand december. Om alle dagen van december te zien, moeten we als eindpunt 1 januari 2026 gebruiken:\n",
        "\n",
        "```\n",
        "import numpy as np\n",
        "from datetime import date, timedelta\n",
        "maand = int(input(\"Geef maandnummer: \"))\n",
        "jaar = 2025\n",
        "maand2 = (maand + 1) % 12\n",
        "jaar2 = jaar + 1 if maand2 == 1 else jaar\n",
        "startdatum = date(jaar, maand, 1)\n",
        "einddatum = date(jaar2, maand2, 1)\n",
        "arr = np.arange(np.datetime64(startdatum), np.datetime64(einddatum), np.timedelta64(1, 'D'))\n",
        "print(f'alle dagen van maand {maand} in 2025')\n",
        "print(arr)\n",
        "```\n",
        "We kunnen echter ook de mogelijkheden van *np.datetime64* gebruiken. In de voorbeeldcode hoeven we geen volledige datum te gebruiken. Het volgende werkt ook:\n",
        "\n",
        "```\n",
        "arr = np.arange(np.datetime64('2025-01'), np.datetime64('2025-02'), np.timedelta64(1, 'D'))\n",
        "```\n",
        "En wanneer we 1 maand optellen bij december 2025 komen we uit op januari 2026. Dit wordt dan de eenvoudigste oplossing:\n",
        "\n",
        "\n",
        "```\n",
        "import numpy as np\n",
        "\n",
        "maand = int(input(\"Geef maandnummer\"))\n",
        "jaar = 2025\n",
        "startdatum =np.datetime64(f'2025-{maand:02}')\n",
        "einddatum = startdatum + np.timedelta64(1, 'M')\n",
        "arr = np.arange(startdatum, einddatum, np.timedelta64(1, 'D'))\n",
        "print(f'alle dagen van maand {maand} in 2025')\n",
        "print(arr)\n",
        "```\n",
        "\n",
        "##Grote oefening\n",
        "\n",
        "Je kunt beginnen met de vakantiedagen te downloaden en te bewaren in een Python list:\n",
        "\n",
        "\n",
        "```\n",
        "from datetime import date\n",
        "import json\n",
        "import requests\n",
        "\n",
        "import numpy as np\n",
        "\n",
        "jaar = 2025\n",
        "data = requests.get(f'https://openholidaysapi.org/PublicHolidays?countryIsoCode=BE&languageIsoCode=NL&validFrom={jaar}-01-01&validTo={jaar}-12-31')\n",
        "jsondata = json.loads(data.text)\n",
        "\n",
        "vakantiedagen = []\n",
        "for item in jsondata:\n",
        "    vakantiedagen.append(date.fromisoformat(item['startDate']))\n",
        "\n",
        "datums = np.arange(np.datetime64(f'{jaar}-01-01'), np.datetime64(f'{jaar + 1}-01-01'), np.timedelta64(1, 'D'))\n",
        "werkdagen = datums[np.is_busday(datums, holidays=vakantiedagen)]\n",
        "print(werkdagen.size)\n",
        "```\n",
        "Wanneer we de werkdagen die in het weekend vallen willen verplaatsen naar de eerstvolgende maandag, kunnen we op de volgende manier te werk gaan.\n",
        "\n",
        "Ik gebruik hier een *set* in plaats van een *list*. Er zijn namelijk officiële vakantiedagen die altijd op een zondag vallen (pasen, pinksteren). In dat geval staat de maandag al in de lijst en we willen die niet dubbel.\n",
        "\n",
        "Vervolgens overloop ik de vakantiedagen en kijk ik of ze in het weekend vallen (dagnummer >=5). Indien dat zo is, bereken ik hoeveel dagen ik moet opschuiven (1 dag voor zondag en 2 dagen voor zaterdag). Vervolgens voeg ik die toe aan de extra_dagen-set.\n",
        "\n",
        "Tenslotte voeg ik de twee sets samen. Omdat isbusday alleen werkt met lists van dates, zet ik het resultaat om naar een Python-list:\n",
        "\n",
        "\n",
        "```\n",
        "from datetime import date, timedelta\n",
        "vakantiedagen = set()\n",
        "for item in jsondata:\n",
        "    vakantiedagen.add(date.fromisoformat(item['startDate']))\n",
        "extra_dagen = set()\n",
        "for vakantiedag in vakantiedagen:\n",
        "  dagnummer = vakantiedag.weekday()\n",
        "  if dagnummer >=5:\n",
        "    aantal_dagen_opschuiven = 7 - dagnummer\n",
        "    bijkomende_dag = vakantiedag + timedelta(days=aantal_dagen_opschuiven)\n",
        "    print(f'{vakantiedag} moet {aantal_dagen_opschuiven} dagen opschuiven: {bijkomende_dag}')\n",
        "    extra_dagen.add(bijkomende_dag)\n",
        "\n",
        "vakantiedagen = list(vakantiedagen.union(extra_dagen))\n",
        "```\n",
        "\n",
        "\n",
        "\n"
      ],
      "metadata": {
        "id": "djEp81_4V6mP"
      }
    },
    {
      "cell_type": "code",
      "source": [],
      "metadata": {
        "id": "5oSIdpYXj35d"
      },
      "execution_count": null,
      "outputs": []
    }
  ]
}