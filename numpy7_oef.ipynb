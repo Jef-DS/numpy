{
  "nbformat": 4,
  "nbformat_minor": 0,
  "metadata": {
    "colab": {
      "provenance": []
    },
    "kernelspec": {
      "name": "python3",
      "display_name": "Python 3"
    },
    "language_info": {
      "name": "python"
    }
  },
  "cells": [
    {
      "cell_type": "markdown",
      "source": [
        "#Oefeningen op filteren\n",
        "##Oef1\n",
        "Hoe kun je een array printen met alle elementen in *arr* die groter zijn 5. De output zou dus het volgende moeten zijn:\n",
        "```\n",
        "[7 6 8]\n",
        "```\n",
        "1) print(arr > 5)\n",
        "1) print(arr[arr > 5])\n",
        "1) print(arr[:] > 5)"
      ],
      "metadata": {
        "id": "ot5_XkpDGaYV"
      }
    },
    {
      "cell_type": "code",
      "source": [
        "import numpy as np\n",
        "rng = np.random.default_rng(42)\n",
        "arr = rng.integers(0, 10, size=6)\n",
        "print('arr:\\n', arr)\n",
        "#Wat moet je hier schrijven?"
      ],
      "metadata": {
        "id": "1F3mgDX2GjjA"
      },
      "execution_count": null,
      "outputs": []
    },
    {
      "cell_type": "markdown",
      "source": [
        "##Oef2\n",
        "Maak een array die alleen de waarden van *arr* bevat die groter zijn dan 5\n",
        "Wat is de shape van die array?\n",
        "1) (3,)\n",
        "1) (3, 2)\n",
        "1) (3, 1)\n",
        "1) (2,)"
      ],
      "metadata": {
        "id": "0MJmWrgoI3Za"
      }
    },
    {
      "cell_type": "code",
      "source": [
        "import numpy as np\n",
        "rng = np.random.default_rng(42)\n",
        "arr = rng.integers(0, 10, size=(3, 2))\n",
        "print('arr:\\n', arr)\n"
      ],
      "metadata": {
        "id": "gFd-m8ZMI446"
      },
      "execution_count": null,
      "outputs": []
    },
    {
      "cell_type": "markdown",
      "source": [
        "##Oef3\n",
        "Hoe kun je het aantal elementen in de array afdrukken dat groter is dan 5 ? Het resultaat moet dus 3 zijn. (meerdere antwoorden mogelijk)\n",
        "\n",
        "1) print(np.sum(arr[arr > 5]))\n",
        "1) print(np.sum(arr > 5))\n",
        "1) print(arr[arr > 5].size)\n",
        "1) print((arr > 5).size)\n",
        "1) print(np.count_nonzero(arr > 5))"
      ],
      "metadata": {
        "id": "QEIFpfu6J_rm"
      }
    },
    {
      "cell_type": "code",
      "source": [
        "import numpy as np\n",
        "rng = np.random.default_rng(42)\n",
        "arr = rng.integers(0, 10, size=(3, 2))\n",
        "#print(np.sum(arr[arr > 5]))      #antwoord 1\n",
        "#print(np.sum(arr > 5))           #antwoord 2\n",
        "#print(arr[arr > 5].size)         #antwoord 3\n",
        "#print((arr > 5).size)            #antwoord 4\n",
        "#print(np.count_nonzero(arr > 5)) #antwoord 5\n"
      ],
      "metadata": {
        "id": "YZ-cRUMWKBxm"
      },
      "execution_count": null,
      "outputs": []
    },
    {
      "cell_type": "markdown",
      "source": [
        "##Oef 4\n",
        "Hoe kan ik een array maken (op basis van arr) waarbij alle elementen die kleiner of gelijk zijn aan 5 de waarde 0 krijgen. Alle elementen groter dan 5 moeten hun waarden behouden. (meerdere antwoorden mogelijk)\n",
        "\n",
        "Het resultaat moet er dus als volgt uitzien:\n",
        "```\n",
        "[[0 7]\n",
        " [6 0]\n",
        " [0 8]]\n",
        "```\n",
        "\n",
        "\n",
        "1) arr = np.minimum(arr, 0, where= ~(arr > 5))\n",
        "1) arr = np.minimum(arr, 0, where = not (arr > 5))\n",
        "1) arr = np.where(arr > 5, arr, 0)\n",
        "1) arr[arr <= 5] = 0\n"
      ],
      "metadata": {
        "id": "KwBCDHDSMnKb"
      }
    },
    {
      "cell_type": "code",
      "source": [
        "import numpy as np\n",
        "rng = np.random.default_rng(42)\n",
        "arr = rng.integers(0, 10, size=(3, 2))\n",
        "print('arr:\\n', arr)\n",
        "print(arr > 5)\n",
        "#arr = np.minimum(arr, 0, where= ~(arr > 5))       #antwoord 1\n",
        "#arr = np.minimum(arr, 0, where = not (arr > 5))   #antwoord 2\n",
        "#arr = np.where(arr > 5, arr, 0)                   #antwoord 3\n",
        "#arr[arr <= 5] = 0                                 #antwoord 4\n",
        "print(arr)\n"
      ],
      "metadata": {
        "id": "IDK2kGnFM_QH"
      },
      "execution_count": null,
      "outputs": []
    },
    {
      "cell_type": "markdown",
      "source": [
        "##Oef5\n",
        "Hoe kan ik alle elementen in arr tonen die tussen 5 en 8 liggen (allebei niet inbegrepen)? Het resultaat moet er dus als volgt uitzien:\n",
        "```\n",
        "[7 6]\n",
        "```\n",
        "1) arr = arr[arr > 5 & arr < 8]\n",
        "1) arr = arr[arr > 5 and arr < 8]\n",
        "1) arr = arr[(arr > 5) & (arr < 8)]\n",
        "1) arr = arr[(arr > 5) and (arr < 8)]"
      ],
      "metadata": {
        "id": "U8_fWYzNSGpM"
      }
    },
    {
      "cell_type": "code",
      "source": [
        "import numpy as np\n",
        "rng = np.random.default_rng(42)\n",
        "arr = rng.integers(0, 10, size=(3, 2))\n",
        "#arr = arr[arr > 5 & arr < 8]        #antwoord 1\n",
        "#arr = arr[arr > 5 and arr < 8]      #antwoord 2\n",
        "#arr = arr[(arr > 5) & (arr < 8)]    #antwoord 3\n",
        "#arr = arr[(arr > 5) and (arr < 8)]  #antwoord 4\n",
        "print(arr)"
      ],
      "metadata": {
        "id": "aoFLeNc-SJED"
      },
      "execution_count": null,
      "outputs": []
    },
    {
      "cell_type": "markdown",
      "source": [
        "#Nog een reeks oefeningen op filteren\n",
        "Vertrek van onderstaande code om de temperaturen in Spanje te downloaden."
      ],
      "metadata": {
        "id": "JOR1X8lVTkJh"
      }
    },
    {
      "cell_type": "code",
      "source": [
        "from zipfile import ZipFile\n",
        "import numpy as np\n",
        "import requests\n",
        "data = requests.get('https://www.kaggle.com/api/v1/datasets/download/alexgczs/monthly-temperature-in-spain-1996-2023')\n",
        "with open('data.zip', 'wb') as f:\n",
        "  f.write(data.content)\n",
        "with ZipFile('data.zip', 'r') as zip:\n",
        "  zip.extractall()\n",
        "TEMP_CSV = 'monthly_temperature_spain (1996-2023).csv'\n",
        "with open(TEMP_CSV, 'r') as f:\n",
        "  for _ in range(5):\n",
        "    print(f.readline(), end='')"
      ],
      "metadata": {
        "id": "OG8KWQQXT4eE"
      },
      "execution_count": null,
      "outputs": []
    },
    {
      "cell_type": "markdown",
      "source": [
        "###Aantal records voor 'Madrid'\n",
        "Hoeveel records zijn er voor 'Madrid'? De output zou moeten zijn:`Er zijn 12 records voor Madrid.`"
      ],
      "metadata": {
        "id": "rqTbS08ZB7u0"
      }
    },
    {
      "cell_type": "code",
      "source": [
        "import numpy as np\n",
        "TEMP_CSV = 'monthly_temperature_spain (1996-2023).csv'"
      ],
      "metadata": {
        "id": "6I3qT5VZVsRo"
      },
      "execution_count": null,
      "outputs": []
    },
    {
      "cell_type": "markdown",
      "source": [
        "###Verschil in temperatuur in Valencia\n",
        "Toon voor elke maand het verschil tussen minimum- en maximumtemperatuur in 'Valencia'. De output moet er als volgt uitzien:\n",
        "```\n",
        "Temperatuurverschil in \"Enero\": 7ºC\n",
        "Temperatuurverschil in \"Febrero\": 8ºC\n",
        "Temperatuurverschil in \"Marzo\": 9ºC\n",
        "Temperatuurverschil in \"Abril\": 8ºC\n",
        "Temperatuurverschil in \"Mayo\": 10ºC\n",
        "Temperatuurverschil in \"Junio\": 10ºC\n",
        "Temperatuurverschil in \"Julio\": 11ºC\n",
        "Temperatuurverschil in \"Agosto\": 10ºC\n",
        "Temperatuurverschil in \"Septiembre\": 9ºC\n",
        "Temperatuurverschil in \"Octubre\": 8ºC\n",
        "Temperatuurverschil in \"Noviembre\": 7ºC\n",
        "Temperatuurverschil in \"Diciembre\": 7ºC\n",
        "```\n",
        "\n"
      ],
      "metadata": {
        "id": "I2MN6_50Cc0w"
      }
    },
    {
      "cell_type": "code",
      "source": [
        "import numpy as np\n",
        "TEMP_CSV = 'monthly_temperature_spain (1996-2023).csv'"
      ],
      "metadata": {
        "id": "51KlFbhHV9Er"
      },
      "execution_count": null,
      "outputs": []
    },
    {
      "cell_type": "markdown",
      "source": [
        "###Verschil in temperatuur tussen Madrid en Valencia\n",
        "Toon alle maanden (in het Spaans) waar de gemiddelde temperatuur in Madrid groter is dan de gemiddelde temperatuur in Valencia. (dat is alleen de maand 'Julio')"
      ],
      "metadata": {
        "id": "vYDm_AKFB4nE"
      }
    },
    {
      "cell_type": "code",
      "source": [
        "import numpy as np\n",
        "TEMP_CSV = 'monthly_temperature_spain (1996-2023).csv'"
      ],
      "metadata": {
        "id": "574EazbzWFQb"
      },
      "execution_count": null,
      "outputs": []
    },
    {
      "cell_type": "markdown",
      "source": [
        "###Tussen 100mm en 150mm regen\n",
        "Toon de maanden en de plaatsen waar er tussen 100 mm en 150 mm regen viel (allebei inbegrepen):\n",
        "```\n",
        "Diciembre in Lugo met 121 mm regen\n",
        "Noviembre in Lugo met 129 mm regen\n",
        "Octubre in Lugo met 111 mm regen\n",
        "Febrero in Lugo met 103 mm regen\n",
        "Enero in Lugo met 133 mm regen\n",
        "Abril in Pontevedra met 129 mm regen\n",
        "Marzo in Pontevedra met 144 mm regen\n",
        "Febrero in Pontevedra met 137 mm regen\n",
        "Diciembre in Ourense met 145 mm regen\n",
        "Noviembre in Ourense met 150 mm regen\n",
        "Abril in Ourense met 101 mm regen\n",
        "Marzo in Ourense met 115 mm regen\n",
        "Febrero in Ourense met 106 mm regen\n",
        "Noviembre in Álava met 109 mm regen\n",
        "Diciembre in Cádiz met 100 mm regen\n",
        "```\n",
        "\n"
      ],
      "metadata": {
        "id": "iKkk-0aMJ4mB"
      }
    },
    {
      "cell_type": "code",
      "source": [
        "import numpy as np\n",
        "TEMP_CSV = 'monthly_temperature_spain (1996-2023).csv'"
      ],
      "metadata": {
        "id": "82DOD2xlWPbF"
      },
      "execution_count": null,
      "outputs": []
    },
    {
      "cell_type": "markdown",
      "source": [
        "###De gemiddelde windsnelheid in de 40 steden(een beetje ingewikkelder, denk ik)\n",
        "Toon voor elk van de plaatsen in het bestand de gemiddelde windsnelheid. De output zou er dus als volgt moeten uitzien:\n",
        "\n",
        "```\n",
        "Gemiddelde windsnelheid in Murcia: 9.42 km/u\n",
        "Gemiddelde windsnelheid in Lugo: 10.58 km/u\n",
        "Gemiddelde windsnelheid in Pontevedra: 11.00 km/u\n",
        "Gemiddelde windsnelheid in Ourense: 8.50 km/u\n",
        "Gemiddelde windsnelheid in Cáceres: 7.92 km/u\n",
        "Gemiddelde windsnelheid in Badajoz: 9.75 km/u\n",
        "Gemiddelde windsnelheid in Álava: 11.33 km/u\n",
        "Gemiddelde windsnelheid in Valencia: 11.33 km/u\n",
        "Gemiddelde windsnelheid in Alicante: 13.42 km/u\n",
        "Gemiddelde windsnelheid in Madrid: 9.42 km/u\n",
        "Gemiddelde windsnelheid in Melilla: 14.33 km/u\n",
        "Gemiddelde windsnelheid in Ceuta: 17.08 km/u\n",
        "Gemiddelde windsnelheid in Lleida: 9.33 km/u\n",
        "Gemiddelde windsnelheid in Girona: 9.58 km/u\n",
        "Gemiddelde windsnelheid in Tarragona: 13.08 km/u\n",
        "Gemiddelde windsnelheid in Barcelona: 11.08 km/u\n",
        "Gemiddelde windsnelheid in Guadalajara: 9.25 km/u\n",
        "Gemiddelde windsnelheid in Cuenca: 10.75 km/u\n",
        "Gemiddelde windsnelheid in Toledo: 9.75 km/u\n",
        "Gemiddelde windsnelheid in Albacete: 10.08 km/u\n",
        "Gemiddelde windsnelheid in León: 10.83 km/u\n",
        "Gemiddelde windsnelheid in Zamora: 12.25 km/u\n",
        "Gemiddelde windsnelheid in Valladolid: 11.42 km/u\n",
        "Gemiddelde windsnelheid in Soria: 12.17 km/u\n",
        "Gemiddelde windsnelheid in Burgos: 13.08 km/u\n",
        "Gemiddelde windsnelheid in Segovia: 10.58 km/u\n",
        "Gemiddelde windsnelheid in Ávila: 10.42 km/u\n",
        "Gemiddelde windsnelheid in Salamanca: 12.33 km/u\n",
        "Gemiddelde windsnelheid in Palencia: 11.67 km/u\n",
        "Gemiddelde windsnelheid in Huesca: 10.25 km/u\n",
        "Gemiddelde windsnelheid in Zaragoza: 12.08 km/u\n",
        "Gemiddelde windsnelheid in Teruel: 11.25 km/u\n",
        "Gemiddelde windsnelheid in Jaén: 8.00 km/u\n",
        "Gemiddelde windsnelheid in Huelva: 11.08 km/u\n",
        "Gemiddelde windsnelheid in Granada: 9.00 km/u\n",
        "Gemiddelde windsnelheid in Córdoba: 8.67 km/u\n",
        "Gemiddelde windsnelheid in Cádiz: 16.83 km/u\n",
        "Gemiddelde windsnelheid in Sevilla: 7.75 km/u\n",
        "Gemiddelde windsnelheid in Almería: 14.58 km/u\n",
        "Gemiddelde windsnelheid in Málaga: 10.08 km/u\n",
        "```\n",
        "\n"
      ],
      "metadata": {
        "id": "a1TR_AfPLruB"
      }
    },
    {
      "cell_type": "code",
      "source": [
        "import numpy as np\n",
        "TEMP_CSV = 'monthly_temperature_spain (1996-2023).csv'"
      ],
      "metadata": {
        "id": "hbYudmwKWo1g"
      },
      "execution_count": null,
      "outputs": []
    },
    {
      "cell_type": "markdown",
      "source": [
        "#Oplossingen\n",
        "##Oef1\n",
        "We moeten een boolean array tussen de vierkante haakjes van de array zetten. Dus print(arr[arr > 5]) (antwoord 2)\n",
        "##Oef2\n",
        "Het resultaat is een array met 1 dimensie. Omdat er drie waarden groter zijn dan 5 is het juiste antwoord (3, ) (antwoord 1)\n",
        "##Oef3\n",
        "np.sum() van een boolean array is hetzelfde als np.count_nonzero() omdat alle True waarden als 1 worden geteld. De juiste antwoorden zijn dus print(np.sum(arr > 5))(antwoord 2), print(arr[arr > 5].size) (antwoord 3) en print(np.count_nonzero(arr > 5)) (antwoord 5)\n",
        "##Oef4\n",
        "Het antwoord arr = np.minimum(arr, 0, where = not (arr > 5)) (antwoord 2) is het enige dat niet correct is. Maar het vierde antwoord is natuurlijk het meest voor de hand liggende.\n",
        "##Oef5\n",
        "Je moet de bitwise and gebruiken (&) met ronde haakjes. Dus arr = arr[(arr > 5) & (arr < 8)] (antwoord 3) is correct.\n",
        "\n",
        "##Extra oefening\n",
        "\n",
        "###Aantal records voor 'Madrid'\n",
        "We kunnen de plaatsen opvragen door de laatste kolom te lezen (-1). Met *np.sum()* tellen we het aantal True-waarden(True=1, False=0)\n",
        "```\n",
        "arr_plaatsen = np.genfromtxt(TEMP_CSV, delimiter=',', skip_header=1, usecols=-1, dtype=np.str_)\n",
        "aantal_madrid = np.sum(arr_plaatsen=='Madrid')\n",
        "print(f'Er zijn {aantal_madrid} records voor Madrid.')\n",
        "```\n",
        "###Verschil in temperatuur in Valencia\n",
        "We kunnen de maximum- en de minimumtemperatuur in 1 array inlezen omdat het uiteindelijk allebei integers zullen worden. De array *arr_temp_valencia* bevat 12 rijen en 2 kolommen.\n",
        "\n",
        "Let op met het verwijderen van '°C'. Dat is niet het °-teken van je toetsenbord, maar unicode 186.\n",
        "Om het verschil tussen maximum- en minimumtemperatuur te kennen, moeten we de twee kolommen van elkaar aftrekken.\n",
        "```\n",
        "arr_plaatsen = np.genfromtxt(TEMP_CSV, delimiter=',', skip_header=1, usecols=-1, dtype=np.str_)\n",
        "arr_is_valencia = arr_plaatsen=='Valencia'\n",
        "arr_temp = np.genfromtxt(TEMP_CSV, delimiter=',', skip_header=1, usecols=(2, 3), dtype=np.str_)\n",
        "arr_maanden = np.genfromtxt(TEMP_CSV, delimiter=',', skip_header=1, usecols=0, dtype=np.str_)\n",
        "arr_temp = np.strings.replace(arr_temp,'ºC', '').astype(np.int64) #of chr(186) in plaats van 'º'\n",
        "arr_maanden = arr_maanden[arr_is_valencia]\n",
        "arr_temp_valencia = arr_temp[arr_is_valencia]\n",
        "arr_verschil = arr_temp_valencia[:, 0] - arr_temp_valencia[:, 1]\n",
        "```\n",
        "Let op wanneer we het resultaat willen afdrukken. Bij het downloaden van het bestand is er een variabele *zip* gemaakt (dat was een slecht idee). En we willen de *zip()*-functie van Python gebruiken om de arrays met de maanden en het verschil tezamen te overlopen. We zullen die dus eerst moeten herstellen.\n",
        "```\n",
        "import builtins\n",
        "zip = builtins.zip  #let op: er is een variabele 'zip' gedefinieerd\n",
        "for maand, verschil in zip(arr_maanden[::-1], arr_verschil[::-1]):\n",
        "  print(f'Temperatuurverschil in \"{maand}\": {verschil}{chr(186)}C')\n",
        "```\n",
        "\n",
        "###Verschil in temperatuur tussen Madrid en Valencia\n",
        "We kunnen de gemiddelde temperatuur lezen van kolom 1. De plaatsen staan in kolom -1 en de maanden in kolom 0.\n",
        "\n",
        "We beginnen met de gemiddelde temperatuur om te zetten naar een integer. Let op met de manier hoe °C gedefinieerd is. Vervolgens maken we twee boolean arrays voor 'Madrid' en 'Valencia'.\n",
        "\n",
        "Die arrays gebruiken we om de temperaturen te filteren. Voor de maanden kunnen we zowel arr_plaats_madrid als arr_plaats_valencia gebruiken. Voor elke plaats zijn er immers telkens 12 maanden.\n",
        "```\n",
        "arr_temp = np.genfromtxt(TEMP_CSV, delimiter=',', skip_header=1, usecols=1, dtype=np.str_)\n",
        "arr_plaatsen = np.genfromtxt(TEMP_CSV, delimiter=',', skip_header=1, usecols=-1, dtype=np.str_)\n",
        "arr_maanden = np.genfromtxt(TEMP_CSV, delimiter=',', skip_header=1, usecols=0, dtype=np.str_)\n",
        "arr_temp = np.strings.replace(arr_temp,'ºC', '').astype(np.int64)\n",
        "arr_plaats_madrid = arr_plaatsen=='Madrid'\n",
        "arr_plaats_valencia = arr_plaatsen=='Valencia'\n",
        "arr_temp_madrid = arr_temp[arr_plaats_madrid]\n",
        "arr_temp_valencia = arr_temp[arr_plaats_valencia]\n",
        "arr_maanden_madrid = arr_maanden[arr_plaats_madrid]\n",
        "print(arr_maanden_madrid[arr_temp_madrid > arr_temp_valencia])\n",
        "```\n",
        "###Tussen 100mm en 150mm regen\n",
        "Het belangrijkste hier was de manier hoe je de voorwaarde definieerde:\n",
        "*   De &-operator om twee voorwaarden samen te voegen\n",
        "*   Ronde haakjes rond de voorwaarden omdat & voorrang heeft op de vergelijkingsoperatoren:\n",
        "\n",
        "\n",
        "```\n",
        "arr_regen = np.genfromtxt(TEMP_CSV, delimiter=',', skip_header=1, usecols=5, dtype=np.str_)\n",
        "arr_regen = np.strings.replace(arr_regen,'mm', '').astype(np.int64)\n",
        "arr_maanden = np.genfromtxt(TEMP_CSV, delimiter=',', skip_header=1, usecols=0, dtype=np.str_)\n",
        "arr_plaatsen = np.genfromtxt(TEMP_CSV, delimiter=',', skip_header=1, usecols=-1, dtype=np.str_)\n",
        "arr_is_regen = (arr_regen >=100) & (arr_regen <= 150)\n",
        "arr_maanden = arr_maanden[arr_is_regen]\n",
        "arr_plaatsen = arr_plaatsen[arr_is_regen]\n",
        "arr_regen = arr_regen[arr_is_regen]\n",
        "for maand, plaats, regen in zip(arr_maanden, arr_plaatsen, arr_regen):\n",
        "  print(f'{maand} in {plaats} met {regen} mm regen')\n",
        "```\n",
        "###De gemiddelde windsnelheid in de 40 steden\n",
        "We hebben hier geluk met de structuur van het bestand. Het is gerangschikt volgens stad. Voor de gemiddelde windsnelheid, kunnen we telkens per 12 records de som berekenen en vervolgens delen door 12.\n",
        "\n",
        "Om per 12 de som te berekenen, gebruiken we *np.add.reduceat()*. De indices zijn 0, 12, 24, 36, ..., 468: bereken de som van 0 tot 11, van 12 tot 23, ... .\n",
        "```\n",
        "arr_wind = np.genfromtxt(TEMP_CSV, delimiter=',', skip_header=1, usecols=6, dtype=np.int64)\n",
        "arr_plaatsen = np.genfromtxt(TEMP_CSV, delimiter=',', skip_header=1, usecols=-1, dtype=np.str_)\n",
        "aantal_maanden = 12\n",
        "totaal_records = 480\n",
        "plaatsen = arr_plaatsen[::aantal_maanden]\n",
        "indices = np.arange(0, totaal_records, aantal_maanden)\n",
        "arr_som = np.add.reduceat(arr_wind, indices)\n",
        "arr_gemiddelde = arr_som/aantal_maanden\n",
        "for plaats, gemiddelde in zip(plaatsen, arr_gemiddelde):\n",
        "  print(f'Gemiddelde windsnelheid in {plaats}: {gemiddelde:.2f} km/u')\n",
        "```\n",
        "\n",
        "\n",
        "\n"
      ],
      "metadata": {
        "id": "2cL376s3Io5_"
      }
    }
  ]
}