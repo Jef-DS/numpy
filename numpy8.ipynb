{
  "nbformat": 4,
  "nbformat_minor": 0,
  "metadata": {
    "colab": {
      "provenance": []
    },
    "kernelspec": {
      "name": "python3",
      "display_name": "Python 3"
    },
    "language_info": {
      "name": "python"
    }
  },
  "cells": [
    {
      "cell_type": "markdown",
      "source": [
        "#Speciale indexering\n",
        "##Indexen\n",
        "We hebben gezien dat we tussen de vierkante haakjes van een array een 'filter' kunnen zetten. Een filter is een array met booleanwaarden.\n",
        "\n",
        "We kunnen echter ook een iterable van indexen meegeven."
      ],
      "metadata": {
        "id": "4ymGcaxjZqKU"
      }
    },
    {
      "cell_type": "code",
      "source": [
        "import numpy as np\n",
        "arr = np.array([3, 7, 9, 2, 0, 10, 8, 2, 1, 10])\n",
        "indices = [3, 5]\n",
        "print(arr[indices]) #elementen drie en vijf  worden afgedrukt"
      ],
      "metadata": {
        "id": "56M3kxdwaFEY"
      },
      "execution_count": null,
      "outputs": []
    },
    {
      "cell_type": "markdown",
      "source": [
        "##De shape van het resultaat\n",
        "De shape van de resultaatarray wordt overgenomen van de array met de indexen. Dat kennen we al van de boolean arrays die we als filter kunnen meegeven."
      ],
      "metadata": {
        "id": "HbLZNMxvao2s"
      }
    },
    {
      "cell_type": "code",
      "execution_count": null,
      "metadata": {
        "id": "xVPGmEHKW9uj"
      },
      "outputs": [],
      "source": [
        "import numpy as np\n",
        "rng = np.random.default_rng(42)\n",
        "arr = np.arange(55, 155)\n",
        "print('arr:\\n', arr)\n",
        "indices = rng.integers(0, 100, size=(2, 3))\n",
        "print('indices:\\n', indices)\n",
        "print('arr[indices]:\\n',arr[indices])\n"
      ]
    },
    {
      "cell_type": "markdown",
      "source": [
        "## Rijen en kolommen als indexen\n",
        "Bij een 2-dimensionele array kunnen we ook aparte indexen voor rijen en kolommen gebruiken. Hier drukken we de elementen [0,3] en [1,2] af. In dit voorbeeld hebben beide indexarrays dezelfde *shape*."
      ],
      "metadata": {
        "id": "3jBKijkYb1BX"
      }
    },
    {
      "cell_type": "code",
      "source": [
        "import numpy as np\n",
        "arr = np.arange(12).reshape(3, 4)\n",
        "print('arr:\\n', arr)\n",
        "rijen = [0, 1]\n",
        "kolommen = [3, 2]\n",
        "print(f'{rijen=}')\n",
        "print(f'{kolommen=}')\n",
        "print(f'{arr[rijen, kolommen]=}')"
      ],
      "metadata": {
        "id": "bE3oqctNcEjZ"
      },
      "execution_count": null,
      "outputs": []
    },
    {
      "cell_type": "markdown",
      "source": [
        "##Even herhalen: broadcasting\n",
        "Wanneer we 2 arrays moeten combineren die niet dezelfde *shape* hebben, zijn de broadcast regels van toepassing.\n",
        "* broadcasting verandert het aantal elementen (in tegenstelling to *reshape()*)\n",
        "* een array kan niet naar eender welke *shape* gebroadcast worden\n",
        "\n",
        "Eerst een vraag vooraf: hoeveel rijen en kolommen heeft de onderstaande array?"
      ],
      "metadata": {
        "id": "BEmA3JGQzmus"
      }
    },
    {
      "cell_type": "code",
      "source": [
        "import numpy as np\n",
        "arr = np.array([1, 2, 3])\n",
        "print('arr:\\n', arr) #Hoeveel rijen en kolommen heeft deze array?\n"
      ],
      "metadata": {
        "id": "KqnQ35ya02WV"
      },
      "execution_count": null,
      "outputs": []
    },
    {
      "cell_type": "markdown",
      "source": [
        "Dit was natuurlijk een strikvraag want de array heeft maar 1 dimensie, dus er zijn geen rijen en kolommen. Maar wanneer je '1 rij en 3 kolommen' had geantwoord, was dat geen gek antwoord.\n",
        "\n",
        "Het verschil tussen volgende beide arrays is heel klein. De tweede array is gemaakt door *aan de linkerkant* van de *shape* van arr1 een 1 te zetten. (Herinner je de eerste regel van broadcasting)"
      ],
      "metadata": {
        "id": "W3cDFDVM1JrJ"
      }
    },
    {
      "cell_type": "code",
      "source": [
        "import numpy as np\n",
        "arr1 = np.array([1, 2, 3])\n",
        "print('arr1:\\n', arr1)\n",
        "arr2 = np.array([[1, 2, 3]])\n",
        "print('arr2:\\n', arr2)\n",
        "print(f'{arr1.shape=}')\n",
        "print(f'{arr2.shape=}')"
      ],
      "metadata": {
        "id": "VB1f8BSq1elI"
      },
      "execution_count": null,
      "outputs": []
    },
    {
      "cell_type": "markdown",
      "source": [
        "Vergelijk dat met een 1 toevoegen aan de rechterkant. Die array ziet er helemaal anders uit dan arr1.\n"
      ],
      "metadata": {
        "id": "Bzx5FBmi1p-W"
      }
    },
    {
      "cell_type": "code",
      "source": [
        "import numpy as np\n",
        "arr1 = np.array([1, 2, 3])\n",
        "print('arr1:\\n', arr1)\n",
        "arr2 = np.array([[1], [2], [3]])\n",
        "print('arr2:\\n', arr2)\n",
        "print(f'{arr1.shape=}')\n",
        "print(f'{arr2.shape=}')"
      ],
      "metadata": {
        "id": "tsgoBqdL2Qg9"
      },
      "execution_count": null,
      "outputs": []
    },
    {
      "cell_type": "markdown",
      "source": [
        "Wanneer beide arrays hetzelfde aantal dimensies hebben, mag je een dimensie met 1 element kopiëren om de dimensie bij beide arrays even groot te maken. Want uiteindelijk kunnen twee arrays alleen gecombineerd worden wanneer ze dezelfde *shape* hebben.\n",
        "\n",
        "De functie *np.tile()* kopieert de dimensies van een array. In de volgende code bestaat de nieuwe array uit 3 keer de rij en 1 keer de kolom."
      ],
      "metadata": {
        "id": "6Xhc95sW3JPY"
      }
    },
    {
      "cell_type": "code",
      "source": [
        "import numpy as np\n",
        "arr1 = np.array([1, 2, 3])\n",
        "arr2 = np.arange(1, 10).reshape(3, 3)\n",
        "print(f'{arr1.shape=}')\n",
        "print(f'{arr2.shape=}')\n",
        "print('Eerste array is \"kleiner\" dan de tweede array => 1 links toevoegen')\n",
        "arr1 = arr1.reshape(1, 3)\n",
        "print(f'{arr1.shape=}')\n",
        "print(f'{arr2.shape=}')\n",
        "print('Kopieer de rij zodat we shape (3, 3) krijgen')\n",
        "arr1 = np.tile(arr1, (3, 1)) #3 keer rij en 1 keer kolom\n",
        "print('arr1:\\n', arr1)\n",
        "print('Voeg de arrays samen met np.add()')\n",
        "print('arr1 + arr2:\\n', arr1 + arr2)\n"
      ],
      "metadata": {
        "id": "mpENeI6l2ipg"
      },
      "execution_count": null,
      "outputs": []
    },
    {
      "cell_type": "markdown",
      "source": [
        "##Een kolomarray als rijen\n",
        "In het volgende voorbeeld hebben beide arrays niet dezelfde *shape*: (2, 1) en (2,). Dan zijn de *broadcast* regels van toepassing:\n",
        "*   beide arrays worden even lang gemaakt door de 'kortste' array links aan te vullen met 1-nen. De dimensies worden dan (2, 1) en (1, 2)\n",
        "*   de dimensies worden vergeleken en wanneer één van beide gelijk is aan 1, wordt die uitgebreid. Daardoor krijgen beide arrays de dimensie (2, 2)\n",
        "    * rijen: [[0], [1]] wordt [[0, 0], [1, 1]]\n",
        "    * kolommen: [[3, 2]] wordt [[3, 2], [3, 2]]"
      ],
      "metadata": {
        "id": "dkDULKCHd7hq"
      }
    },
    {
      "cell_type": "code",
      "source": [
        "import numpy as np\n",
        "arr = np.arange(12).reshape(3, 4)\n",
        "print('arr:\\n', arr)\n",
        "rijen = np.array([0, 1]).reshape(2, 1)\n",
        "print('rijen:\\n', rijen)\n",
        "print('gebroadcaste rijen:\\n', np.broadcast_to(rijen, (2, 2)))\n",
        "kolommen = np.array([3, 2])\n",
        "print(f'{kolommen=}')\n",
        "print('gebroadcaste kolommen:\\n', np.broadcast_to(kolommen, (2, 2)))\n",
        "print('arr[rijen, kolommen]\\n', arr[rijen, kolommen])"
      ],
      "metadata": {
        "id": "mLCMYODyeAAa"
      },
      "execution_count": null,
      "outputs": []
    },
    {
      "cell_type": "markdown",
      "source": [
        "##Waarden wijzigen\n",
        "We kunnen niet alleen waarden opvragen, we kunnen ze ook wijzigen:"
      ],
      "metadata": {
        "id": "q8UPuVvqAZgR"
      }
    },
    {
      "cell_type": "code",
      "source": [
        "import numpy as np\n",
        "arr = np.arange(12).reshape(3, 4)\n",
        "print('arr:\\n', arr)\n",
        "rijen = np.array([0, 1]).reshape(2, 1)\n",
        "kolommen = np.array([3, 2])\n",
        "arr[rijen, kolommen] = 100\n",
        "print('arr:\\n', arr)"
      ],
      "metadata": {
        "id": "2GBpp-p8AfsG"
      },
      "execution_count": null,
      "outputs": []
    },
    {
      "cell_type": "markdown",
      "source": [
        "#we kunnen ook += gebruiken\n",
        "In het volgende voorbeeld verhogen we de elementen 0 en -1 met 1\n"
      ],
      "metadata": {
        "id": "FvVHkJcgA5FU"
      }
    },
    {
      "cell_type": "code",
      "source": [
        "import numpy as np\n",
        "arr = np.zeros((4))\n",
        "indexen = [0, -1]\n",
        "\n",
        "arr[indexen] += 1\n",
        "print(arr)"
      ],
      "metadata": {
        "id": "g46ID6swBBPC"
      },
      "execution_count": null,
      "outputs": []
    },
    {
      "cell_type": "markdown",
      "source": [
        "##Meerdere keren verhogen\n",
        "Maar wat gebeurt er wanneer we proberen om  tweemaal te verhogen?\n",
        "\n",
        "Het probleem is dat dit in feite een toewijzing tweemaal uitvoert:\n",
        "```\n",
        "resultaat = arr[0] + 1\n",
        "arr[0] = resultaat\n",
        "arr[0] = resultaat\n",
        "```\n",
        "\n"
      ],
      "metadata": {
        "id": "dLafwbFOCFWg"
      }
    },
    {
      "cell_type": "code",
      "source": [
        "import numpy as np\n",
        "arr = np.zeros(4)\n",
        "indexen = [0, 0]\n",
        "arr[indexen] += 1\n",
        "print(arr)"
      ],
      "metadata": {
        "id": "YXFV_XDEBsjs"
      },
      "execution_count": null,
      "outputs": []
    },
    {
      "cell_type": "markdown",
      "source": [
        "##De 'at'-functie van UFuncs\n",
        "Om meerdere keren 1 op te tellen bij een element, kunnen we beter np.add.at(.., indices,..) gebruiken:"
      ],
      "metadata": {
        "id": "Aw0RXGTZC-lw"
      }
    },
    {
      "cell_type": "code",
      "source": [
        "import numpy as np\n",
        "arr = np.zeros(4)\n",
        "indexen = [0, 0]\n",
        "np.add.at(arr, indexen, 1)\n",
        "print(arr)"
      ],
      "metadata": {
        "colab": {
          "base_uri": "https://localhost:8080/"
        },
        "id": "L3TVZGIGDNT9",
        "outputId": "cf3bc925-47d8-4e73-c0c9-e07fc2cdb2e8"
      },
      "execution_count": null,
      "outputs": [
        {
          "output_type": "stream",
          "name": "stdout",
          "text": [
            "[2. 0. 0. 0.]\n"
          ]
        }
      ]
    },
    {
      "cell_type": "markdown",
      "source": [
        "## Toepassing: 'Binning' van waarden\n",
        "Wanneer we met integers werken, kunnen we tellen hoe dikwijls een bepaalde waarde voorkomt"
      ],
      "metadata": {
        "id": "ETuOK9fJfmUR"
      }
    },
    {
      "cell_type": "code",
      "source": [
        "import matplotlib.pyplot as plt\n",
        "import numpy as np\n",
        "\n",
        "rng = np.random.default_rng(42)\n",
        "getallen = rng.integers(1, 11, size=100)\n",
        "values, counts = np.unique(getallen, return_counts=True)\n",
        "plt.bar(values, counts)\n",
        "plt.show()"
      ],
      "metadata": {
        "id": "HLINe5Xgfvvh"
      },
      "execution_count": null,
      "outputs": []
    },
    {
      "cell_type": "markdown",
      "source": [
        "##Binning met floatwaarden\n",
        "Het probleem met floats is dat we geen bins met een exacte waarde kunnen gebruiken. In plaats daarvan moeten we elke bin een waarde van-tot geven. Wanneer een float tussen die grenswaarden valt, telt hij mee voor een waarde in de bin.(natuurlijk kan dit ook voor integers)\n",
        "\n",
        "We zouden het aantal waarden in een bin zelf kunnen berekenen. Maar gelukkig heeft matplotlib een eigen plt.hist() functie die dat voor ons doet."
      ],
      "metadata": {
        "id": "03dZOo4egdjp"
      }
    },
    {
      "cell_type": "code",
      "source": [
        "import matplotlib.pyplot as plt\n",
        "import numpy as np\n",
        "\n",
        "rng = np.random.default_rng(42)\n",
        "gemiddelde = 4\n",
        "stdev = 2\n",
        "getallen = rng.normal(loc=gemiddelde, scale=stdev, size=10_000)\n",
        "#In een normaalverdeling liggen 99,7% waarden binnen gemiddelde +/- 3*stdev\n",
        "bins = np.linspace(gemiddelde - 3 * stdev, gemiddelde + 3 * stdev, 9)\n",
        "plt.hist(getallen, bins=bins)\n",
        "plt.show()"
      ],
      "metadata": {
        "id": "PhjEbCF4hIGA"
      },
      "execution_count": null,
      "outputs": []
    },
    {
      "cell_type": "markdown",
      "source": [
        "##De histogram()-functie in NumPy\n",
        "Achter de schermen gebruikt matplotlib de functie np.histogram()"
      ],
      "metadata": {
        "id": "ElmCeVYPh-jn"
      }
    },
    {
      "cell_type": "code",
      "source": [
        "import matplotlib.pyplot as plt\n",
        "import numpy as np\n",
        "\n",
        "rng = np.random.default_rng(42)\n",
        "gemiddelde = 4\n",
        "stdev = 2\n",
        "getallen = rng.normal(loc=gemiddelde, scale=stdev, size=10)\n",
        "print(f'{getallen=}')\n",
        "bins = np.linspace(gemiddelde - 3 * stdev, gemiddelde + 3 * stdev, 9)\n",
        "hist, bin_edges = np.histogram(getallen, bins=bins)\n",
        "print(f'{hist=}')\n",
        "print(f'{bin_edges=}')\n",
        "plt.bar(bin_edges[1:], hist)\n",
        "plt.show()"
      ],
      "metadata": {
        "id": "1Jo9oFt7iI1_"
      },
      "execution_count": null,
      "outputs": []
    },
    {
      "cell_type": "markdown",
      "source": [
        "##Een probleem met de vorige oplossing\n",
        "Met de vorige oplossing is er een probleem. De *bars* staan niet op de correcte plaats. In feite hebben we een array nodig met het gemiddelde van twee opeenvolgende grenswaarden. We kunnen die array als volgt samenstellen.\n",
        "*   stel dat ik de array [1, 2, 3, 4] heb\n",
        "*   en ik wil de gemiddelden krijgen: [1.5, 2.5, 3.5]\n",
        "*   dan kan ik de volgende twee arrays samentellen: [1, 2, 3] en [2, 3, 4]\n",
        "*   vervolgens deel ik het resultaat door 2\n",
        "\n"
      ],
      "metadata": {
        "id": "2IWUJTyZpW1i"
      }
    },
    {
      "cell_type": "code",
      "source": [
        "import matplotlib.pyplot as plt\n",
        "import numpy as np\n",
        "\n",
        "rng = np.random.default_rng(42)\n",
        "gemiddelde = 4\n",
        "stdev = 2\n",
        "getallen = rng.normal(loc=gemiddelde, scale=stdev, size=10)\n",
        "bins = np.linspace(gemiddelde - 3 * stdev, gemiddelde + 3 * stdev, 9)\n",
        "hist, bin_edges = np.histogram(getallen, bins=bins)\n",
        "\n",
        "gemiddelden = (bin_edges[:-1] + bin_edges[1:]) / 2\n",
        "print(f'{bin_edges=}')\n",
        "print(f'{gemiddelden=}')\n",
        "plt.bar(gemiddelden, hist)\n",
        "plt.show()\n"
      ],
      "metadata": {
        "id": "XFNwEzaynSvY"
      },
      "execution_count": null,
      "outputs": []
    },
    {
      "cell_type": "markdown",
      "source": [
        "##En wanneer we het zelf willen doen\n",
        "De functie np.searchsorted(grenzen, waarden) zoekt waar de verschillende waarden terecht zouden komen in de gesorteerde array met grenzen.\n",
        "\n",
        "Let op met de array *aantallen*: het eerste element in *aantallen* is het aantal waarden dat kleiner is dan bins[0]. Die waarde hebben we niet nodig (vandaar aantallen[1:] in plt.bar())"
      ],
      "metadata": {
        "id": "_Pe_8XCdivkt"
      }
    },
    {
      "cell_type": "code",
      "source": [
        "import matplotlib.pyplot as plt\n",
        "import numpy as np\n",
        "rng = np.random.default_rng(42)\n",
        "gemiddelde = 4\n",
        "stdev = 2\n",
        "getallen = rng.normal(loc=gemiddelde, scale=stdev, size=10)\n",
        "print(f'{getallen=}')\n",
        "#Bij een normaalverdeling vallen 99,7% van de data binnen gemiddelde +/- 3*stdev\n",
        "bins = np.linspace(gemiddelde - 3 * stdev, gemiddelde + 3 * stdev, 9)\n",
        "print(f'{bins=}')\n",
        "aantallen = np.zeros_like(bins)\n",
        "indexen = np.searchsorted(bins, getallen)\n",
        "print(f'{indexen=}')\n",
        "np.add.at(aantallen, indexen, 1)\n",
        "print(f'{aantallen=}')\n",
        "gemiddelden = (bins[:-1] + bins[1:]) / 2\n",
        "plt.bar(gemiddelden, aantallen[1:])\n",
        "plt.show()\n"
      ],
      "metadata": {
        "id": "ZJG8dqDWjW36"
      },
      "execution_count": null,
      "outputs": []
    },
    {
      "cell_type": "markdown",
      "source": [
        "#Foto's\n",
        "Een kleurenfoto kan voorgesteld worden als een reeks pixels, waarbij elke pixel drie waarden heeft: een combinatie van de kleuren rood, groen en blauw (rgb). Een foto van 100x100 kan als een array worden voorgesteld met de *shape* (100, 100, 3)\n",
        "\n",
        "Met de PIL-module kunnen we images laden. In het volgende voorbeeld downloaden we een voorbeeldfoto die gebruikt wordt door matplotlib. We kunnen die vervolgens openen met *Image.open()*. Deze functie laadt de image niet in het geheugen, maar opent het bestand zodat het daarna gelezen kan worden. De *load()*-functie geeft een *iterable* terug die gebruikt kan worden met de functie *np.asarray()* om een NumPy array te maken (shape: (375, 500, 3))."
      ],
      "metadata": {
        "id": "R60F5JnfXH4X"
      }
    },
    {
      "cell_type": "code",
      "source": [
        "import PIL.Image as Image\n",
        "import numpy as np\n",
        "import requests\n",
        "\n",
        "url = 'https://raw.githubusercontent.com/matplotlib/matplotlib/main/doc/_static/stinkbug.png'\n",
        "response = requests.get(url)\n",
        "FOTO_PNG = 'stinkbug.png'\n",
        "with open(FOTO_PNG, 'wb') as f:\n",
        "    f.write(response.content)\n",
        "img = Image.open(FOTO_PNG)\n",
        "arr = np.asarray(img, dtype=np.uint8)\n",
        "print(f'{arr.shape=}')\n"
      ],
      "metadata": {
        "id": "LYeAlaDaMVZF"
      },
      "execution_count": null,
      "outputs": []
    },
    {
      "cell_type": "markdown",
      "source": [
        "## Een foto tonen met matplotlib\n",
        "De functie *imshow()* van matplotlib kan gebruikt worden om een array met rgb-waarden te tonen:"
      ],
      "metadata": {
        "id": "teuNLlVuaZYw"
      }
    },
    {
      "cell_type": "code",
      "source": [
        "import matplotlib.pyplot as plt\n",
        "import numpy as np\n",
        "import PIL.Image as Image\n",
        "img = Image.open(FOTO_PNG)\n",
        "arr = np.asarray(img, dtype=np.uint8)\n",
        "plt.imshow(arr)\n",
        "plt.show()\n"
      ],
      "metadata": {
        "id": "VgXXL3GvaXVP"
      },
      "execution_count": null,
      "outputs": []
    },
    {
      "cell_type": "markdown",
      "source": [
        "##De resolutie van een foto\n",
        "Wanneer we in de eerste twee dimensies telkens een waarde overslaan verminderen we de resolutie van de foto"
      ],
      "metadata": {
        "id": "F10Ok_O4arJD"
      }
    },
    {
      "cell_type": "code",
      "source": [
        "import matplotlib.pyplot as plt\n",
        "import numpy as np\n",
        "import PIL.Image as Image\n",
        "img = Image.open(FOTO_PNG)\n",
        "arr = np.asarray(img, dtype=np.uint8)\n",
        "arr_kleiner = arr[::2, ::2]  #probeer ook eens met arr[::4, ::4]\n",
        "print(f'{arr_kleiner.shape=}')\n",
        "plt.imshow(arr_kleiner)\n",
        "plt.show()\n"
      ],
      "metadata": {
        "id": "u5TJ4sdxa_VG"
      },
      "execution_count": null,
      "outputs": []
    },
    {
      "cell_type": "markdown",
      "source": [
        "##De grootte van de foto\n",
        "*   We kunnen natuurlijk ook de grootte van de foto wijzigen door slices te maken van de eerste twee dimensies\n",
        "*   De term die hier soms gebruikt wordt is *bijsnijden*."
      ],
      "metadata": {
        "id": "KJzay3Jybz31"
      }
    },
    {
      "cell_type": "code",
      "source": [
        "import matplotlib.pyplot as plt\n",
        "import numpy as np\n",
        "import PIL.Image as Image\n",
        "img = Image.open(FOTO_PNG)\n",
        "arr = np.asarray(img, dtype=np.uint8)\n",
        "arr_300_300 = arr[50:350, 100:400]\n",
        "plt.imshow(arr_300_300)\n",
        "plt.show()\n"
      ],
      "metadata": {
        "id": "lvLTR3lDbByu"
      },
      "execution_count": null,
      "outputs": []
    },
    {
      "cell_type": "markdown",
      "source": [
        "## RGB-waarden en grijswaarden\n",
        "De foto wordt getoond met grijswaarden omdat de RGB-waarden aan elkaar gelijk zijn. Wanneer we maar 1 van de kleuren gebruiken (het maakt natuurlijk niet uit welke), krijgen we een raar resultaat."
      ],
      "metadata": {
        "id": "_b8Zq6nEcPYK"
      }
    },
    {
      "cell_type": "code",
      "source": [
        "import matplotlib.pyplot as plt\n",
        "import numpy as np\n",
        "import PIL.Image as Image\n",
        "img = Image.open(FOTO_PNG)\n",
        "arr = np.asarray(img, dtype=np.uint8)\n",
        "print(f'{arr[0,0]=}')\n",
        "arr_rood = arr[:,:,0]\n",
        "plt.imshow(arr_rood)\n",
        "plt.show()"
      ],
      "metadata": {
        "id": "ERBqVpLCcgOF"
      },
      "execution_count": null,
      "outputs": []
    },
    {
      "cell_type": "markdown",
      "source": [
        "##Colormaps\n",
        "Aangezien we geen rgb-waarden meer hebben in de vorige foto, wordt er een *colormap* gebruikt. De waarde van elk beeldpunt verwijst naar een index in de *colormap*. Vergelijk met VLOOKUP (VERT.ZOEKEN) in Excel of een foreign key in een databank\n",
        "\n",
        "De standaard colormap is 'Viridis'. De colormap bevat geen rgb-waarden (0-255) maar floatwaarden tussen 0.0 en 1.0. We kunnen die natuurlijk omzetten naar een RGB door te vermenigvuldigen met 256 en om te zetten naar een np.uint8.\n",
        "\n",
        "We hebben nu een array met als shape (256, 3). We kunnen die array tonen met plt.imshow(), maar dan is de tekening maar 1 pixel breed. Om de array 20 keer te 'stapelen' op zichzelf, kunnen we broadcasting gebruiken."
      ],
      "metadata": {
        "id": "ELIJ-qX5c2AA"
      }
    },
    {
      "cell_type": "code",
      "source": [
        "import matplotlib.pyplot as plt\n",
        "import matplotlib.colors\n",
        "print(f'{plt.rcParams[\"image.cmap\"]=}')\n",
        "kleuren = (np.array(plt.get_cmap('viridis').colors) * 256).astype(np.uint8)\n",
        "print(\"Eerste 3 waarden van plt.get_cmap('viridis').colors:\\n\",plt.get_cmap('viridis').colors[:3])\n",
        "#plt.imshow(kleuren)\n",
        "plt.imshow(np.broadcast_to(kleuren, (20, 256, 3)))\n",
        "plt.show()\n",
        "\n"
      ],
      "metadata": {
        "id": "o-45cepEdD9T"
      },
      "execution_count": null,
      "outputs": []
    },
    {
      "cell_type": "markdown",
      "source": [
        "## Een eigen colormap\n",
        "* Ik kan een eigen kleurenmap maken door een array te maken met 3 keer de getallen tussen 0 en 255 (een unsigned int8), bijvoorbeeld:\n",
        "   1. de reeks 0-255\n",
        "   1. de reeks 128-255, 254-127\n",
        "   1. de reeks 255-0\n",
        "\n",
        "* Wanneer we np.vstack() gebruiken om de drie arrays samen te voegen heeft de *lookup*-array nu de shape (3, 256)\n",
        "* Dat is de verkeerde vorm om te broadcasten naar (20, 256, 3)\n",
        "* Daarvoor moeten rijen en kolommen omgewisseld worden\n",
        "* In de wiskunde noemt men dat \"een matrix transponeren\"\n",
        "* En NumPy ondersteunt dat met de *transpose()*-functie. Omdat die zo dikwijls gebruikt wordt, kunnen we daarvoor het attribuut *.T* gebruiken van een array:"
      ],
      "metadata": {
        "id": "0nSkG61Li2dW"
      }
    },
    {
      "cell_type": "code",
      "source": [
        "import matplotlib.pyplot as plt\n",
        "import numpy as np\n",
        "arr1 = np.arange(256, dtype=np.uint8)\n",
        "arr2 = np.hstack([np.arange(128, 256, dtype=np.uint8), np.arange(254, 126, -1, dtype=np.uint8)])\n",
        "arr3 = np.arange(255, -1, -1, dtype=np.uint8)\n",
        "lookup = np.vstack([arr1, arr2, arr3])\n",
        "print('Shape van lookup vóór transponeren:', lookup.shape)\n",
        "lookup = lookup.T  #transpose: rijen en kolommen wisselen\n",
        "print('Shape van lookup na transponeren:', lookup.shape)\n",
        "#De vorige twee statements kunnen natuurlijk ook vervangen worden door\n",
        "#lookup = np.columnstack([arr1, arr2, arr3])\n",
        "plt.imshow(np.broadcast_to(lookup, (20, 256, 3)))\n",
        "plt.show()\n",
        "\n"
      ],
      "metadata": {
        "id": "wa_ExX8_OiUD"
      },
      "execution_count": null,
      "outputs": []
    },
    {
      "cell_type": "markdown",
      "source": [
        "##De eigen kleurenmap gebruiken\n",
        "We zouden een *Matplotlib Colormap* kunnen maken. Maar we kunnen ook een eigen techniek gebruiken om een kleurenfoto te maken. De array *lookup* koppelt een waarde tussen 0 en 255 naar een rgb-waarde.\n",
        "\n",
        "De array *tekening* bevat de roodwaarden van de foto. Door de tekening te gebruiken als index van de *lookup*-array, krijgen we een foto met als dimensie de dimensie van de tekening en de kleuren van de *lookup*-array. Op die manier kunnen we de foto tonen met onze eigen kleurenmap."
      ],
      "metadata": {
        "id": "8xtxVuUdkOfy"
      }
    },
    {
      "cell_type": "code",
      "source": [
        "import matplotlib.pyplot as plt\n",
        "import numpy as np\n",
        "import PIL.Image as Image\n",
        "img = Image.open(FOTO_PNG)\n",
        "arr = np.asarray(img, dtype=np.uint8)\n",
        "arr1 = np.arange(256, dtype=np.uint8)\n",
        "arr2 = np.hstack([np.arange(128, 256, dtype=np.uint8), np.arange(255, 127, -1, dtype=np.uint8)])\n",
        "arr3 = np.arange(256, dtype=np.uint8)[::-1]\n",
        "lookup = np.column_stack([arr1, arr2, arr3])\n",
        "tekening = arr[:,:,0]\n",
        "plt.imshow(lookup[tekening])\n",
        "plt.show()"
      ],
      "metadata": {
        "id": "qTTAlOAWjLtO"
      },
      "execution_count": null,
      "outputs": []
    },
    {
      "cell_type": "markdown",
      "source": [
        "## Een colormap die we kunnen gebruiken als Matplotlib colormap\n",
        "Om een Matplotlib colormap te maken op basis van een array met RGB-waarden, kunnen we *ListedColormap* gebruiken. De constructor verwacht een reeks RGB-waarden tussen 0.0 en 1.0.\n",
        "\n",
        "Let op: de cmap-parameter wordt alleen gebruikt wanneer de foto geen RGB-waarden bevat. Daarom nemen we in dit voorbeeld de eerste kleur (de drie kleuren zijn toch aan elkaar gelijk)"
      ],
      "metadata": {
        "id": "WQdQ8IzBmPV8"
      }
    },
    {
      "cell_type": "code",
      "source": [
        "import matplotlib.pyplot as plt\n",
        "import numpy as np\n",
        "from matplotlib.colors import ListedColormap\n",
        "import PIL.Image as Image\n",
        "img = Image.open(FOTO_PNG)\n",
        "arr = np.asarray(img, dtype=np.uint8)\n",
        "arr1 = np.arange(256, dtype=np.uint8)\n",
        "arr2 = np.hstack([np.arange(128, 256, dtype=np.uint8), np.arange(255, 127, -1, dtype=np.uint8)])\n",
        "arr3 = np.arange(256, dtype=np.uint8)[::-1]\n",
        "lookup = np.column_stack([arr1, arr2, arr3])/256 #zet om naar 0.0-1.0\n",
        "plt.imshow(arr[:,:,0], cmap=ListedColormap(lookup))\n",
        "plt.show()\n"
      ],
      "metadata": {
        "id": "v7y7Hk0fmY9N"
      },
      "execution_count": null,
      "outputs": []
    }
  ]
}