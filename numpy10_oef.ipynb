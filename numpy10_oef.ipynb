{
  "nbformat": 4,
  "nbformat_minor": 0,
  "metadata": {
    "colab": {
      "provenance": []
    },
    "kernelspec": {
      "name": "python3",
      "display_name": "Python 3"
    },
    "language_info": {
      "name": "python"
    }
  },
  "cells": [
    {
      "cell_type": "markdown",
      "source": [
        "#Oefeningen op Structured arrays\n",
        "##Oef1\n",
        "Wat moeten we invullen voor de variabele *items* om een correcte structured array *producten* te maken. (meerdere antwoorden mogelijk)\n",
        "\n",
        "1. items = [item.values() for item in producten]\n",
        "1. items = [list(item.values()) for item in producten]\n",
        "1. items = [tuple(item.values()) for item in producten]"
      ],
      "metadata": {
        "id": "-LWWhuxuErsu"
      }
    },
    {
      "cell_type": "code",
      "execution_count": null,
      "metadata": {
        "id": "Nv6LOLZ7Edlw"
      },
      "outputs": [],
      "source": [
        "import numpy as np\n",
        "producten = [{'naam':'potlood', 'aantal':10},\n",
        "             {'naam': 'gom', 'aantal':5},\n",
        "             {'naam': 'meetlat', 'aantal': 7}]\n",
        "#Wat moeten we hier invullen voor de variabele 'items'\n",
        "#items = [item.values() for item in producten]         #antwoord 1\n",
        "#items = [list(item.values()) for item in producten]   #antwoord 2\n",
        "#items = [tuple(item.values()) for item in producten]  #antwoord 3\n",
        "df_producten = np.array(items, dtype={'names':list(producten[0].keys()), 'formats':('U10', 'i4')})\n",
        "print(df_producten)"
      ]
    },
    {
      "cell_type": "markdown",
      "source": [
        "##Oef2\n",
        "Wat is het dtype van een item in *df_producten*:\n",
        "1. [('naam', '<U10'), ('aantal', '<i4')]\n",
        "1. [('naam', '<U7'), ('aantal', '<i8')]\n",
        "1. [('namen', '<U10'), ('aantallen', '<i4')]\n",
        "1. [('namen', '<U7'), ('aantallen', '<i8')]\n"
      ],
      "metadata": {
        "id": "PJSOUBZXLVYO"
      }
    },
    {
      "cell_type": "code",
      "source": [
        "import numpy as np\n",
        "namen = np.array(['potlood', 'gom', 'meetlat'])\n",
        "aantallen = np.array([10, 5, 7])\n",
        "product_type = np.dtype([('naam', namen.dtype), ('aantal', aantallen.dtype)])\n",
        "df_producten = np.array([(namen[i], aantallen[i]) for i in range(len(namen))], dtype=product_type)\n",
        "print(df_producten)"
      ],
      "metadata": {
        "id": "CpC-uwsULXE2"
      },
      "execution_count": null,
      "outputs": []
    },
    {
      "cell_type": "markdown",
      "source": [
        "##Oef3\n",
        "Wat is het pythontype van een element in *df_producten*?\n",
        "1. <class 'tuple'>\n",
        "1. <class 'list'>\n",
        "1. <class 'numpy.void'>\n",
        "1. <class [('naam', namen.dtype), ('aantal', aantallen.dtype)]>\n",
        "1. <class 'numpy.ndarray'>\n"
      ],
      "metadata": {
        "id": "lAkzZiKENnh9"
      }
    },
    {
      "cell_type": "code",
      "source": [
        "import numpy as np\n",
        "namen = np.array(['potlood', 'gom', 'meetlat'])\n",
        "aantallen = np.array([10, 5, 7])\n",
        "product_type = np.dtype([('naam', namen.dtype), ('aantal', aantallen.dtype)])\n",
        "df_producten = np.array([(namen[i], aantallen[i]) for i in range(len(namen))], dtype=product_type)\n",
        "type(df_producten)"
      ],
      "metadata": {
        "id": "B9GPe_lpNplm"
      },
      "execution_count": null,
      "outputs": []
    },
    {
      "cell_type": "markdown",
      "source": [
        "##Oef4\n",
        "De volgende code werkt. We kunnen op die manier de tekst ' mm' weghalen zodat we de waarden kunnen omzetten naar integers. Kunnen we die twee statements niet in 1 statement schrijven? Welke van de volgende alternatieven werkt ook (meerdere antwoorden mogelijk)\n",
        "\n",
        "1. df_regen['f0', 'f1'] = np.strings.replace(df_regen['f0', 'f1'], ' mm', '')\n",
        "1. df_regen[['f0', 'f1']] = np.strings.replace(df_regen[['f0', 'f1']], ' mm', '')\n",
        "1. df_regen = np.strings.replace(df_regen, ' mm', '')\n",
        "1. Geen enkele van de alternatieven werkt"
      ],
      "metadata": {
        "id": "daayUJJ3PMQ_"
      }
    },
    {
      "cell_type": "code",
      "source": [
        "import numpy as np\n",
        "df_regen = np.array([('10 mm', '2 mm'), ('15 mm', '8 mm'), ('20 mm', '5 mm')], dtype='U5, U5')\n",
        "#zet de volgende 2 regels in commentaar om de alternatieven uit te proberen\n",
        "df_regen['f0'] = np.strings.replace(df_regen['f0'], ' mm', '')\n",
        "df_regen['f1'] = np.strings.replace(df_regen['f1'], ' mm', '')\n",
        "#De mogelijke alternatieven\n",
        "#df_regen['f0', 'f1'] = np.strings.replace(df_regen['f0', 'f1'], ' mm', '')     #antwoord1\n",
        "#df_regen[['f0', 'f1']] = np.strings.replace(df_regen[['f0', 'f1']], ' mm', '') #antwoord2\n",
        "#df_regen = np.strings.replace(df_regen, ' mm', '')                             #antwoord3\n",
        "print(df_regen)\n"
      ],
      "metadata": {
        "id": "rnhHMUtzQTEF"
      },
      "execution_count": null,
      "outputs": []
    },
    {
      "cell_type": "markdown",
      "source": [
        "##Oef5\n",
        "Wat is het type van het eerste element van df_regen['max']?\n",
        "1. <class 'numpy.ndarray'>\n",
        "1. <class 'numpy.uint8'>\n",
        "1. <class 'numpy.str_'>\n",
        "1. <class 'numpy.void'>"
      ],
      "metadata": {
        "id": "dsMz4EiFUTMn"
      }
    },
    {
      "cell_type": "code",
      "source": [
        "import numpy as np\n",
        "df_regen = np.array([('10 mm', '2 mm'), ('15 mm', '8 mm'), ('20 mm', '5 mm')],\n",
        "                    dtype={'names':['max', 'min'], 'formats': ['U5', 'U5']})\n",
        "df_regen['max'] = np.strings.replace(df_regen['max'], ' mm', '').astype(np.uint8)\n",
        "df_regen['min'] = np.strings.replace(df_regen['min'], ' mm', '').astype(np.uint8)\n",
        "type(df_regen)\n",
        "\n"
      ],
      "metadata": {
        "id": "jmbRr1JbT_pQ"
      },
      "execution_count": null,
      "outputs": []
    },
    {
      "cell_type": "markdown",
      "source": [
        "## download het bestand"
      ],
      "metadata": {
        "id": "vFY_fLkSXhe9"
      }
    },
    {
      "cell_type": "code",
      "source": [
        "import requests\n",
        "from zipfile import ZipFile\n",
        "data = requests.get('https://www.kaggle.com/api/v1/datasets/download/alexgczs/monthly-temperature-in-spain-1996-2023')\n",
        "with open('data.zip', 'wb') as f:\n",
        "  f.write(data.content)\n",
        "with open ('data.zip', 'rb') as f:\n",
        "  zip_ = ZipFile(f)\n",
        "  zip_.extractall()"
      ],
      "metadata": {
        "id": "81i9KF6nXkmt"
      },
      "execution_count": null,
      "outputs": []
    },
    {
      "cell_type": "markdown",
      "source": [
        "##Oef 6\n",
        "Is *df_spain* in de volgende code een structured array?\n",
        "1. Nee\n",
        "1. Ja"
      ],
      "metadata": {
        "id": "d-sLUmW2YCO2"
      }
    },
    {
      "cell_type": "code",
      "source": [
        "import numpy as np\n",
        "TEMP_CSV = 'monthly_temperature_spain (1996-2023).csv'\n",
        "df_spanje = np.genfromtxt(TEMP_CSV, delimiter=',',dtype=None, encoding='utf-8', usecols=(0, -1))\n",
        "print(f'{df_spanje=}')\n"
      ],
      "metadata": {
        "id": "HfbhRu5KYDxY"
      },
      "execution_count": null,
      "outputs": []
    },
    {
      "cell_type": "markdown",
      "source": [
        "##Oef7\n",
        "Is dit de correcte manier om de inhoud van het CSV-bestand in te lezen als een structured array?\n",
        "1. Nee\n",
        "2. Ja"
      ],
      "metadata": {
        "id": "HGUOaUpGcE-m"
      }
    },
    {
      "cell_type": "code",
      "source": [
        "import numpy as np\n",
        "TEMP_CSV = 'monthly_temperature_spain (1996-2023).csv'\n",
        "df_spanje = np.genfromtxt(TEMP_CSV, delimiter=',',dtype=None, encoding='utf-8', usecols=(0, 1,-1), names=['month', 'avg_temp', 'place'])\n",
        "print(f'{df_spanje=}')"
      ],
      "metadata": {
        "id": "SW62SLsxbcuz"
      },
      "execution_count": null,
      "outputs": []
    },
    {
      "cell_type": "markdown",
      "source": [
        "##Oef8\n",
        "Pas de volgende code aan zodat je alleen de velden avg_temp, max_temp en min_temp leest."
      ],
      "metadata": {
        "id": "wejr2V7kd7Ro"
      }
    },
    {
      "cell_type": "code",
      "source": [
        "import numpy as np\n",
        "TEMP_CSV = 'monthly_temperature_spain (1996-2023).csv'\n",
        "df_spanje = np.genfromtxt(TEMP_CSV, delimiter=',',dtype=None, encoding='utf-8', names=True)\n",
        "print(f'{df_spanje=}')"
      ],
      "metadata": {
        "id": "gnctth-IdsGe"
      },
      "execution_count": null,
      "outputs": []
    },
    {
      "cell_type": "markdown",
      "source": [
        "##Oef9\n",
        "De volgende code leest de velden avg_temp, max_temp en min_temp als een structured array. Aangezien al die velden kunnen worden omgezet naar een integer, kunnen we ook een gewone array gebruiken. Vul de code aan zodat *arr_spanje* een gewone integer-array is met als shape(480, 4)"
      ],
      "metadata": {
        "id": "dGHFfim1e4dX"
      }
    },
    {
      "cell_type": "code",
      "source": [
        "import numpy as np\n",
        "TEMP_CSV = 'monthly_temperature_spain (1996-2023).csv'\n",
        "df_spanje = np.genfromtxt(TEMP_CSV, delimiter=',',dtype=None, encoding='utf-8', names=True, usecols=(1, 2, 3, 4))\n",
        "#Schrijf hier de code die nodig is om een integer-array met shape (480, 4) te maken\n",
        "print(f'{arr_spanje.shape=}')\n",
        "print(f'{arr_spanje=}')\n"
      ],
      "metadata": {
        "id": "yPu0hZLne5z9"
      },
      "execution_count": null,
      "outputs": []
    },
    {
      "cell_type": "markdown",
      "source": [
        "#Oplossingen\n",
        "##Oplossing 1\n",
        "Het juiste antwoord is `items = [tuple(item.values()) for item in producten]`. (antwoord 3)\n",
        "##Oplossing 2\n",
        "Het dtype is `[('naam', '<U7'), ('aantal', '<i8')]` (antwoord 2)\n",
        "##Oplossing 3\n",
        "In tegenstelling tot wat je misschien zou verwachten is het type numpy.void(antwoord 3). Het type numpy.void is een flexibel type: alles mag.\n",
        "##Oplossing 4\n",
        "Geen enkele van de alternatieven werkt (antwoord 4).\n",
        "##Oplossing 5\n",
        "We kunnen het type van een afzonderlijk element in een structured array niet wijzigen. Het type behoort tot het volledige item. Het juiste antwoord is dus <class 'numpy.str_'> (antwoord 3)\n",
        "##Oplossing 6\n",
        "Het is geen structured array (antwoord 1). Je kunt dat zien aan de shape, maar ook aan het type. Wanneer we *names=True* meegeven, zal het wel een structured array zijn.\n",
        "##Oplossing 7\n",
        "Dit is een structured array, maar de eerste regel met de veldnamen is ook als data gelezen. Dit is dus niet de correcte manier (antwoord 1).\n",
        "##Oplossing 8\n",
        "Het is voldoende om *usecols* te gebruiken:\n",
        "\n",
        "`df_spanje = np.genfromtxt(TEMP_CSV, delimiter=',',dtype=None, encoding='utf-8', usecols=(1, 2, 3), names=True)`\n",
        "\n",
        "##Oplossing 9\n",
        "Het is het gemakkelijkste om gebruik te maken van de functie *structured_to_unscructured()* van *numpy.lib.recfunctions*.\n",
        "\n",
        "We moeten eerst 'ºC' en ' Días' verwijderen. Vervolgens kunnen we het type omzetten naar np.int8 (np.uint8 werkt niet omdat er ook negatieve temperaturen zijn.).\n",
        "\n",
        "\n",
        "\n",
        "```\n",
        "import numpy as np\n",
        "import numpy.lib.recfunctions as rf\n",
        "TEMP_CSV = 'monthly_temperature_spain (1996-2023).csv'\n",
        "df_spanje = np.genfromtxt(TEMP_CSV, delimiter=',',dtype=None, encoding='utf-8', names=True, usecols=(1, 2, 3, 4))\n",
        "#Schrijf hier de code die nodig is om een integer-array met shape (480, 4) te maken\n",
        "arr_spanje = rf.structured_to_unstructured(df_spanje)\n",
        "arr_spanje[:,[0, 1, 2]] = np.strings.replace(arr_spanje[:,[0, 1, 2]], 'ºC', '')\n",
        "arr_spanje[:, 3] = np.strings.replace(arr_spanje[:, 3], ' Días', '')\n",
        "arr_spanje = arr_spanje.astype(np.int8)\n",
        "print(f'{arr_spanje.shape=}')\n",
        "print(f'{arr_spanje=}')\n",
        "```\n",
        "\n"
      ],
      "metadata": {
        "id": "NWSV911FK2hR"
      }
    }
  ]
}