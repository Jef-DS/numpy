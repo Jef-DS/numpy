{
  "nbformat": 4,
  "nbformat_minor": 0,
  "metadata": {
    "colab": {
      "provenance": []
    },
    "kernelspec": {
      "name": "python3",
      "display_name": "Python 3"
    },
    "language_info": {
      "name": "python"
    }
  },
  "cells": [
    {
      "cell_type": "markdown",
      "source": [
        "#Hoofdstuk 1: arrays en lists"
      ],
      "metadata": {
        "id": "VwygqF5NMTCI"
      }
    },
    {
      "cell_type": "markdown",
      "source": [
        "##In NumPy gebruiken we arrays\n",
        "In gewone Python gebruiken we lists, in NumPy gebruiken we arrays. Het grote verschil in de volgende code is dat de *range*-functie in Python een generator teruggeeft. We hebben de *list*-functie nodig om er een list van te maken.\n",
        "\n",
        "De functie *np.arange* van NumPy werkt op dezelfde manier als *range*. Maar ze geeft meteen een array terug."
      ],
      "metadata": {
        "id": "wKoRZL614U6A"
      }
    },
    {
      "cell_type": "code",
      "execution_count": null,
      "metadata": {
        "id": "BkIvFSQRhkCl"
      },
      "outputs": [],
      "source": [
        "import numpy as np\n",
        "lijst = list(range(10)) #range geeft een generator terug -> extra list()-functie\n",
        "print(lijst)\n",
        "array = np.arange(10)\n",
        "print(array)"
      ]
    },
    {
      "cell_type": "markdown",
      "source": [
        "Hoe vragen we het laatste element op van een array?"
      ],
      "metadata": {
        "id": "fOIOZiW-43DM"
      }
    },
    {
      "cell_type": "code",
      "source": [
        "import numpy as np\n",
        "lijst = list(range(10)) #range geeft een generator terug -> extra list()-functie\n",
        "print(lijst[-1])\n",
        "array = np.arange(10)\n",
        "print(array[-1])"
      ],
      "metadata": {
        "id": "0MpAdw4_h5kK"
      },
      "execution_count": null,
      "outputs": []
    },
    {
      "cell_type": "markdown",
      "source": [
        "Hoe veranderen we het laatste element van een array."
      ],
      "metadata": {
        "id": "LEZ3IPNm4-Uf"
      }
    },
    {
      "cell_type": "code",
      "source": [
        "import numpy as np\n",
        "lijst = list(range(10)) #range geeft een generator terug -> extra list()-functie\n",
        "lijst[-1] = 10\n",
        "print(lijst)\n",
        "array = np.arange(10)\n",
        "array[-1] = 10\n",
        "print(array)"
      ],
      "metadata": {
        "id": "uYS3_k8Zh_ep"
      },
      "execution_count": null,
      "outputs": []
    },
    {
      "cell_type": "markdown",
      "source": [
        "Hoe tonen we de laatste drie elementen van een array?"
      ],
      "metadata": {
        "id": "f9f1rgEU5Cv2"
      }
    },
    {
      "cell_type": "code",
      "source": [
        "import numpy as np\n",
        "lijst = list(range(10)) #range geeft een generator terug -> extra list()-functie\n",
        "lijst[-1] = 10\n",
        "print(lijst[-3:])\n",
        "array = np.arange(10)\n",
        "array[-1] = 10\n",
        "print(array[-3:])"
      ],
      "metadata": {
        "id": "sOObJPxXijWO"
      },
      "execution_count": null,
      "outputs": []
    },
    {
      "cell_type": "markdown",
      "source": [
        "Hoe veranderen we de drie laatste elementen van een array?"
      ],
      "metadata": {
        "id": "OZBHREBZ5Jmv"
      }
    },
    {
      "cell_type": "code",
      "source": [
        "import numpy as np\n",
        "lijst = list(range(10)) #range geeft een generator terug -> extra list()-functie\n",
        "lijst[-3:] = [11, 12, 13]\n",
        "print(lijst)\n",
        "array = np.arange(10)\n",
        "array[-3:] = [11, 12, 13]\n",
        "print(array)"
      ],
      "metadata": {
        "id": "IggPchP4kdNa"
      },
      "execution_count": null,
      "outputs": []
    },
    {
      "cell_type": "markdown",
      "source": [
        "##Een eerste verschil\n",
        "De functie *np.append* geeft een nieuwe array terug. De oorspronkelijke array is niet gewijzigd.\n",
        "\n",
        "Opmerking: een grote array opbouwen door één voor één elementen toe te voegen via *np.append()* is dus niet efficiënt."
      ],
      "metadata": {
        "id": "FD2WGxYL5OXX"
      }
    },
    {
      "cell_type": "code",
      "source": [
        "import numpy as np\n",
        "lijst = list(range(10)) #range geeft een generator terug -> extra list()-functie\n",
        "lijst.append(10)\n",
        "print(lijst[-3:])\n",
        "array = np.arange(10)\n",
        "array = np.append(array, 10)\n",
        "print(array[-3:])"
      ],
      "metadata": {
        "id": "Dde01VLHitgm"
      },
      "execution_count": null,
      "outputs": []
    },
    {
      "cell_type": "markdown",
      "source": [
        "##Een tweede verschil\n",
        "De meest efficiënte manier in Python om de waarde van de items in een list te verdubbelen is *list comprehension*. In NumPy doen we dat op een meer eenvoudige manier. De NumPy-manier ziet er hetzelfde uit als wanneer we een getal zouden willen verdubbelen."
      ],
      "metadata": {
        "id": "vUSrus8n5de5"
      }
    },
    {
      "cell_type": "code",
      "source": [
        "import numpy as np\n",
        "lijst = list(range(10))\n",
        "array = np.arange(10)\n",
        "lijst = [ item * 2 for item in lijst]\n",
        "print(lijst)\n",
        "array *= 2\n",
        "print(array)"
      ],
      "metadata": {
        "id": "Pa8Rihjmi7fo"
      },
      "execution_count": null,
      "outputs": []
    },
    {
      "cell_type": "markdown",
      "source": [
        "##Numpy is efficiënter\n",
        "Met %timeit kunnen we meten hoe lang het duurt om een statement uit te voeren. Let op: NumPy is niet meer efficiënt wanneer we niet meer op de NumPy manier werken (bijvoorbeeld via list comprehension)"
      ],
      "metadata": {
        "id": "_2uxB5tp5wo0"
      }
    },
    {
      "cell_type": "code",
      "source": [
        "import numpy as np\n",
        "lijst = list(range(10_000))\n",
        "array = np.arange(10_000)\n",
        "print('timing Python list:')\n",
        "%timeit [ item * 2 for item in lijst]\n",
        "print('timeing NumPy array:')\n",
        "%timeit array * 2\n",
        "print('timing verkeerde manier NumPy array:')\n",
        "%timeit np.array([item * 2 for item in array])\n"
      ],
      "metadata": {
        "id": "hLYvMjOLjT2M"
      },
      "execution_count": null,
      "outputs": []
    },
    {
      "cell_type": "markdown",
      "source": [
        "##Een ander belangrijk verschil: geheugenbeheer\n",
        "In NumPy moeten we definiëren hoe groot een integer mag zijn. De standaardgrootte is 64 bits (8 bytes).\n",
        "\n",
        "Wanneer we kleinere getallen willen bijhouden, hebben we minder plaats nodig. (bijvoorbeeld een int16: 2 bytes). Maar let op: wanneer we een type kiezen dat te klein is, krijgen we geen foutmelding."
      ],
      "metadata": {
        "id": "4FxhnRQQ6GYg"
      }
    },
    {
      "cell_type": "code",
      "source": [
        "import numpy as np\n",
        "import sys\n",
        "getal = 42\n",
        "print(f'geheugengebruik Python {getal}:', sys.getsizeof(getal))\n",
        "np_getal = np.int_(getal)\n",
        "print(f'geheugengebruik numpy {np_getal}:', sys.getsizeof(np_getal))\n",
        "getal = 4_200_000_000\n",
        "print(f'geheugengebruik Python {getal}:', sys.getsizeof(getal))\n",
        "np_getal = np.int_(getal)\n",
        "print(f'geheugengebruik numpy {np_getal}:', sys.getsizeof(np_getal))\n",
        "getal_list = [42]\n",
        "print('geheugengebruik Python list:', sys.getsizeof(getal_list))\n",
        "np_getal_list = np.array(getal_list)\n",
        "print('geheugengebruik numpy array:', sys.getsizeof(np_getal_list))\n",
        "getal_list = list(range(10_000))\n",
        "print('geheugengebruik Python list:', sys.getsizeof(getal_list))\n",
        "np_getal_list = np.array(getal_list)\n",
        "print('geheugengebruik numpy array:', sys.getsizeof(np_getal_list))\n",
        "np_getal_list = np_getal_list.astype(np.int16)\n",
        "print(f'geheugengebruik numpy array ({np_getal_list.dtype}): {sys.getsizeof(np_getal_list)}')\n",
        "print('laatste getal:', np_getal_list[-1])\n",
        "np_getal_list = np_getal_list.astype(np.int8)  #we krijgen geen foutmelding\n",
        "print(f'geheugengebruik numpy array ({np_getal_list.dtype}): {sys.getsizeof(np_getal_list)}')\n",
        "print('laatste getal:', np_getal_list[-1])"
      ],
      "metadata": {
        "id": "38Ew7IkolWbv"
      },
      "execution_count": null,
      "outputs": []
    },
    {
      "cell_type": "markdown",
      "source": [
        "We krijgen wel een waarschuwing wanneer we met 1 getal werken, in plaats van een array. Het probleem met een array is dat het inefficiënt zou zijn wanneer NumPy bij elke waarde moet controleren of de waarde niet te groot is voor het type.\n",
        "\n",
        "In de praktijk werk je best altijd met np.int64. Pas wanneer je problemen krijgt met het geheugen kun je eens (heel voorzichtig) kijken of een kleiner integer type ook niet past."
      ],
      "metadata": {
        "id": "XS4clube64Cu"
      }
    },
    {
      "cell_type": "code",
      "source": [
        "import numpy as np\n",
        "\n",
        "grootste_np_int8 = np.int8(np.iinfo(np.int8).max)\n",
        "print(f'Grootste waarde van int8: {grootste_np_int8}')\n",
        "print(f'Laatste waarde van int8 getal + 1) is: {grootste_np_int8 + 1}')\n"
      ],
      "metadata": {
        "id": "p28OurWjmcMG"
      },
      "execution_count": null,
      "outputs": []
    },
    {
      "cell_type": "markdown",
      "source": [
        "Er zijn natuurlijk ook kommagetallen (floating points)"
      ],
      "metadata": {
        "id": "TCr4PWJX7Via"
      }
    },
    {
      "cell_type": "code",
      "source": [
        "import numpy as np\n",
        "np.finfo(np.float64)\n"
      ],
      "metadata": {
        "id": "mU6wgxvyoQVG"
      },
      "execution_count": null,
      "outputs": []
    },
    {
      "cell_type": "markdown",
      "source": [
        "Let op wanneer je twee floating point getallen wil vergelijken. Dikwijls krijg je kleine afrondingsfouten.\n",
        "\n",
        "Om twee floats te vergelijken op gelijkheid, gebruik je best je best  [np.isclose()](https://numpy.org/doc/stable/reference/generated/numpy.isclose.html)"
      ],
      "metadata": {
        "id": "ZRa4cF0RxO3Q"
      }
    },
    {
      "cell_type": "code",
      "source": [
        "import numpy as np\n",
        "\n",
        "getal1 =np.float64( 0.2+ 0.2 + 0.2)\n",
        "print(getal1 == np.float64(0.6))\n",
        "#correcte manier om te vergelijken:\n",
        "print(np.isclose( getal1, np.float64(0.6)))"
      ],
      "metadata": {
        "id": "QAlN-u5wxc8X"
      },
      "execution_count": null,
      "outputs": []
    },
    {
      "cell_type": "markdown",
      "source": [
        "NumPy staat voor *numerical Python*. De module dient om met getallen te werken. Maar we kunnen ook teksten bewaren in een array. Let echter op wanneer we types proberen te combineren in een array. (10 is geen integer hier)"
      ],
      "metadata": {
        "id": "mPg6MXQX7bCi"
      }
    },
    {
      "cell_type": "code",
      "source": [
        "import numpy as np\n",
        "\n",
        "lijst = ['Karen', 'Kristel', 'Kathleen']\n",
        "arr = np.array(lijst)\n",
        "print('Het type van de array', arr.dtype)\n",
        "lijst.append(10)\n",
        "arr = np.append(arr, 10)\n",
        "print('De lijst met str en int:', lijst)\n",
        "print('De array met str en int (let op het type van 10):', arr)\n",
        "print('Het type van de array', arr.dtype)"
      ],
      "metadata": {
        "id": "9oOF8_8nnv_R"
      },
      "execution_count": null,
      "outputs": []
    },
    {
      "cell_type": "markdown",
      "source": [
        "We kunnen ook arrays met meerdere dimensies gebruiken. Let op de subtiele verschillen met een Pytyon list."
      ],
      "metadata": {
        "id": "j_750DLl71Xu"
      }
    },
    {
      "cell_type": "code",
      "source": [
        "import numpy as np\n",
        "lijst = [[1, 2, 3],[4, 5, 6]]\n",
        "arr = np.array(lijst)\n",
        "print('De lijst:', lijst)\n",
        "print('De array:', arr, sep='\\n')\n",
        "print('2de rij laatste kolom van lijst:', lijst[1][-1])\n",
        "print('2de rij laatste kolom van array:', arr[1, -1])\n",
        "print('De volledige 2de rij van lijst', lijst[1])  #lijst[1][:] werkt ook\n",
        "print('De volledige 2de rij van array', arr[1]) #arr[1, :] werkt ook\n",
        "print('laatste kolom van lijst', [rij[-1] for rij in lijst])\n",
        "print('laatste kolom van array', arr[:, -1])\n",
        "print('De \"lengte\" van de lijst:', len(lijst))\n",
        "print('Het aantal elementen in de lijst:', sum([len(rij) for rij in lijst]))\n",
        "print('De size (of len) van de array:', arr.size)\n",
        "print('De vorm van de array:', arr.shape)"
      ],
      "metadata": {
        "id": "p00GmJdkpy7r"
      },
      "execution_count": null,
      "outputs": []
    },
    {
      "cell_type": "markdown",
      "source": [
        "Het is niet zo gemakkelijk om de vierkante haakjes van een array met meer dimensies op de juiste plaats te zetten. Een veelgebruikte techniek om met meerdere dimensies te werken, is de *reshape*-functie gebruiken. Een array van 20 elementen kan omgevormd worden tot een array van 4 rijen en 5 kolommen. Wanneer je niet graag rekent, kun je als waarde voor de overblijvende dimensie '-1' invullen. NumPy deelt dan 20 door 4 en weet dat het aantal kolommen 5 is."
      ],
      "metadata": {
        "id": "tKuc22qz7-Vv"
      }
    },
    {
      "cell_type": "code",
      "source": [
        "import numpy as np\n",
        "arr = np.arange(20).reshape(4, -1)\n",
        "print(arr)\n"
      ],
      "metadata": {
        "id": "aUQLKSHauUnK"
      },
      "execution_count": null,
      "outputs": []
    }
  ]
}