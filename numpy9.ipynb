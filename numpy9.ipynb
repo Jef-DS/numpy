{
  "nbformat": 4,
  "nbformat_minor": 0,
  "metadata": {
    "colab": {
      "provenance": []
    },
    "kernelspec": {
      "name": "python3",
      "display_name": "Python 3"
    },
    "language_info": {
      "name": "python"
    }
  },
  "cells": [
    {
      "cell_type": "markdown",
      "source": [
        "#NumPy arrays sorteren\n",
        "##np.sort()\n",
        "Net zoals in Python, hebben we in NumPy ook een *np.sort()*-functie. Die functie geeft de gesorteerde array terug. De oorspronkelijke array is niet gewijzigd."
      ],
      "metadata": {
        "id": "bsB_I01ti434"
      }
    },
    {
      "cell_type": "code",
      "execution_count": 1,
      "metadata": {
        "id": "0wRFelNgiPyx",
        "colab": {
          "base_uri": "https://localhost:8080/"
        },
        "outputId": "acb0e388-a25c-4c87-f323-b51c53a710a3"
      },
      "outputs": [
        {
          "output_type": "stream",
          "name": "stdout",
          "text": [
            "arr=array([13,  4, 15,  6,  4, 15, 12, 13, 19,  7])\n",
            "na sorteren:\n",
            "arr_gesorteerd=array([ 4,  4,  6,  7, 12, 13, 13, 15, 15, 19])\n"
          ]
        }
      ],
      "source": [
        "import numpy as np\n",
        "rng = np.random.default_rng(12345)\n",
        "arr = rng.integers(low=0, high=20, size=10)\n",
        "\n",
        "arr_gesorteerd = np.sort(arr)\n",
        "print(f'{arr=}')\n",
        "print('na sorteren:')\n",
        "print(f'{arr_gesorteerd=}')\n"
      ]
    },
    {
      "cell_type": "markdown",
      "source": [
        "##ndarray.sort()\n",
        "Er is ook een sort()-functie van de array-klasse. Die sorteert de oorspronkelijke array"
      ],
      "metadata": {
        "id": "Ip6t49ofjhYc"
      }
    },
    {
      "cell_type": "code",
      "source": [
        "import numpy as np\n",
        "rng = np.random.default_rng(12345)\n",
        "arr = rng.integers(low=0, high=20, size=10)\n",
        "print(f'{arr=}')\n",
        "arr.sort()\n",
        "print('na sorteren:')\n",
        "print(f'{arr=}')"
      ],
      "metadata": {
        "id": "1ObmXp8zju93"
      },
      "execution_count": null,
      "outputs": []
    },
    {
      "cell_type": "markdown",
      "source": [
        "##De axis-parameter\n",
        "In een array met 2 dimensies kunnen we per rij (='over de kolommen heen') sorteren."
      ],
      "metadata": {
        "id": "dhsm_n7sj58o"
      }
    },
    {
      "cell_type": "code",
      "source": [
        "import numpy as np\n",
        "rng = np.random.default_rng(12345)\n",
        "arr = rng.integers(low=0, high=20, size=10).reshape(2, 5)\n",
        "print('arr:\\n', arr)\n",
        "print('arr gesorteerd over de kolommen heen:\\n', np.sort(arr, axis=1))"
      ],
      "metadata": {
        "id": "m-k7XhflkqcG"
      },
      "execution_count": null,
      "outputs": []
    },
    {
      "cell_type": "markdown",
      "source": [
        "##De np.argsort()-functie\n",
        "We hebben al een aantal voorbeelden gezien waarbij we een bestand lezen met verschillende kolommen. Omdat de data in de kolommen verschillen, kunnen we de data niet in 1 array inlezen. Neem als voorbeeld de plaatsen en de temperaturen in Spanje.\n",
        "\n",
        "Wanneer we de ene array sorteren, moet de andere array op dezelfde manier gesorteerd worden. Hiervoor kunnen we *np.argsort()* gebruiken. In plaats van de elementen van de array te sorteren, krijgen we de indexen terug die nodig zijn om de array te sorteren.\n",
        "\n",
        "In het volgende voorbeeld sorteren we op voornaam. Door *np.argsort()* te gebruiken, kunnen we *arr_namen* en *arr_datums* op dezelfde manier sorteren."
      ],
      "metadata": {
        "id": "IGUnzuZUlERR"
      }
    },
    {
      "cell_type": "code",
      "source": [
        "import numpy as np\n",
        "arr_namen = np.array(['Karen', 'Kristel', 'Kathleen'])\n",
        "arr_datums = np.array(['1974-10-28', '1975-12-10', '1978-06-18'], dtype=np.datetime64)\n",
        "indexen = np.argsort(arr_namen)\n",
        "for naam, geboortedatum in zip(arr_namen[indexen], arr_datums[indexen]):\n",
        "  print(f'{naam} geboren op {geboortedatum}')"
      ],
      "metadata": {
        "id": "CCHOUGuelQbD"
      },
      "execution_count": null,
      "outputs": []
    },
    {
      "cell_type": "markdown",
      "source": [
        "##rijen sorteren\n",
        "Wanneer we een array met 2 dimensies hebben, kunnen we volledige rijen sorteren. We moeten dan kiezen op basis van welke kolom we willen sorteren. Ook hier kan np.argsort() helpen."
      ],
      "metadata": {
        "id": "N3-XOx35lNmt"
      }
    },
    {
      "cell_type": "code",
      "source": [
        "import numpy as np\n",
        "rng = np.random.default_rng(12345)\n",
        "arr = rng.integers(low=0, high=20, size=10).reshape(5, 2)\n",
        "print('arr:\\n', arr)\n",
        "print('sorteren op kolom 0')\n",
        "print(arr[[np.argsort(arr[:, 0])]])\n",
        "print('sorteren op kolom 1')\n",
        "print(arr[[np.argsort(arr[:, 1])]])"
      ],
      "metadata": {
        "id": "cV7HXV3zlZyk"
      },
      "execution_count": null,
      "outputs": []
    },
    {
      "cell_type": "markdown",
      "source": [
        "We kunnen natuurlijk ook op kolommen sorteren. Maar let op: een array met geavanceerde indexen krijgt de shape van de indexen. Wanneer we de statements van het vorige voorbeeld blindelings aanpassen, voegen we een extra dimensie toe. De kolomindex heeft immers 2 dimensies.\n",
        "\n",
        "Daarom moeten we een array met 1 dimensie gebruiken: arr[0] en arr[1]. We zien hier dat er ook twee versies bestaan van *argsort*. Maar in dit geval gaat het over dezelfde functie (er is geen verschil)"
      ],
      "metadata": {
        "id": "-GanpHMcZocP"
      }
    },
    {
      "cell_type": "code",
      "source": [
        "import numpy as np\n",
        "rng = np.random.default_rng(12345)\n",
        "arr = rng.integers(low=0, high=20, size=10).reshape(5, 2)\n",
        "print('arr:\\n', arr)\n",
        "print('kolommen sorteren op rij 0')\n",
        "#print(arr[:, [np.argsort(arr[0, :])]])\n",
        "print(arr[:, np.argsort(arr[0])])\n",
        "print('kolommen sorteren op rij 2')\n",
        "#print(arr[:, [np.argsort(arr[2, :])]])\n",
        "print(arr[:, arr[2].argsort()])"
      ],
      "metadata": {
        "id": "G6E8_2KVZs6l"
      },
      "execution_count": null,
      "outputs": []
    },
    {
      "cell_type": "markdown",
      "source": [
        "##De drie kleinste waarden: partitioning\n",
        "Soms zijn we geïnteresseerd in de k kleinste waarden (wanneer? We zien zo dadelijk een voorbeeld). Hiervoor kunnen we de *np.partition()*-functie gebruiken.\n",
        "\n",
        "De functie zet het k-de kleinste element op de juiste positie. De waarden die kleiner zijn, staan links. De waarden die groter zijn staan rechts. Op die manier hebben we de array verdeeld in twee 'partities'. Let op: binnen de twee partities ligt de volgorde niet vast. In dit geval is de totale array gesorteerd, maar dat hoeft niet altijd het geval te zijn."
      ],
      "metadata": {
        "id": "fnLIm-pLnZlF"
      }
    },
    {
      "cell_type": "code",
      "source": [
        "import numpy as np\n",
        "import numpy as np\n",
        "rng = np.random.default_rng(42)\n",
        "arr = rng.integers(low=0, high=20, size=10)\n",
        "print(f'{arr=}')\n",
        "arr_kleinsten = np.partition(arr, kth=3)\n",
        "print('Gepartitioneerd op het vierde kleinste element(8)')\n",
        "print(f'{arr_kleinsten[:3]=}')"
      ],
      "metadata": {
        "id": "7uxX2244oQJV"
      },
      "execution_count": null,
      "outputs": []
    },
    {
      "cell_type": "markdown",
      "source": [
        "##K-dichtste buren\n",
        "Stel dat we een aantal x- en y-coördinaten hebben van een aantal locaties. Voor elke locatie willen we de dichtste buurlocatie zien."
      ],
      "metadata": {
        "id": "I2DKVHy5sOTP"
      }
    },
    {
      "cell_type": "code",
      "source": [
        "import matplotlib.pyplot as plt\n",
        "import numpy as np\n",
        "rng = np.random.default_rng(42)\n",
        "x = rng.integers(low=1, high=20, size=10)\n",
        "y = rng.integers(low=1, high=20, size=10)\n",
        "punten = np.column_stack([x, y])\n",
        "print(f'{punten=}')\n",
        "\n",
        "plt.scatter(x, y)\n",
        "plt.show()\n"
      ],
      "metadata": {
        "id": "F1IEyCIhsfCB"
      },
      "execution_count": null,
      "outputs": []
    },
    {
      "cell_type": "markdown",
      "source": [
        "##De dichtste buur\n",
        "We kunnen de afstand tussen twee punten in een vlak berekenen met\n",
        "$afstand_{12} = \\sqrt{(x_2 - x_1)^2 + (y_2 - y_1)^2}$. Maar aangezien we afstanden willen vergelijken met elkaar is alleen de relatieve grootte belangrijk. Omdat de berekening van een vierkantswortel een zware berekening is, laten we die weg.\n",
        "\n",
        "Om de x- en y-coordinaten van elkaar af te trekken, kunnen we *np.subtract.outer()* gebruiken. De *outer()*-functie van *UFunc* neemt alle mogelijke combinaties van de twee arrays.\n",
        "\n",
        "We zien dat de afstand van een punt tot zichzelf 0 is. Dat is de eerste kolom in *afstanden*. In de tweede kolom vinden we de dichtste buur.\n",
        "\n"
      ],
      "metadata": {
        "id": "SnEU34-OOe6O"
      }
    },
    {
      "cell_type": "code",
      "source": [
        "import matplotlib.pyplot as plt\n",
        "import numpy as np\n",
        "rng = np.random.default_rng(42)\n",
        "x = rng.integers(low=1, high=20, size=10)\n",
        "y = rng.integers(low=1, high=20, size=10)\n",
        "verschil_x = np.subtract.outer(x, x) **2\n",
        "verschil_y = np.subtract.outer(y, y) **2\n",
        "afstanden = verschil_x + verschil_y\n",
        "\n",
        "print('afstanden:\\n', afstanden)\n",
        "print('De diagonaal:', np.diag(afstanden))\n",
        "K=2\n",
        "nearest_partition = np.argpartition(afstanden, K, axis=1)\n",
        "print('dichtste buren:\\n', nearest_partition)\n",
        "plt.scatter(x, y)\n",
        "for i in range(x.shape[0]):\n",
        "  for j in nearest_partition[i, :K]:\n",
        "    plt.plot([x[i], x[j]], [y[i], y[j]], 'r-')\n",
        "plt.show()\n"
      ],
      "metadata": {
        "id": "i61g-dcItDhb"
      },
      "execution_count": null,
      "outputs": []
    },
    {
      "cell_type": "markdown",
      "source": [
        "#Een andere manier om de afstanden te berekenen: np.newaxis\n",
        "We hebben *reshape()* al gezien om een extra dimensie toe te voegen aan een array. Het attribuut *np.newaxis* doet hetzelfde.\n"
      ],
      "metadata": {
        "id": "k65kGvniZQW5"
      }
    },
    {
      "cell_type": "code",
      "source": [
        "import numpy as np\n",
        "arr = np.array([1, 2, 3])\n",
        "print('1 rij en 3 kolommen met reshape():')\n",
        "print(arr.reshape(1, 3))\n",
        "print('1 rij en 3 kolommen met newaxis:')\n",
        "print(arr[np.newaxis, :])\n",
        "print('3 rijen en 1 kolom met reshape():')\n",
        "print(arr.reshape(3, 1))\n",
        "print('3 rijen en 1 kolom met newaxis:')\n",
        "print(arr[:, np.newaxis])"
      ],
      "metadata": {
        "id": "wHd2BLy9Zlph"
      },
      "execution_count": null,
      "outputs": []
    },
    {
      "cell_type": "markdown",
      "source": [
        "##Een array met 2 dimensies\n",
        "De positie van np.newaxis bepaalt waar de vierkante haakjes worden toegevoegd:\n",
        "*   arr[:, np.newaxis, :] : arr.reshape(3, 1, 2)\n",
        "*   arr[:, :, np.newaxis] : arr.reshape(3, 2, 1)"
      ],
      "metadata": {
        "id": "2kXQkS-jbjE8"
      }
    },
    {
      "cell_type": "code",
      "source": [
        "import numpy as np\n",
        "arr = np.array([1, 2, 3, 4, 5, 6]).reshape(-1, 2)\n",
        "print('arr:\\n',arr)\n",
        "print(('Voeg aan elke rij een extra dimensie toe'))\n",
        "#De laatste dubbele punt mogen we weglaten\n",
        "print(arr[:, np.newaxis, :])\n",
        "#print(arr.reshape(3, 1, 2))\n",
        "#De laatste dubbele punt mogen we weglaten\n",
        "#print(arr[:, np.newaxis])\n",
        "print('Voeg aan elke kolom een extra dimensie toe')\n",
        "print(arr[:, : , np.newaxis])\n",
        "#print(arr.reshape(3, 2, 1))"
      ],
      "metadata": {
        "id": "0wziTsuxaZvh"
      },
      "execution_count": null,
      "outputs": []
    },
    {
      "cell_type": "markdown",
      "source": [
        "##Elk element van elk element aftrekken\n",
        "We hebben gezien dat we met *np.subtract.outer()* elk element van elk element kunnen aftrekken. Dit kan ook de volgende manier."
      ],
      "metadata": {
        "id": "aB2hO0clxyaX"
      }
    },
    {
      "cell_type": "code",
      "source": [
        "import numpy as np\n",
        "arr = np.array([1, 2, 3, 4, 5, 6]).reshape(-1, 2)\n",
        "print('arr:\\n', arr)\n",
        "x_1 = arr[:, np.newaxis]  #hetzelfde als arr[:, np.newaxis, :]\n",
        "x_2 = arr[np.newaxis, :]  #hetzelfde als arr[np.newaxis, :, :]\n",
        "print('x_1:\\n', x_1.shape)\n",
        "print('x_2:\\n', x_2.shape)\n",
        "print('x_1:\\n', x_1)\n",
        "print('x_2:\\n', x_2)\n",
        "print('\\nx_1 - x_2:')\n",
        "print(x_1 - x_2)\n",
        "#x_broadcast_1 = np.broadcast_to(x_1, (3, 3, 2))\n",
        "#x_broadcast_2 = np.broadcast_to(x_2, (3, 3, 2))\n",
        "#print(x_broadcast_1 - x_broadcast_2)\n",
        "#"
      ],
      "metadata": {
        "id": "8wg5-UKmdOpM"
      },
      "execution_count": null,
      "outputs": []
    },
    {
      "cell_type": "markdown",
      "source": [
        "##De dichtste buur met np.newaxis\n",
        "En nu kunnen we dat gebruiken om de afstanden tussen *punten* te berekenen als alternatief voor *np.subtract.outer*"
      ],
      "metadata": {
        "id": "hiKm-uDuzCSc"
      }
    },
    {
      "cell_type": "code",
      "source": [
        "import numpy as np\n",
        "rng = np.random.default_rng(42)\n",
        "x = rng.integers(low=1, high=20, size=10)\n",
        "y = rng.integers(low=1, high=20, size=10)\n",
        "punten = np.column_stack([x, y])\n",
        "afstanden = np.sum((punten[:, np.newaxis] - punten[np.newaxis, :])**2, axis=-1)\n",
        "print('afstanden:\\n', afstanden)\n",
        "K=2\n",
        "nearest_partition = np.argpartition(afstanden, K, axis=1)\n",
        "print('dichtste buren:\\n', nearest_partition)\n",
        "plt.scatter(x, y)\n",
        "for i in range(x.shape[0]):\n",
        "  for j in nearest_partition[i, :K]:\n",
        "    plt.plot([x[i], x[j]], [y[i], y[j]], 'r-')\n",
        "plt.show()"
      ],
      "metadata": {
        "id": "PvotNimnXjef"
      },
      "execution_count": null,
      "outputs": []
    }
  ]
}