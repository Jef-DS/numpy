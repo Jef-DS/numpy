{
  "nbformat": 4,
  "nbformat_minor": 0,
  "metadata": {
    "colab": {
      "provenance": []
    },
    "kernelspec": {
      "name": "python3",
      "display_name": "Python 3"
    },
    "language_info": {
      "name": "python"
    }
  },
  "cells": [
    {
      "cell_type": "markdown",
      "source": [
        "#1. Examendata\n",
        "De volgende code genereert punten voor 5 examens voor 10 studenten gedurende 3 jaar. Die heb je nodig voor de volgende oefeningen."
      ],
      "metadata": {
        "id": "Mdhg2wAkzx9J"
      }
    },
    {
      "cell_type": "code",
      "execution_count": null,
      "metadata": {
        "id": "gvTW7Yxtj9RN"
      },
      "outputs": [],
      "source": [
        "import numpy as np\n",
        "rng = np.random.default_rng(42)\n",
        "punten = rng.integers(1, 20, size=(10, 5, 3))\n",
        "namen = 'student' + np.arange(1, 11).astype(np.str_)\n",
        "vakken = np.array(['Python', 'SQL', 'NumPy', 'Pandas', 'Matplotlib'])\n",
        "jaren = 'jaar' + np.arange(1, 4).astype(np.str_)"
      ]
    },
    {
      "cell_type": "markdown",
      "source": [
        "##1.1. Examendata:verschil tussen jaar 3 en 1\n",
        "Bereken voor elke student het verschil in punten tussen jaar 3 en jaar 1 voor de vakken Python en NumPy.\n",
        "\n",
        "Je zou het volgende resultaat moeten uitkomen:\n",
        "\n",
        "```\n",
        "Verschil voor student1 tussen jaar 3 en 1 voor Python is 11 en voor NumPy 2\n",
        "Verschil voor student2 tussen jaar 3 en 1 voor Python is -12 en voor NumPy 10\n",
        "Verschil voor student3 tussen jaar 3 en 1 voor Python is -7 en voor NumPy -11\n",
        "Verschil voor student4 tussen jaar 3 en 1 voor Python is -2 en voor NumPy 5\n",
        "Verschil voor student5 tussen jaar 3 en 1 voor Python is -11 en voor NumPy -16\n",
        "Verschil voor student6 tussen jaar 3 en 1 voor Python is -5 en voor NumPy 7\n",
        "Verschil voor student7 tussen jaar 3 en 1 voor Python is 7 en voor NumPy 8\n",
        "Verschil voor student8 tussen jaar 3 en 1 voor Python is -2 en voor NumPy -6\n",
        "Verschil voor student9 tussen jaar 3 en 1 voor Python is 4 en voor NumPy 9\n",
        "Verschil voor student10 tussen jaar 3 en 1 voor Python is -5 en voor NumPy 3\n",
        "```\n",
        "\n"
      ],
      "metadata": {
        "id": "vP0O-VzJwKPa"
      }
    },
    {
      "cell_type": "markdown",
      "source": [
        "##1.2. Examendata: geslaagd voor Python\n",
        "Toon de namen van de studenten die geslaagd zijn voor 'Python' (10 of meer gemiddeld over de drie jaren heen). Het resultaat zou er als volgt kunnen uitzien:\n",
        "```\n",
        "De volgende studenten zijn geslaagd voor Python:\n",
        "['student1' 'student4' 'student5' 'student7' 'student8' 'student9']\n",
        "```\n",
        "\n"
      ],
      "metadata": {
        "id": "YH442_lRxrE1"
      }
    },
    {
      "cell_type": "markdown",
      "source": [
        "##1.3. Examendata: correctie toepassen\n",
        "Er is een fout gebeurd bij de puntentelling. De volgende correctie-array moet opgeteld worden bij de punten:\n",
        "\n",
        "`np.array([1, 1, -1, 1, -1]) `\n",
        "\n",
        "(1 punt bij voor Python, SQL en Pandas en 1 punt minder voor NumPy en Matplotlib).\n",
        "\n",
        "Hoe kun je de correctie-array definiëren zodat je die kunt optellen bij punten. Denk hierbij aan de automatische broadcasting die gebeurt in NumPy\n",
        "\n",
        "`punten_corrigeerd = punten + correctie`"
      ],
      "metadata": {
        "id": "dAIP9p-R0INj"
      }
    },
    {
      "cell_type": "code",
      "source": [
        "import numpy as np\n",
        "rng = np.random.default_rng(42)\n",
        "punten = rng.integers(0, 21, size=(10, 5, 3))\n",
        "namen = 'student' + np.arange(1, 11).astype(np.str_)\n",
        "vakken = np.array(['Python', 'SQL', 'NumPy', 'Pandas', 'Matplotlib'])\n",
        "jaren = 'jaar' + np.arange(1, 4).astype(np.str_)\n",
        "\n",
        "correctie = np.array([1, 1, -1, 1, -1])\n",
        "#Hoe moet je 'correctie' herdefiniëren om het volgende statement te laten werken?\n",
        "punten_gecorrigeerd = punten + correctie\n",
        "print(punten_gecorrigeerd)"
      ],
      "metadata": {
        "id": "vqDq5Wx10fG9"
      },
      "execution_count": null,
      "outputs": []
    },
    {
      "cell_type": "markdown",
      "source": [
        "#2. Autocontrole\n",
        "De volgende code genereert een bestand met data voor auto's (nummerplaat en inschrijvingsdatum):"
      ],
      "metadata": {
        "id": "_jWbTLSO2bPm"
      }
    },
    {
      "cell_type": "code",
      "source": [
        "from csv import DictWriter\n",
        "autos = [\n",
        "    {'nummerplaat':'1-AAA-111', 'inschrijvingsdatum':'2022-10-12'},\n",
        "    {'nummerplaat':'1-BBB-222', 'inschrijvingsdatum':'2022-11-12'},\n",
        "    {'nummerplaat':'1-CCC-333', 'inschrijvingsdatum':'2022-09-12'},\n",
        "    {'nummerplaat':'1-DDD-444', 'inschrijvingsdatum':'2023-10-13'},\n",
        "    {'nummerplaat':'1-EEE-555', 'inschrijvingsdatum':'2022-10-11'},\n",
        "    ]\n",
        "with open('autos.csv', 'w', newline='') as csvfile:\n",
        "    fieldnames = autos[0].keys()\n",
        "    writer = DictWriter(csvfile, fieldnames=fieldnames, delimiter=';')\n",
        "    writer.writeheader()\n",
        "    writer.writerows(autos)"
      ],
      "metadata": {
        "id": "A1GqNqlg2ko_"
      },
      "execution_count": null,
      "outputs": []
    },
    {
      "cell_type": "markdown",
      "source": [
        "##Vooraf: Leeftijd berekenen\n",
        "Je kunt de leeftijd op de volgende manier berekenen in NumPy:\n",
        "1. trek de geboortedatum af van de datum van vandaag\n",
        "2. zet het resultaat om naar een timedelta64[Y]\n",
        "\n",
        "##2.1. Naar de autokeuring\n",
        "Auto's moeten in België naar de autokeuring wanneer ze drie jaar oud zijn. Lees de data in het CSV-bestand met NumPy en toon een lijst van de nummerplaten die vanaf 12 oktober 2025 naar de keuring moeten:\n",
        "```\n",
        "de volgende wagens moeten naar de autokeuring vanaf 2025-10-12\n",
        "['1-AAA-111' '1-CCC-333' '1-EEE-555']\n",
        "```\n",
        "\n"
      ],
      "metadata": {
        "id": "GKsxt-4e2yar"
      }
    },
    {
      "cell_type": "markdown",
      "source": [
        "#3. Datums en uren filteren\n",
        "(De volgende oefening is gebaseerd op een vraag van Wouter tijdens de eerste les)\n",
        "\n",
        "Ik wil een lijst tonen met de uren tussen 11 en 13 (allebei inbegrepen) voor alle dagen in november 2025. In de volgende code heb ik al een begin gemaakt maar er zit nog een fout in.\n",
        "1. Verbeter de fout\n",
        "2. Breid het programma uit zodat je de volgende output krijgt:\n",
        "```\n",
        " 1. 2025-11-01T11 2025-11-01T12 2025-11-01T13\n",
        " 2. 2025-11-02T11 2025-11-02T12 2025-11-02T13\n",
        " 3. 2025-11-03T11 2025-11-03T12 2025-11-03T13\n",
        " 4. 2025-11-04T11 2025-11-04T12 2025-11-04T13\n",
        " 5. 2025-11-05T11 2025-11-05T12 2025-11-05T13\n",
        " 6. 2025-11-06T11 2025-11-06T12 2025-11-06T13\n",
        " 7. 2025-11-07T11 2025-11-07T12 2025-11-07T13\n",
        " 8. 2025-11-08T11 2025-11-08T12 2025-11-08T13\n",
        " 9. 2025-11-09T11 2025-11-09T12 2025-11-09T13\n",
        "10. 2025-11-10T11 2025-11-10T12 2025-11-10T13\n",
        "11. 2025-11-11T11 2025-11-11T12 2025-11-11T13\n",
        "12. 2025-11-12T11 2025-11-12T12 2025-11-12T13\n",
        "13. 2025-11-13T11 2025-11-13T12 2025-11-13T13\n",
        "14. 2025-11-14T11 2025-11-14T12 2025-11-14T13\n",
        "15. 2025-11-15T11 2025-11-15T12 2025-11-15T13\n",
        "16. 2025-11-16T11 2025-11-16T12 2025-11-16T13\n",
        "17. 2025-11-17T11 2025-11-17T12 2025-11-17T13\n",
        "18. 2025-11-18T11 2025-11-18T12 2025-11-18T13\n",
        "19. 2025-11-19T11 2025-11-19T12 2025-11-19T13\n",
        "20. 2025-11-20T11 2025-11-20T12 2025-11-20T13\n",
        "21. 2025-11-21T11 2025-11-21T12 2025-11-21T13\n",
        "22. 2025-11-22T11 2025-11-22T12 2025-11-22T13\n",
        "23. 2025-11-23T11 2025-11-23T12 2025-11-23T13\n",
        "24. 2025-11-24T11 2025-11-24T12 2025-11-24T13\n",
        "25. 2025-11-25T11 2025-11-25T12 2025-11-25T13\n",
        "26. 2025-11-26T11 2025-11-26T12 2025-11-26T13\n",
        "27. 2025-11-27T11 2025-11-27T12 2025-11-27T13\n",
        "28. 2025-11-28T11 2025-11-28T12 2025-11-28T13\n",
        "29. 2025-11-29T11 2025-11-29T12 2025-11-29T13\n",
        "30. 2025-11-30T11 2025-11-30T12 2025-11-30T13\n",
        "```"
      ],
      "metadata": {
        "id": "zlAr7M8Z4dEI"
      }
    },
    {
      "cell_type": "code",
      "source": [
        "import numpy as np\n",
        "arr_dagen = np.arange(np.datetime64('2025-11-01'), np.datetime64('2025-11-30'), np.timedelta64(1, 'h'))\n",
        "arr_basis = arr_dagen.astype('datetime64[D]')\n",
        "uurverschil = arr_dagen - arr_basis\n",
        "is_op_de_middag = uurverschil >= 11 and uurverschil <= 13\n",
        "dagen_op_de_middag = arr_dagen[is_op_de_middag]"
      ],
      "metadata": {
        "id": "2W9tW8yV414p"
      },
      "execution_count": null,
      "outputs": []
    },
    {
      "cell_type": "markdown",
      "source": [
        "#4. Gemiddelde leeftijd van zangeressen\n",
        "##Ter herinnering: Leeftijd berekenen\n",
        "Je kunt de leeftijd op de volgende manier berekenen in NumPy:\n",
        "1. trek de geboortedatum af van de datum van vandaag\n",
        "2. zet het resultaat om naar een timedelta64[Y]\n",
        "\n",
        "De volgende code maakt een bestand met namen en geboortedatums. Lees de data van het bestand en bereken de gemiddelde leeftijd van alle namen waarvan de geboortedatum bekend is.\n",
        "\n",
        "Het resultaat zou er als volgt kunnen uitzien:\n",
        "`de gemiddelde leeftijd van de zangeressen is 44.0 jaar`"
      ],
      "metadata": {
        "id": "TsAewVR45wni"
      }
    },
    {
      "cell_type": "code",
      "source": [
        "from csv import DictWriter\n",
        "import numpy as np\n",
        "\n",
        "data = [\n",
        "    {'naam': 'Karen', 'geboortedatum':'1974-10-28'},\n",
        "     {'naam': 'Kristel', 'geboortedatum':'1975-12-10'},\n",
        "     {'naam': 'Kathleen', 'geboortedatum':'1978-06-18'},\n",
        "     {'naam': 'Josje', 'geboortedatum':''},\n",
        "     {'naam': 'Hanne', 'geboortedatum':''},\n",
        "     {'naam': 'Marthe', 'geboortedatum':''},\n",
        "     {'naam': 'Klaasje', 'geboortedatum':'1995-03-02'},\n",
        "     {'naam': 'Julia', 'geboortedatum':''},\n",
        "     {'naam': 'Nora', 'geboortedatum':''},\n",
        "    ]\n",
        "K3_CSV = 'k3.csv'\n",
        "with open(K3_CSV, 'w', newline='') as csvfile:\n",
        "    fieldnames = data[0].keys()\n",
        "    writer = DictWriter(csvfile, fieldnames=fieldnames, delimiter=';')\n",
        "    writer.writeheader()\n",
        "    writer.writerows(data)"
      ],
      "metadata": {
        "id": "ik1jeMlq5670"
      },
      "execution_count": null,
      "outputs": []
    },
    {
      "cell_type": "markdown",
      "source": [
        "#5. Scoren op examens\n",
        "De volgende data komen van Kaggle ([Student exam score dataset analysis](https://www.kaggle.com/datasets/grandmaster07/student-exam-score-dataset-analysis)). De onderstaande code downloadt het bestand."
      ],
      "metadata": {
        "id": "2ZaVyb_-8gvq"
      }
    },
    {
      "cell_type": "code",
      "source": [
        "from zipfile import ZipFile\n",
        "import numpy as np\n",
        "import requests\n",
        "data = requests.get('https://www.kaggle.com/api/v1/datasets/download/grandmaster07/student-exam-score-dataset-analysis')\n",
        "with open ('data.zip', 'wb') as f:\n",
        "  f.write(data.content)\n",
        "with open('data.zip', 'rb') as f:\n",
        "  ZipFile.extractall(ZipFile(f))"
      ],
      "metadata": {
        "id": "4_4EVX4B8qAx"
      },
      "execution_count": null,
      "outputs": []
    },
    {
      "cell_type": "markdown",
      "source": [
        "##5.1. Scoren op examens:studeeruur-categorieën\n",
        "Deel de studeeruren in 3 even grote categorieën in. Maak een lijst met telkens het gemiddelde aantal studeeruren voor elke categorie en het aantal studenten dat in die categorie valt. Je zou de volgende output moeten genereren:\n",
        "```\n",
        "75 studenten hebben gemiddeld 2.8 uur gestudeerd\n",
        "64 studenten hebben gemiddeld 6.5 uur gestudeerd\n",
        "61 studenten hebben gemiddeld 10.2 uur gestudeerd"
      ],
      "metadata": {
        "id": "gUV3pAL29RfA"
      }
    },
    {
      "cell_type": "markdown",
      "source": [
        "#6. De passagiers van de Titanic\n",
        "De data komt van de [Titanic dataset](https://www.kaggle.com/datasets/yasserh/titanic-dataset/data) van Kaggle. De onderstaande code downloadt het bestand."
      ],
      "metadata": {
        "id": "ekGrBdjxEh26"
      }
    },
    {
      "cell_type": "code",
      "source": [
        "from zipfile import ZipFile\n",
        "import requests\n",
        "data = requests.get('https://www.kaggle.com/api/v1/datasets/download/yasserh/titanic-dataset')\n",
        "with open('data.zip', 'wb') as f:\n",
        "  f.write(data.content)\n",
        "with open('data.zip', 'rb') as f:\n",
        "  ZipFile(f).extractall()"
      ],
      "metadata": {
        "id": "uSgu2v1UEqSl"
      },
      "execution_count": null,
      "outputs": []
    },
    {
      "cell_type": "markdown",
      "source": [
        "##6.1. De passagiers van de Titanic: overlevenden per klasse\n",
        "De passagiers van de Titanic waren opgedeeld in drie klassen. Toon voor elk van de drie klasse welk percentage de ramp met de Titanic overleefd heeft. Je zou de volgende output moeten krijgen:\n",
        "```\n",
        "In klasse 1 overleefde 62%\n",
        "In klasse 2 overleefde 47%\n",
        "In klasse 3 overleefde 24%\n",
        "```"
      ],
      "metadata": {
        "id": "0ZjwUPmNEsDc"
      }
    },
    {
      "cell_type": "markdown",
      "source": [
        "#7. Temperatuuranalyse\n",
        "De volgende code downloadt een dataset die de dagelijkse temperaturen in een aantal steden bevat voor de jaren 1995-2020. Je vindt informatie over die dataset op Kaggle bij [Daily Temperature of Major Cities](https://www.kaggle.com/datasets/sudalairajkumar/daily-temperature-of-major-cities)"
      ],
      "metadata": {
        "id": "elwy4gGEB4AM"
      }
    },
    {
      "cell_type": "code",
      "source": [
        "from zipfile import ZipFile\n",
        "import requests\n",
        "data = requests.get(' https://www.kaggle.com/api/v1/datasets/download/sudalairajkumar/daily-temperature-of-major-cities')\n",
        "with open('data.zip', 'wb') as f:\n",
        "  f.write(data.content)\n",
        "with ZipFile('data.zip') as zip_:\n",
        "  zip_.extractall()"
      ],
      "metadata": {
        "id": "tD0_Y4mwCL6W"
      },
      "execution_count": null,
      "outputs": []
    },
    {
      "cell_type": "markdown",
      "source": [
        "##7.1. Temperatuuranalyse: gemiddelde temperatuur voor Birmingham(US), Parijs en Brussel\n",
        "\n",
        "De temperaturen in het bestand zijn uitgedrukt in graden Fahrenheit. Je zet die om naar °C volgens de volgende formule:\n",
        "$$ °C = \\frac{(°F -32) * 5}{9} $$\n",
        "\n",
        "Toon voor de maand december 2015 voor elke dag het gemiddelde van de temperatuur in °C in de steden Birmingham (in de Verenigde Staten), Brussel en Parijs. Je moet dus voor elke dag één gemiddelde berekenen voor de drie steden.\n",
        "\n",
        "(Let vooral op de temperatuur voor 31 december)\n",
        "\n",
        "```\n",
        "dag 1: 13.98 °C\n",
        "dag 2: 11.33 °C\n",
        "dag 3: 8.04 °C\n",
        "dag 4: 7.96 °C\n",
        "dag 5: 7.41 °C\n",
        "dag 6: 10.39 °C\n",
        "dag 7: 10.65 °C\n",
        "dag 8: 9.19 °C\n",
        "dag 9: 8.85 °C\n",
        "dag 10: 7.61 °C\n",
        "dag 11: 10.85 °C\n",
        "dag 12: 12.52 °C\n",
        "dag 13: 11.57 °C\n",
        "dag 14: 10.80 °C\n",
        "dag 15: 10.13 °C\n",
        "dag 16: 12.74 °C\n",
        "dag 17: 13.78 °C\n",
        "dag 18: 9.63 °C\n",
        "dag 19: 8.93 °C\n",
        "dag 20: 9.81 °C\n",
        "dag 21: 11.81 °C\n",
        "dag 22: 13.93 °C\n",
        "dag 23: 13.15 °C\n",
        "dag 24: 14.28 °C\n",
        "dag 25: 14.43 °C\n",
        "dag 26: 13.91 °C\n",
        "dag 27: 13.72 °C\n",
        "dag 28: 12.20 °C\n",
        "dag 29: 10.26 °C\n",
        "dag 30: 9.33 °C\n",
        "dag 31: 12.56 °C\n",
        "```"
      ],
      "metadata": {
        "id": "ZP0RyIfrCSD_"
      }
    },
    {
      "cell_type": "markdown",
      "source": [
        "#8. Taxiritten in New York\n",
        "De volgende data komen van Kaggle ([NYC Taxi Fare Dataset](https://www.kaggle.com/datasets/diishasiing/revenue-for-cab-drivers/data)). De onderstaande code downloadt de data."
      ],
      "metadata": {
        "id": "iw2OPb_qGVpC"
      }
    },
    {
      "cell_type": "code",
      "source": [
        "from zipfile import ZipFile\n",
        "import requests\n",
        "data = requests.get('https://www.kaggle.com/api/v1/datasets/download/diishasiing/revenue-for-cab-drivers')\n",
        "with open ('data.zip', 'wb') as f:\n",
        "  f.write(data.content)\n",
        "with open('data.zip', 'rb') as f:\n",
        "  ZipFile.extractall(ZipFile(f))"
      ],
      "metadata": {
        "id": "ZzdQO17kGuOh"
      },
      "execution_count": null,
      "outputs": []
    },
    {
      "cell_type": "markdown",
      "source": [
        "##8.1. Taxiritten in New York: duurtijden\n",
        "Voor elke rit is er een pickup_datetime en een dropoff_datetime. Op basis hiervan kun je berekenen hoe lang elke rit duurt.\n",
        "Toon in seconden de gemiddelde duurtijd, de langste duurtijd en de kortste duurtijd.\n",
        "\n",
        "Wat vind je van die resultaten? Zijn ze logisch volgens jou? Vergelijk de duurtijd bijvoorbeeld eens met afstand die afgelegd werd (*trip_distance*). Wat denk je van taxiritten die langer dan 1 dag duren of taxiritten met een negatieve duurtijd?\n",
        "\n",
        "In de dataset zitten een aantal waarden die duidelijk fout zijn. Wat zou bijvoorbeeld een negatief total_amount willen zetten? Maak voor jezelf eens uit welke ritten je wel mee laten tellen voor de gemiddelde duurtijd en welke niet. Vermeld ook eens waarom je beslist hebt om bepaalde waarden eruit te filteren.\n",
        "\n",
        "Welke gemiddelde duurtijden kom je op het einde uit? (gebruik eventueel plt.hist(duurtijden, 10) om het resultaat te plotten).\n",
        "\n",
        "Er is geen goed of slecht antwoord hier bij het bepalen van de filter. We hebben heel weinig informatie over de dataset: waarom zijn sommige bedragen of afstanden negatief? Wat zijn aanvaardbare duurtijden? (5 dagen???) Dus probeer eens met logica uit te vissen wat een goede filter zou zijn om de gemiddelde duurtijd te berekenen van een taxirit in New York."
      ],
      "metadata": {
        "id": "2ub1UV3uGiMb"
      }
    },
    {
      "cell_type": "markdown",
      "source": [
        "#Oplossingen\n",
        "##1.1. Examendata:verschil tussen jaar 3 en 1\n",
        "We filteren op de vaknamen Python of NumPy. Vervolgens kunnen we de derde dimensie gebruiken om index 2 en index 0 van elkaar af te trekken.\n"
      ],
      "metadata": {
        "id": "_H7VnQ3rkL5Y"
      }
    },
    {
      "cell_type": "code",
      "source": [
        "import numpy as np\n",
        "rng = np.random.default_rng(42)\n",
        "punten = rng.integers(1, 20, size=(10, 5, 3))\n",
        "namen = 'student' + np.arange(1, 11).astype(np.str_)\n",
        "vakken = np.array(['Python', 'SQL', 'NumPy', 'Pandas', 'Matplotlib'])\n",
        "jaren = 'jaar' + np.arange(1, 4).astype(np.str_)\n",
        "\n",
        "arr_punten_python_numpy = punten[:, (vakken == 'Python') | (vakken == 'NumPy'), :]\n",
        "arr_verschil = arr_punten_python_numpy[:, :, 2] - arr_punten_python_numpy[:, :, 0]\n",
        "for naam, verschil in zip(namen, arr_verschil):\n",
        "  print(f'Verschil voor {naam} tussen jaar 3 en 1 voor {vakken[0]} is {verschil[0]} en voor {vakken[2]} {verschil[1]}')"
      ],
      "metadata": {
        "id": "_NnbgX33w0w-"
      },
      "execution_count": null,
      "outputs": []
    },
    {
      "cell_type": "markdown",
      "source": [
        "##1.2. Examendata: geslaagd voor Python\n",
        "Let op: de array *geslaagd_python* heeft twee dimensies. DIe kunnen we niet als index gebruiken voor *namen*. Daarom voeren we een reshape()-uit. Een alternatief is de functie *ravel()*. Die maakt een 1-dimensionele array."
      ],
      "metadata": {
        "id": "XwjpLQVIxytl"
      }
    },
    {
      "cell_type": "code",
      "source": [
        "import numpy as np\n",
        "rng = np.random.default_rng(42)\n",
        "punten = rng.integers(1, 20, size=(10, 5, 3))\n",
        "namen = 'student' + np.arange(1, 11).astype(np.str_)\n",
        "vakken = np.array(['Python', 'SQL', 'NumPy', 'Pandas', 'Matplotlib'])\n",
        "jaren = 'jaar' + np.arange(1, 4).astype(np.str_)\n",
        "\n",
        "geslaagd_python = punten[:, (vakken=='Python'), :].mean(axis=2) >= 10\n",
        "#geslaagd_python = geslaagd_python.reshape(namen.shape)\n",
        "geslaagd_python = geslaagd_python.ravel()\n",
        "print('De volgende studenten zijn geslaagd voor Python:')\n",
        "print(namen[geslaagd_python])"
      ],
      "metadata": {
        "id": "EQiqyNyayEr4"
      },
      "execution_count": null,
      "outputs": []
    },
    {
      "cell_type": "markdown",
      "source": [
        "##1.3. Examendata: correctie toepassen\n",
        "De array *punten* heeft als shape (10, 5, 3). De array *correctie* heeft als shape (5,). Volgens de broadcastingregels moeten dimensies niet gelijk zijn wanneer één van beide 1 is. De volgende dimensie zou dus werken: (1, 5, 1). Maar bij broadcasting kunnen de 1-waarden links ook automatisch toegevoegd worden. We kunnen dus even goed als shape (5, 1) gebruiken."
      ],
      "metadata": {
        "id": "f1QJIm8E1I4c"
      }
    },
    {
      "cell_type": "code",
      "source": [
        "import numpy as np\n",
        "rng = np.random.default_rng(42)\n",
        "punten = rng.integers(1, 20, size=(10, 5, 3))\n",
        "namen = 'student' + np.arange(1, 11).astype(np.str_)\n",
        "vakken = np.array(['Python', 'SQL', 'NumPy', 'Pandas', 'Matplotlib'])\n",
        "jaren = 'jaar' + np.arange(1, 4).astype(np.str_)\n",
        "correctie = np.array([1, 1, -1, 1, -1])\n",
        "correctie = np.reshape(correctie, (5, 1))\n",
        "punten_gecorrigeerd = punten + correctie\n",
        "print(punten_gecorrigeerd)"
      ],
      "metadata": {
        "id": "nncuh1GC17dx"
      },
      "execution_count": null,
      "outputs": []
    },
    {
      "cell_type": "markdown",
      "source": [
        "##2. Naar de autokeuring\n",
        "Let erop dat je de refdatum als een np.datetime64 definieert."
      ],
      "metadata": {
        "id": "5e5274lt3lY4"
      }
    },
    {
      "cell_type": "code",
      "source": [
        "import numpy as np\n",
        "\n",
        "AUTOS_CSV = 'autos.csv'\n",
        "refdatum = np.datetime64('2025-10-12')\n",
        "nummerplaten = np.genfromtxt(AUTOS_CSV, delimiter=';', dtype=str, skip_header=1, usecols=0)\n",
        "inschrijvingsdatums = np.genfromtxt(AUTOS_CSV, delimiter=';', dtype=np.datetime64, skip_header=1, usecols=1)\n",
        "leeftijden = (refdatum - inschrijvingsdatums).astype('timedelta64[Y]')\n",
        "print(f'De volgende wagens moeten naar de autokeuring vanaf {refdatum}')\n",
        "naar_keuring = nummerplaten[leeftijden >= 3]\n",
        "print(naar_keuring)"
      ],
      "metadata": {
        "colab": {
          "base_uri": "https://localhost:8080/"
        },
        "id": "83ysx01U3v5A",
        "outputId": "9ee0359b-6bee-48fa-a48d-77ca48a8e902"
      },
      "execution_count": null,
      "outputs": [
        {
          "output_type": "stream",
          "name": "stdout",
          "text": [
            "[3 2 3 1 3]\n",
            "De volgende wagens moeten naar de autokeuring vanaf 2025-10-12\n",
            "['1-AAA-111' '1-CCC-333' '1-EEE-555']\n"
          ]
        }
      ]
    },
    {
      "cell_type": "markdown",
      "source": [
        "#3. Datums en uren filteren\n",
        "Het eerste probleem was de berekening van de variabele *is_op_de_middag*. Daarvoor moet je de bitwise operatoren gebruiken.\n",
        "\n",
        "Om **alle** dagen van november te zien, moet je de bovengrens van *np.arange* op 1 december zetten.\n",
        "\n",
        "Tenslotte moet je de gegevens per dag tonen. Daarvoor kun je *reshape* gebruiken zodat je de array per rij kunt afdrukken."
      ],
      "metadata": {
        "id": "Nb25crmd5ETE"
      }
    },
    {
      "cell_type": "code",
      "source": [
        "import numpy as np\n",
        "arr_dagen = np.arange(np.datetime64('2025-11-01'), np.datetime64('2025-12-01'), np.timedelta64(1, 'h'))\n",
        "arr_basis = arr_dagen.astype('datetime64[D]')\n",
        "uurverschil = arr_dagen - arr_basis\n",
        "is_op_de_middag = (uurverschil >= 11) & (uurverschil <= 13)\n",
        "dagen_op_de_middag = arr_dagen[is_op_de_middag]\n",
        "dagen_op_de_middag = dagen_op_de_middag.reshape(-1, 3)\n",
        "for index, datum in enumerate(dagen_op_de_middag, start=1):\n",
        "    print(f'{index:2}. ', end='')\n",
        "    for dag in datum:\n",
        "        print(dag, end=' ')\n",
        "    print()"
      ],
      "metadata": {
        "id": "r8eYR4l15SUx"
      },
      "execution_count": null,
      "outputs": []
    },
    {
      "cell_type": "markdown",
      "source": [
        "##4. Gemiddelde leeftijd van zangeressen\n",
        "De namen van de zangeressen hebben we niet nodig. Bij het lezen van de geboortedatums wordt een lege string ('') automatisch omgezet naar np.NaT (not-a-datetime).\n",
        "\n",
        "We kunnen nu filteren op geldige geboortedatums, de leeftijden berekenen en vervolgens het gemiddelde.\n",
        "\n",
        "Een alternatief is dat we niet filteren en de speciale nan-versie van de functie np.mean() gebruiken."
      ],
      "metadata": {
        "id": "39ruqKbJ6Syd"
      }
    },
    {
      "cell_type": "code",
      "source": [
        "import numpy as np\n",
        "K3_CSV = 'k3.csv'\n",
        "geboortedatums = np.genfromtxt(K3_CSV, delimiter=';', dtype=np.datetime64, skip_header=1, usecols=1)\n",
        "geldige_geboortedatums = geboortedatums[~np.isnat(geboortedatums)]\n",
        "leeftijden = (np.datetime64('today') - geldige_geboortedatums).astype('timedelta64[Y]').astype(np.int64)\n",
        "print(f'de gemiddelde leeftijd van de zangeressen is {np.mean(leeftijden)} jaar')\n",
        "#alternatief\n",
        "vandaag = np.full_like(geboortedatums, np.datetime64('today'))\n",
        "leeftijden = (np.datetime64('today') - geldige_geboortedatums).astype('timedelta64[Y]').astype(np.int64)\n",
        "print(f'de gemiddelde leeftijd van de zangeressen is {np.nanmean(leeftijden)} jaar')"
      ],
      "metadata": {
        "colab": {
          "base_uri": "https://localhost:8080/"
        },
        "id": "GJ4_khH56Vqu",
        "outputId": "149407bb-dbf9-49db-ed02-b8b674b722dc"
      },
      "execution_count": null,
      "outputs": [
        {
          "output_type": "stream",
          "name": "stdout",
          "text": [
            "de gemiddelde leeftijd van de zangeressen is 44.0 jaar\n",
            "de gemiddelde leeftijd van de zangeressen is 44.0 jaar\n"
          ]
        }
      ]
    },
    {
      "cell_type": "markdown",
      "source": [
        "##5.1. Scoren op examens:studeeruur-categorieën\n",
        "We hebben 4 *bins* nodig tussen het minimum aantal studie-uren en het maximum aantal studie-uren. De beste oplossing hiervoor is *np.linspace()*. Vervolgens kunnen we *np.histogram* gebrruiken om de aantallen en de 'edges' te pakken te krijgen. Voor elke *bin* moeten we nog het gemiddelde berekenen."
      ],
      "metadata": {
        "id": "yJKaQt519jUq"
      }
    },
    {
      "cell_type": "code",
      "source": [
        "STUDENT_CSV = 'student_exam_scores.csv'\n",
        "arr_studie = np.genfromtxt(STUDENT_CSV, delimiter=',', skip_header=1, usecols=1)\n",
        "bins = np.linspace(arr_studie.min(), arr_studie.max(), 4)\n",
        "aantallen, edges =  np.histogram(arr_studie, bins)\n",
        "gemiddelde_edges = (edges[:-1] + edges[1:]) / 2\n",
        "for studeeruur, aantal in zip(gemiddelde_edges, aantallen):\n",
        "    print(f'{aantal} studenten hebben gemiddeld {studeeruur:.1f} uur gestudeerd')\n"
      ],
      "metadata": {
        "id": "JO8Rj2Uj98F9"
      },
      "execution_count": null,
      "outputs": []
    },
    {
      "cell_type": "markdown",
      "source": [
        "##6.1. De passagiers van de Titanic: overlevenden per klasse\n",
        "Om de gegevens in een lus te verwerken, kunnen we beginnen met te berekenen hoeveel passagiers er per klasse zijn. Wanneer we de array *arr_klasse* sorteren, kunnen we met die aantallen de *klassegrenzen* berekenen met de cummulatieve som (np.cumsum()):\n",
        "* de gegevens van de eerste klasse stoppen vóór index *aantal_1ste_klasse*\n",
        "* de gegevens van de tweede klasse beginnen bij *aantal_1ste_klasse* en stoppen vóór index *aantal_1ste_klasse* + *aantal_2de_klasse*\n",
        "* de gegevens van de derde klasse beginnen bij index *aantal_1ste_klasse* + *aantal_2de_klasse* en lopen door tot het einde.\n",
        "\n",
        "We sorteren arr_overleefd op basis van de sortering van de klassen. Vervolgens kunnen we die array splitsen op de klassegrenzen. Dit levert een Python array op met 3 elementen."
      ],
      "metadata": {
        "id": "tDe4GHcuFLKJ"
      }
    },
    {
      "cell_type": "code",
      "source": [
        "titanic_csv = 'Titanic-Dataset.csv'\n",
        "arr_overleefd = np.genfromtxt(titanic_csv, delimiter=',', skip_header=1, usecols=1, dtype=np.uint8)\n",
        "arr_klasse = np.genfromtxt(titanic_csv, delimiter=',', skip_header=1, usecols=2, dtype=np.uint8)\n",
        "klasse, aantal_per_klasse =np.unique(arr_klasse, return_counts=True)\n",
        "klasse_grenzen = np.cumsum(aantal_per_klasse)[:-1]\n",
        "is_overleefd = arr_overleefd == 1\n",
        "index_klasse = np.argsort(arr_klasse)\n",
        "arr_overleefd_klasse = arr_overleefd[index_klasse]\n",
        "arr_per_klasse_overleefd = np.split(arr_overleefd[index_klasse], klasse_grenzen)\n",
        "arr_klasse_perc_gered = np.empty(len(klasse), np.uint64)\n",
        "for index, klasse in enumerate(arr_per_klasse_overleefd):\n",
        "  aantal = klasse.sum()\n",
        "  arr_klasse_perc_gered[index] = aantal / aantal_per_klasse[index] * 100\n",
        "for index, percent_gered in enumerate(arr_klasse_perc_gered, 1):\n",
        "  print(f'In klasse {index} overleefde {percent_gered}%')"
      ],
      "metadata": {
        "id": "PXyfGZr7Fcy6"
      },
      "execution_count": null,
      "outputs": []
    },
    {
      "cell_type": "markdown",
      "source": [
        "##7.1. Temperatuuranalyse: gemiddelde temperatuur voor Birmingham(US), Parijs en Brussel\n",
        "Er is ook een Birmingham in het Verenigd Koninkrijk en een Paris in de Verenigde staten maar daarvoor zijn er geen temperaturen. Voor alle veiligheid filteren we toch ook op de landen.\n",
        "\n",
        "Let op: door een fout hebben Brussel en Parijs dubbele temperaturen voor 30 december. De tweede temperatuur is -99. Die kunnen we eruit filteren.\n",
        "\n",
        "Zowel Brussel als Parijs hebben voor 31 december hebben een ongeldige temperatuur (-99) Maar we moeten wel zorgen dat we evenveel waarden hebben als voor Birmingham (waar dat probleem niet bestaat). Daarom zetten we de waarden om naar *np.nan*"
      ],
      "metadata": {
        "id": "SKqEJtJMCmQS"
      }
    },
    {
      "cell_type": "code",
      "source": [
        "import matplotlib.pyplot as plt\n",
        "import numpy as np\n",
        "TEMP_CSV = 'city_temperature.csv'\n",
        "arr_land = np.genfromtxt(TEMP_CSV, delimiter=',', skip_header=1, usecols=(1), dtype=str)\n",
        "arr_stad = np.genfromtxt(TEMP_CSV, delimiter=',', skip_header=1, usecols=(3), dtype=str)\n",
        "arr_jaar = np.genfromtxt(TEMP_CSV, delimiter=',', skip_header=1, usecols=(6), dtype=np.uint16)\n",
        "arr_maand = np.genfromtxt(TEMP_CSV, delimiter=',', skip_header=1, usecols=(4), dtype=np.uint8)\n",
        "arr_dag = np.genfromtxt(TEMP_CSV, delimiter=',', skip_header=1, usecols=(5), dtype=np.uint8)\n",
        "arr_temp = np.genfromtxt(TEMP_CSV, delimiter=',', skip_header=1, usecols=(-1), dtype=np.float64)\n",
        "\n",
        "#Filters definiëren\n",
        "is_belgie = arr_land == 'Belgium'\n",
        "is_brussel = arr_stad == 'Brussels'\n",
        "is_us = arr_land == 'US'\n",
        "is_birmingham = arr_stad == 'Birmingham'\n",
        "is_frankrijk = arr_land == 'France'\n",
        "is_parijs = arr_stad == 'Paris'\n",
        "is_jaar_2015 = arr_jaar == 2015\n",
        "is_maand_12 = arr_maand == 12\n",
        "\n",
        "#Arrays filteren\n",
        "arr_temp_birmingham = arr_temp[is_birmingham & is_us & is_jaar_2015 & is_maand_12]\n",
        "#Let op met de dubbele temperatuur voor 30 december\n",
        "arr_temp_parijs = arr_temp[is_parijs & is_frankrijk & is_jaar_2015 & is_maand_12 & ~((arr_dag == 30) & (arr_temp == -99))]\n",
        "arr_temp_brussel = arr_temp[is_brussel &is_belgie & is_jaar_2015 & is_maand_12 & ~((arr_dag == 30) & (arr_temp == -99))]\n",
        "\n",
        "#Vervang ongeldige temperaturen door np.nan\n",
        "arr_temp_parijs[arr_temp_parijs == -99] = np.nan\n",
        "arr_temp_brussel[arr_temp_brussel == -99] = np.nan\n",
        "arr_temp_F = np.column_stack((arr_temp_birmingham, arr_temp_parijs, arr_temp_brussel))\n",
        "\n",
        "#Zet alle temperaturen om naar °C\n",
        "arr_temp_C = (arr_temp_F - 32) * 5 / 9\n",
        "arr_gemiddelde_dag = np.nanmean(arr_temp_C, axis=1)\n",
        "arr_dagen = np.arange(1, 32)\n",
        "for dag, gemiddelde in zip(arr_dagen, arr_gemiddelde_dag):\n",
        "  print(f'dag {dag}: {gemiddelde:.2f} °C')\n",
        "plt.plot(arr_dagen, arr_gemiddelde_dag)\n",
        "plt.show()"
      ],
      "metadata": {
        "id": "s8N0nJFzD6xo"
      },
      "execution_count": null,
      "outputs": []
    },
    {
      "cell_type": "markdown",
      "source": [
        "##8.1. Taxiritten in New York: duurtijden\n",
        "We zullen om te beginnen eens een idee proberen te krijgen over de duurtijden:"
      ],
      "metadata": {
        "id": "olj93TEFHCoi"
      }
    },
    {
      "cell_type": "code",
      "source": [
        "import numpy as np\n",
        "TAXI_CSV = 'data.csv'\n",
        "arr_pickup_dropoff = np.genfromtxt(TAXI_CSV, delimiter=',', skip_header=1, usecols=(1, 2), dtype=np.datetime64)\n",
        "arr_duurtijd = arr_pickup_dropoff[:, 1] - arr_pickup_dropoff[:, 0]\n",
        "print(f'gemiddelde duurtijd: {arr_duurtijd.mean()}')\n",
        "print(f'langste duurtijd: {arr_duurtijd.max()}')\n",
        "print(f'kortste duurtijd: {arr_duurtijd.min()}')"
      ],
      "metadata": {
        "id": "87NBdrCEHPha"
      },
      "execution_count": null,
      "outputs": []
    },
    {
      "cell_type": "markdown",
      "source": [
        "Een negatieve duurtijd is natuurlijk onmogelijk. Maar 511507 seconden komt ongeveer overeen met een taxirit van 6 dagen. Dat is ook nogal veel.  \n",
        "\n",
        "Laat ons eerst eens naar de negatieve duurtijden kijken. De eerste is duidelijk een fout: op 4 januari vertrekken en en 2 januari aankomen is fysiek onmogelijk. De andere waarden vertonen allemaal een patroon: duurtijd = -10 seconden."
      ],
      "metadata": {
        "id": "XmZ39fI0HUAS"
      }
    },
    {
      "cell_type": "code",
      "source": [
        "arr_pickup_dropoff[arr_duurtijd < 0]"
      ],
      "metadata": {
        "id": "TzjeoYZzHYXj"
      },
      "execution_count": null,
      "outputs": []
    },
    {
      "cell_type": "markdown",
      "source": [
        "We kunnen ook eens kijken naar de afstanden met duurtijd =0. Omdat dat er veel zijn, is het handig om eens naar min() en max() te kijken.\n",
        "\n",
        "Maar misschien dat een verdeling over een reeks bins ons nog wat meer informatie verschaft?"
      ],
      "metadata": {
        "id": "kAtb13NAIQET"
      }
    },
    {
      "cell_type": "code",
      "source": [
        "arr_trip_distance = np.genfromtxt(TAXI_CSV, delimiter=',', skip_header=1, usecols=(4))\n",
        "print(arr_trip_distance[arr_duurtijd == 0].min())\n",
        "print(arr_trip_distance[arr_duurtijd == 0].max())\n",
        "bins= [0, 5, 10, 15, 20, 25, 30]\n",
        "np.histogram(arr_trip_distance[arr_duurtijd == 0], bins)"
      ],
      "metadata": {
        "id": "PJatwJAXITGb"
      },
      "execution_count": null,
      "outputs": []
    },
    {
      "cell_type": "markdown",
      "source": [
        "De overgrote meerderheid van de taxiritten met duurtijd 0 hebben ook een afstand van minder dan 5 mijlen. Dat is logisch. Er zijn er een aantal (16) die langer waren. We kunnen eventueel nog eens kijken hoeveel ritten een duurtijd van 0 hadden en een afstand die groter was dan 0. Dat zijn er 288."
      ],
      "metadata": {
        "id": "wjY54HHFIevr"
      }
    },
    {
      "cell_type": "code",
      "source": [
        "np.count_nonzero((arr_duurtijd == 0) & (arr_trip_distance > 0))"
      ],
      "metadata": {
        "id": "nZfVE9ghIjxs"
      },
      "execution_count": null,
      "outputs": []
    },
    {
      "cell_type": "markdown",
      "source": [
        "###Eerste filter\n",
        "De taxiritten met duurtijd 0 zijn voor het overgrote deel logisch want ze hebben ook een afstand van 0 mijlen. Het zijn dus waarschijnlijk ritten die niet effectief gestart zijn. Aangezien we de gemiddelde duurtijd van een taxirit willen berekenen, zullen we die niet meerekenen.\n",
        "\n",
        "De negatieve duurtijden zijn fout en mogen ook niet meegerekend worden voor de berekening van het gemiddelde.\n",
        "\n",
        "Wat de ritten betreft met duurtijd 0 en afstand > 0: daar weten we niet wat er aan de hand is. Vermoedelijk gaat het om foute data. Omdat het er niet veel zijn, zullen we ze er ook uitfilteren. De eerste filter wordt dus:"
      ],
      "metadata": {
        "id": "jjNq6uJ-IkqF"
      }
    },
    {
      "cell_type": "code",
      "source": [
        "filter = (arr_duurtijd > 0)\n",
        "print(f'gemiddelde duurtijd: {arr_duurtijd[filter].mean()}')\n",
        "print(f'langste duurtijd: {arr_duurtijd[filter].max()}')\n",
        "print(f'kortste duurtijd: {arr_duurtijd[filter].min()}')"
      ],
      "metadata": {
        "id": "uVubISyqItqO"
      },
      "execution_count": null,
      "outputs": []
    },
    {
      "cell_type": "markdown",
      "source": [
        "We kunnen vervolgens eens naar de uitzonderlijk lange duurtijden kijken. Laat ons om te beginnen eens kijken naar 'langer dan een dag'. Dat zijn er 15 met als langste afstand ongeveer 60 mijlen(5.885e+01). Dat klinkt allemaal erg onwaarschijnlijk."
      ],
      "metadata": {
        "id": "WbJ_hB5sIyuH"
      }
    },
    {
      "cell_type": "code",
      "source": [
        "print(arr_trip_distance[filter &(arr_duurtijd > 3600 * 24)])"
      ],
      "metadata": {
        "id": "HEj7nqJxI3gv"
      },
      "execution_count": null,
      "outputs": []
    },
    {
      "cell_type": "markdown",
      "source": [
        "We kunnen misschien eens naar de gemiddelde snelheid kijken van de ritten die langer dan 24 uur duren. Een snelheid van 1 mijl/uur komt overeen met slenteren. Daarnaast zijn er ook een aantal ritten met als snelheid 0. Dat komt overeen met stilstaan"
      ],
      "metadata": {
        "id": "Yn9HfkxzJBmY"
      }
    },
    {
      "cell_type": "code",
      "source": [
        "temp_filter = filter & (arr_duurtijd > 3600 * 24)\n",
        "snelheid = arr_trip_distance[temp_filter] / (arr_duurtijd[temp_filter] / 3600).astype(np.int64)\n",
        "print(f'hoogste snelheid: {snelheid.max()}')\n",
        "print(f'laagste snelheid: {snelheid.min()}')\n",
        "print(f'aantal: {snelheid.size}')"
      ],
      "metadata": {
        "id": "QD6FNxvEJum-"
      },
      "execution_count": null,
      "outputs": []
    },
    {
      "cell_type": "markdown",
      "source": [
        "Mogen we de ritten met afstand 0 eruit filteren? Misschien niet. Er kunnen passagiers zijn die uit de taxi stappen wanneer die vastzit in het verkeer en toch moeten betalen. Laat ons eens kijken hoe het zit met de kostprijs voor een rit met afstand 0."
      ],
      "metadata": {
        "id": "eey2otS8Jxj3"
      }
    },
    {
      "cell_type": "code",
      "source": [
        "temp_filter = filter & (arr_trip_distance == 0)\n",
        "arr_totaal = np.genfromtxt(TAXI_CSV, delimiter=',', skip_header=1, usecols=(-2))\n",
        "print(arr_totaal[temp_filter].max())\n",
        "print(arr_totaal[temp_filter].min())\n",
        "print(np.count_nonzero(temp_filter))"
      ],
      "metadata": {
        "id": "BphrS3GbJ8Lh"
      },
      "execution_count": null,
      "outputs": []
    },
    {
      "cell_type": "markdown",
      "source": [
        "Een negatieve kostprijs zou een teruggave kunnen zijn. Laat ons eens kijken naar de verdeling van de prijzen voor de ritten die we er nu uitgefilterd hebben. De prijzen tussen 0 en 50 dollar zouden misschien nog wel kunnen, maar een hogere kostprijs lijkt nogal hoog. Maar wanneer we naar het totaal aantal ritten kijken, ligt dit weer niet zo hoog. We zullen de ritten met afstand 0 eruit filteren.\n",
        "\n",
        "Omdat negatieve bedragen ofwel niet correct zijn, ofwel een teruggave zijn en dus niet meegeteld moeten worden voor de gemiddelde duurtijd, nemen we die voorwaarde ook op in de filter."
      ],
      "metadata": {
        "id": "m4oAgYkQKBza"
      }
    },
    {
      "cell_type": "code",
      "source": [
        "bins = [-1000, 0,50,  100, 200, 300, 400, 500, 600, 700, 800, 900, 1000, 1100]\n",
        "np.histogram(arr_totaal[temp_filter], bins)"
      ],
      "metadata": {
        "id": "bYWcVUmFKEQ5"
      },
      "execution_count": null,
      "outputs": []
    },
    {
      "cell_type": "markdown",
      "source": [
        "###Tweede filter\n",
        "Laat ons nu nog eens terug kijken naar de duurtijden van de ritten met de nieuwe filter"
      ],
      "metadata": {
        "id": "r22ubW_NKF0K"
      }
    },
    {
      "cell_type": "code",
      "source": [
        "filter2 = filter & (arr_trip_distance > 0) & (arr_totaal > 0)\n",
        "print(arr_duurtijd[filter].max())\n",
        "print(arr_duurtijd[filter].min())\n",
        "print(np.count_nonzero(filter))"
      ],
      "metadata": {
        "id": "QsyFh7JCKJ-a"
      },
      "execution_count": null,
      "outputs": []
    },
    {
      "cell_type": "markdown",
      "source": [
        "Op welke basis zouden we een maximumduurtijd kunnen bepalen voor de filter op de taxiritten? We zouden eens naar de verdelingen van de aantallen kunnen kijken."
      ],
      "metadata": {
        "id": "PRZXxlbaKOOL"
      }
    },
    {
      "cell_type": "code",
      "source": [
        "bins = np.arange(0, 3600 * 24, 3600)\n",
        "np.histogram(arr_duurtijd[filter2], bins)"
      ],
      "metadata": {
        "id": "_WjHzdqGKQ8L"
      },
      "execution_count": null,
      "outputs": []
    },
    {
      "cell_type": "markdown",
      "source": [
        "##Derde filter\n",
        "De overgrote meerderheid van de ritten duren minder dan 2 uur. Misschien dat we hier wel een goede maximumwaarde hebben voor de duurtijd. Het wegfilteren zal niet veel invloed hebben op de gemiddelde duurtijd."
      ],
      "metadata": {
        "id": "BG52dbV5KUJr"
      }
    },
    {
      "cell_type": "code",
      "source": [
        "filter3 = filter2 & (arr_duurtijd < 3600*2)\n",
        "print(f'gemiddelde duurtijd: {arr_duurtijd[filter3].mean()}')\n",
        "print(f'langste duurtijd: {arr_duurtijd[filter3].max()}')\n",
        "print(f'kortste duurtijd: {arr_duurtijd[filter3].min()}')"
      ],
      "metadata": {
        "id": "0Lk7uKJXK4RB"
      },
      "execution_count": null,
      "outputs": []
    },
    {
      "cell_type": "markdown",
      "source": [
        "Wanneer we als maximumduurtijd 3 uur nemen, is de gemiddelde tijd 1 seconde langer. We zouden eventueel eens kunnen kijken naar de prijzen voor de ritten tussen 2 en 3 uur. De meerderheid ligt tussen de 50 en de 100 dollar. Dat is misschien niet zo uitzonderlijk."
      ],
      "metadata": {
        "id": "k-amKgV8K7qR"
      }
    },
    {
      "cell_type": "code",
      "source": [
        "temp_filter = filter2 & (arr_duurtijd > 3600 * 2) & (arr_duurtijd < 3600 * 3)\n",
        "print(arr_totaal[temp_filter].max())\n",
        "print(arr_totaal[temp_filter].min())\n",
        "bins = [0, 5, 25, 50, 100, 500, 1200]\n",
        "np.histogram(arr_totaal[temp_filter], bins)"
      ],
      "metadata": {
        "id": "K4kMP8ReK9YB"
      },
      "execution_count": null,
      "outputs": []
    },
    {
      "cell_type": "markdown",
      "source": [
        "###Uiteindelijke (voorlopige) filter\n",
        "Omdat de prijzen voor de taxiritten tussen de 2 en de 3 uur misschien ook nog wel ok zijn, zet ik de uiteindelijke filter op 3 uur."
      ],
      "metadata": {
        "id": "Ial1UekRLFQ6"
      }
    },
    {
      "cell_type": "code",
      "source": [
        "import matplotlib.pyplot as plt\n",
        "filter4 = filter2 & (arr_duurtijd < 3600*3)\n",
        "print(f'gemiddelde duurtijd: {arr_duurtijd[filter4].mean()}')\n",
        "print(f'langste duurtijd: {arr_duurtijd[filter4].max()}')\n",
        "print(f'kortste duurtijd: {arr_duurtijd[filter4].min()}')\n",
        "plt.hist(arr_duurtijd[filter4].astype(np.int64), bins=10)\n",
        "plt.show()"
      ],
      "metadata": {
        "id": "v6yXrSb5LHQ6"
      },
      "execution_count": null,
      "outputs": []
    }
  ]
}