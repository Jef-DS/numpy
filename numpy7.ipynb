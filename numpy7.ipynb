{
  "nbformat": 4,
  "nbformat_minor": 0,
  "metadata": {
    "colab": {
      "provenance": []
    },
    "kernelspec": {
      "name": "python3",
      "display_name": "Python 3"
    },
    "language_info": {
      "name": "python"
    }
  },
  "cells": [
    {
      "cell_type": "markdown",
      "source": [
        "#Arrays filteren\n",
        "##Filtering: het weer in Spanje\n",
        "We kunnen informatie over de temperatuur en de neerslag per maand downloaden van een aantal Spaanse steden van [Kaggle](https://www.kaggle.com/datasets/alexgczs/monthly-temperature-in-spain-1996-2023).  "
      ],
      "metadata": {
        "id": "Mf6UdE7ujrJ-"
      }
    },
    {
      "cell_type": "code",
      "execution_count": null,
      "metadata": {
        "id": "L60JUI2UjqV7"
      },
      "outputs": [],
      "source": [
        "from zipfile import ZipFile\n",
        "import requests\n",
        "data = requests.get('https://www.kaggle.com/api/v1/datasets/download/alexgczs/monthly-temperature-in-spain-1996-2023')\n",
        "with open('data.zip', 'wb') as f:\n",
        "  f.write(data.content)\n",
        "with ZipFile('data.zip', 'r') as zip:\n",
        "  zip.extractall()"
      ]
    },
    {
      "cell_type": "markdown",
      "source": [
        "We hebben de volgende kolommen: maand, gemiddelde temperatuur, maximum temperatuur, minimum temperatuur, aantal regendagen, hoeveelheid neerslag, gemiddelde wind, plaats"
      ],
      "metadata": {
        "id": "7sqiIwh6zJlf"
      }
    },
    {
      "cell_type": "code",
      "source": [
        "TEMP_CSV = 'monthly_temperature_spain (1996-2023).csv'\n",
        "with open(TEMP_CSV, 'r') as f:\n",
        "  for _ in range(5):\n",
        "    print(f.readline(), end='')"
      ],
      "metadata": {
        "id": "GFTT_6gdl4sn"
      },
      "execution_count": null,
      "outputs": []
    },
    {
      "cell_type": "markdown",
      "source": [
        "Om te kunnen filteren op de plaats, moeten we kolom 7 lezen. De functie *np.unique_values()* geeft de unieke plaatsnamen terug."
      ],
      "metadata": {
        "id": "ZNL6Td413j5p"
      }
    },
    {
      "cell_type": "code",
      "source": [
        "import numpy as np\n",
        "TEMP_CSV = 'monthly_temperature_spain (1996-2023).csv'\n",
        "arr_plaatsen = np.genfromtxt(TEMP_CSV, delimiter=',', dtype=str, skip_header=1, usecols=7)\n",
        "np.unique_values(arr_plaatsen)"
      ],
      "metadata": {
        "id": "F2xGgwVgtVHd"
      },
      "execution_count": null,
      "outputs": []
    },
    {
      "cell_type": "markdown",
      "source": [
        "Stel dat we alleen de gegevens van 'Valencia' willen overhouden. De array *arr_is_valencia* bevat True waar de plaatsnaam 'Valencia' is."
      ],
      "metadata": {
        "id": "gDx7THLm38Pu"
      }
    },
    {
      "cell_type": "code",
      "source": [
        "import numpy as np\n",
        "TEMP_CSV = 'monthly_temperature_spain (1996-2023).csv'\n",
        "arr_plaatsen = np.genfromtxt(TEMP_CSV, delimiter=',', dtype=str, skip_header=1, usecols=7)\n",
        "arr_is_valencia = arr_plaatsen == 'Valencia'\n"
      ],
      "metadata": {
        "id": "nzIfrdnTmZwK"
      },
      "execution_count": null,
      "outputs": []
    },
    {
      "cell_type": "markdown",
      "source": [
        "Nu kunnen we de neerslag hoeveelheid lezen (column=5). Er is echter wel een probleem om die data te gebruiken: het woord ' mm'.\n",
        "\n",
        "Onder het *strings*-attribuut vinden we de NumPy-versies van de Python stringfuncties terug. In dit geval gebruiken we de *strings.replace()*-functie om ' mm' te verwijderen. Met *astype()* zorgen we ervoor dat de strings worden omgezet naar int64."
      ],
      "metadata": {
        "id": "LaGYhTCq5sTv"
      }
    },
    {
      "cell_type": "code",
      "source": [
        "import numpy as np\n",
        "TEMP_CSV = 'monthly_temperature_spain (1996-2023).csv'\n",
        "arr_regen = np.genfromtxt(TEMP_CSV, delimiter=',', dtype=str, skip_header=1, usecols=5)\n",
        "arr_regen_valencia = arr_regen[arr_is_valencia]\n",
        "arr_regen_valencia = np.strings.replace(arr_regen_valencia, 'mm', '').astype(np.int64)\n",
        "print(f'De gemiddelde regenval in Valencia (mm):{arr_regen_valencia.mean():.2f}' )\n",
        "#"
      ],
      "metadata": {
        "id": "Vvn92r2dnUEi"
      },
      "execution_count": null,
      "outputs": []
    },
    {
      "cell_type": "markdown",
      "source": [
        "Om het verschil te zien met het meer regenrijke Galicië kunnen we eens kijken naar Pontevedra."
      ],
      "metadata": {
        "id": "tS5uEJ-m6Uf1"
      }
    },
    {
      "cell_type": "code",
      "source": [
        "import numpy as np\n",
        "TEMP_CSV = 'monthly_temperature_spain (1996-2023).csv'\n",
        "arr_plaatsen = np.genfromtxt(TEMP_CSV, delimiter=',', dtype=str, skip_header=1, usecols=7)\n",
        "arr_is_pontevedra = arr_plaatsen == 'Pontevedra'\n",
        "arr_regen_pontevedra = arr_regen[arr_is_pontevedra]\n",
        "arr_regen_pontevedra = np.strings.replace(arr_regen_pontevedra, 'mm', '').astype(np.int64)\n",
        "print(f'De gemiddelde regenval in Pontevedra (mm): {arr_regen_pontevedra.mean():.2f}')"
      ],
      "metadata": {
        "id": "ywC3BqQnt72i"
      },
      "execution_count": null,
      "outputs": []
    },
    {
      "cell_type": "markdown",
      "source": [
        "Achter de schermen worden de vergelijkingsoperatoren vervangen door een UFunc. De ==-operator is hetzelfde als np.equal()."
      ],
      "metadata": {
        "id": "qE-YWJBL7vjV"
      }
    },
    {
      "cell_type": "code",
      "source": [
        "import numpy as np\n",
        "TEMP_CSV = 'monthly_temperature_spain (1996-2023).csv'\n",
        "arr_plaatsen = np.genfromtxt(TEMP_CSV, delimiter=',', dtype=str, skip_header=1, usecols=7)\n",
        "print(np.equal(arr_plaatsen,'Pontevedra')[:25])"
      ],
      "metadata": {
        "id": "dgVGUDNH68vA"
      },
      "execution_count": null,
      "outputs": []
    },
    {
      "cell_type": "markdown",
      "source": [
        "We kunnen een boolean-array gebruiken om te tellen hoe dikwijls een bepaalde waarde voorkomt. Omdat False gelijk is aan 0 kunnen we np.count_nonzero() gebruiken om de True-waarden te tellen. Stel dat we eens naar Lugo willen kijken:"
      ],
      "metadata": {
        "id": "p9qzLglu79wB"
      }
    },
    {
      "cell_type": "code",
      "source": [
        "import numpy as np\n",
        "TEMP_CSV = 'monthly_temperature_spain (1996-2023).csv'\n",
        "arr_plaatsen = np.genfromtxt(TEMP_CSV, delimiter=',', dtype=str, skip_header=1, usecols=7)\n",
        "arr_is_lugo = arr_plaatsen == 'Lugo'\n",
        "aantal_lugo = np.count_nonzero(arr_is_lugo)\n",
        "print(f'Aantal keer Lugo voorkomt: {aantal_lugo}')"
      ],
      "metadata": {
        "id": "WEZk8Ukr8NaV"
      },
      "execution_count": null,
      "outputs": []
    },
    {
      "cell_type": "markdown",
      "source": [
        "##Valt er elke maand meer dan 20 mm regen in Lugo?\n",
        "Eenmaal dat we neerslag hebben voor elke maand in Lugo, kunnen we daarop filteren: > 20.\n",
        "\n",
        "Om te controleren of alle waarden True zijn, kunnen we np.all() gebruiken. Om te controleren of er minstens 1 waarde True is, gebruiken we np.any().\n"
      ],
      "metadata": {
        "id": "uYL_Dx3Y8w6e"
      }
    },
    {
      "cell_type": "code",
      "source": [
        "import numpy as np\n",
        "TEMP_CSV = 'monthly_temperature_spain (1996-2023).csv'\n",
        "arr_plaatsen = np.genfromtxt(TEMP_CSV, delimiter=',', dtype=str, skip_header=1, usecols=7)\n",
        "arr_regen = np.genfromtxt(TEMP_CSV, delimiter=',', dtype=str, skip_header=1, usecols=5)\n",
        "arr_is_lugo = arr_plaatsen == 'Lugo'\n",
        "arr_regen_lugo = arr_regen[arr_is_lugo]\n",
        "arr_regen_lugo = np.strings.replace(arr_regen_lugo, 'mm', '').astype(np.int64)\n",
        "neerslag = 20\n",
        "print(f'Valt er elke maand meer dan {neerslag} mm in Lugo?', np.all(arr_regen_lugo > neerslag))"
      ],
      "metadata": {
        "id": "1eFcV2G685lX"
      },
      "execution_count": null,
      "outputs": []
    },
    {
      "cell_type": "markdown",
      "source": [
        "## Voorwaarden combineren\n",
        "Hoeveel maanden viel er meer dan 100 mm regen en was de gemiddelde temperatuur groter dan 5°C? We kunnen de filtering toepassen op de beide arrays (arr_temp_lugo en arr_regen_lugo), maar hoe combineren we die? Met *and*?\n",
        "\n",
        "Dat werkt dus niet. De and-operator verwacht aan beide kanten een boolean. Maar een array is geen boolean.\n"
      ],
      "metadata": {
        "id": "1WfKV-hn-H9l"
      }
    },
    {
      "cell_type": "code",
      "source": [
        "import numpy as np\n",
        "TEMP_CSV = 'monthly_temperature_spain (1996-2023).csv'\n",
        "arr_plaatsen = np.genfromtxt(TEMP_CSV, delimiter=',', dtype=str, skip_header=1, usecols=7)\n",
        "arr_regen = np.genfromtxt(TEMP_CSV, delimiter=',', dtype=str, skip_header=1, usecols=5)\n",
        "arr_temp = np.genfromtxt(TEMP_CSV, delimiter=',', dtype=str, skip_header=1, usecols=1)\n",
        "arr_is_lugo = arr_plaatsen == 'Lugo'\n",
        "arr_regen_lugo = arr_regen[arr_is_lugo]\n",
        "arr_regen_lugo = np.strings.replace(arr_regen_lugo, 'mm', '').astype(np.int64)\n",
        "arr_temp_lugo = arr_temp[arr_is_lugo]\n",
        "arr_temp_lugo = np.strings.replace(arr_temp_lugo, 'ºC', '').astype(np.float64)\n",
        "neerslag = 100\n",
        "temp = 5\n",
        "print(arr_regen_lugo > neerslag)\n",
        "print(arr_temp_lugo > temp)\n",
        "print(arr_regen_lugo > neerslag and arr_temp_lugo > temp)\n"
      ],
      "metadata": {
        "id": "00YZABEQ-Ord"
      },
      "execution_count": null,
      "outputs": []
    },
    {
      "cell_type": "markdown",
      "source": [
        "##Bitwise operators\n",
        "In Python gebruiken we de [bitwise-operators](https://docs.python.org/3/reference/expressions.html#binary-bitwise-operations) om de bits van integers één voor één te vergelijken."
      ],
      "metadata": {
        "id": "BC_HJlh8AQfc"
      }
    },
    {
      "cell_type": "code",
      "source": [
        "getal1 = 6               #00000110\n",
        "getal2 = 5               #00000101\n",
        "print(getal1 & getal2)   #00000100  AND\n",
        "print(getal1 | getal2)   #00000111  OR\n",
        "print(getal1 ^ getal2)   #00000011  XOR\n",
        "print(~getal1)           #11111001  NOT"
      ],
      "metadata": {
        "id": "v8YEW_ZHBZV7"
      },
      "execution_count": null,
      "outputs": []
    },
    {
      "cell_type": "markdown",
      "source": [
        "In NumPy wordt het concept van 'één-voor-één' toegepast op de elementen van een array. De &-operator (bitwise and) kunnen we gebruiken om een boolean array terug te krijgen met True op de indexen waar beide arrays True(1) zijn.\n",
        "\n",
        "Let op: de &-operator heeft voorrang op de gewone vergelijkingsoperatoren. We moeten dus ronde haakjes gebruiken."
      ],
      "metadata": {
        "id": "yOVeWC3VCDYN"
      }
    },
    {
      "cell_type": "code",
      "source": [
        "import numpy as np\n",
        "TEMP_CSV = 'monthly_temperature_spain (1996-2023).csv'\n",
        "arr_plaatsen = np.genfromtxt(TEMP_CSV, delimiter=',', dtype=str, skip_header=1, usecols=7)\n",
        "arr_regen = np.genfromtxt(TEMP_CSV, delimiter=',', dtype=str, skip_header=1, usecols=5)\n",
        "arr_temp = np.genfromtxt(TEMP_CSV, delimiter=',', dtype=str, skip_header=1, usecols=1)\n",
        "arr_maanden = np.genfromtxt(TEMP_CSV, delimiter=',', dtype=str, skip_header=1, usecols=0)\n",
        "arr_is_lugo = arr_plaatsen == 'Lugo'\n",
        "arr_regen_lugo = arr_regen[arr_is_lugo]\n",
        "arr_regen_lugo = np.strings.replace(arr_regen_lugo, 'mm', '').astype(np.int64)\n",
        "arr_temp_lugo = arr_temp[arr_is_lugo]\n",
        "arr_temp_lugo = np.strings.replace(arr_temp_lugo, 'ºC', '').astype(np.float64)\n",
        "arr_maanden_lugo = arr_maanden[arr_is_lugo]\n",
        "neerslag = 100\n",
        "temp = 5\n",
        "print(arr_regen_lugo > neerslag)\n",
        "print(arr_temp_lugo > temp)\n",
        "print((arr_regen_lugo > neerslag) & (arr_temp_lugo > temp)) #let op de ronde haakjes\n",
        "print(np.count_nonzero((arr_regen_lugo > neerslag) & (arr_temp_lugo > temp)))\n",
        "print(arr_maanden_lugo[(arr_regen_lugo > neerslag) & (arr_temp_lugo > temp)])\n",
        "#"
      ],
      "metadata": {
        "id": "1DLBB_fRC5uh"
      },
      "execution_count": null,
      "outputs": []
    }
  ]
}