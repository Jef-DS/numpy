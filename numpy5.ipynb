{
  "nbformat": 4,
  "nbformat_minor": 0,
  "metadata": {
    "colab": {
      "provenance": []
    },
    "kernelspec": {
      "name": "python3",
      "display_name": "Python 3"
    },
    "language_info": {
      "name": "python"
    }
  },
  "cells": [
    {
      "cell_type": "markdown",
      "source": [
        "#Aggregaties\n",
        "Aggregatiefuncties nemen een reeks waarden tezamen en maken er 1 waarde van. De belangrijkste voorbeelden in SQL zijn: min(), max(), sum(), avg(), count()\n",
        "\n",
        "##De sum-functies\n",
        "Er is *sum()*(Python functie) en *np.sum()* (NumPy functie). De Python functie is niet alleen trager, ze heeft ook andere argumenten."
      ],
      "metadata": {
        "id": "mjaAKSBYurak"
      }
    },
    {
      "cell_type": "code",
      "source": [
        "import numpy as np\n",
        "\n",
        "rng = np.random.default_rng(42)\n",
        "arr_1 = rng.integers(0, 10, size=6).reshape(2, -1)\n",
        "print('arr_1:\\n', arr_1)\n",
        "print(f'{sum(arr_1)=}')\n",
        "print(f'{np.sum(arr_1)=}')\n",
        "print(f'{sum(arr_1, 1)=}')   # arr_1=iterable, 1=startwaarde\n",
        "print(f'{np.sum(arr_1, 1)=}') #1=axis ('over de kolommen heen'=per rij)\n",
        "#De sum()-functie met lists voegt ze samen. De startwaarde moet ook een list zijn.\n",
        "print(f'{sum([[0, 7, 6],[4, 4, 8]], [0, 0, 0])=}')"
      ],
      "metadata": {
        "id": "hl0c-eWpu2QT"
      },
      "execution_count": null,
      "outputs": []
    },
    {
      "cell_type": "markdown",
      "source": [
        "##Een axis in NumPy\n",
        "Een *axis* verwijst naar een dimensie in een meer-dimensionele array. In een tweedimensionele array verwijst axis=0 naar de rijen (eerste dimensie) en axis=1 naar de kolommen (tweede dimensie).\n",
        "\n",
        "Vergelijk de volgende drie sommen:"
      ],
      "metadata": {
        "id": "-HStmgrSfBI0"
      }
    },
    {
      "cell_type": "code",
      "source": [
        "import numpy as np\n",
        "\n",
        "rng = np.random.default_rng(42)\n",
        "arr_1 = rng.integers(0, 10, size=6).reshape(2, -1)\n",
        "print('arr_1:\\n', arr_1)\n",
        "print(f'{np.sum(arr_1)=}')          #alle waarden optellen\n",
        "print(f'{np.sum(arr_1, axis=0)=}')  #over de rijen heen (per kolom): de rijdimensie verdwijnt\n",
        "print(f'{np.sum(arr_1, axis=1)=}')  #over de kolommen heen (per rij): de kolomdimensie verdwijnt"
      ],
      "metadata": {
        "id": "bjdJkGQWfsCL"
      },
      "execution_count": null,
      "outputs": []
    },
    {
      "cell_type": "markdown",
      "source": [
        "##Het gemiddelde van een reeks waarden"
      ],
      "metadata": {
        "id": "nvcFwtSbgP0_"
      }
    },
    {
      "cell_type": "code",
      "source": [
        "import numpy as np\n",
        "\n",
        "rng = np.random.default_rng(42)\n",
        "arr_1 = rng.integers(0, 10, size=6).reshape(2, -1)\n",
        "print('arr_1:\\n', arr_1)\n",
        "print(f'{np.mean(arr_1)=}')          #gemiddelde van alle waarden\n",
        "print(f'{np.mean(arr_1, axis=0)=}')  #over de rijen heen (per kolom)\n",
        "print(f'{np.mean(arr_1, axis=1)=}')  #over de kolommen heen (per rij)"
      ],
      "metadata": {
        "id": "Rdzmv6wNgy5L"
      },
      "execution_count": null,
      "outputs": []
    },
    {
      "cell_type": "markdown",
      "source": [
        "##De waarde 'None' (NULL in een databank)\n",
        "Soms ontbreekt er een waarde. In Python gebruiken we daarvoor de waarde *None*. Maar let op met een aggregatiefunctie voor een array met None-waarden. (dit is dus anders dan in een databank waar een aggregatiefunctie geen rekening houdt met NULL-waarden)"
      ],
      "metadata": {
        "id": "cQcPmcaphGi3"
      }
    },
    {
      "cell_type": "code",
      "source": [
        "import numpy as np\n",
        "\n",
        "arr = np.array([1, 2, 3, None])\n",
        "print(arr)\n",
        "print(f'{np.mean(arr[:-1])=}')\n",
        "print(f'{np.mean(arr)=}')"
      ],
      "metadata": {
        "id": "ECcM8MMmhYQ4"
      },
      "execution_count": null,
      "outputs": []
    },
    {
      "cell_type": "markdown",
      "source": [
        "## De waarde Not-A-Number\n",
        "Alle elementen van een NumPy array moeten hetzelfde type hebben. De waarde *None* is geen integer, daarom wordt het algemene type 'Python object' gekozen. Door als type specifiek *np.float64* te kiezen, zien we de overeenkomstige NumPy waarde voor *None* verschijnen: np.nan."
      ],
      "metadata": {
        "id": "WmTVRDIPiAd2"
      }
    },
    {
      "cell_type": "code",
      "source": [
        "import numpy as np\n",
        "\n",
        "arr = np.array([1, 2, 3, None])\n",
        "print(f'arr.dtype: {arr.dtype}')\n",
        "arr = arr.astype(np.float64)\n",
        "print(f'Na omzetten naar float64 type {arr.dtype=}')\n",
        "print(f'{arr=}')\n"
      ],
      "metadata": {
        "id": "kgTM7qW9iGne"
      },
      "execution_count": null,
      "outputs": []
    },
    {
      "cell_type": "markdown",
      "source": [
        "## Not-A-Number is een float\n",
        "In NumPy is NaN geen geldige waarde voor een integer. Dat heeft gevolgen voor het type dat NumPy kiest wanneer we een array maken."
      ],
      "metadata": {
        "id": "aQq9qXJ8jhbU"
      }
    },
    {
      "cell_type": "code",
      "source": [
        "import numpy as np\n",
        "\n",
        "arr = np.array([1, 2, 3, np.nan])\n",
        "print(f'{arr=}')\n",
        "print(f'{arr.dtype=}')"
      ],
      "metadata": {
        "id": "GJ5r0s--lPob"
      },
      "execution_count": null,
      "outputs": []
    },
    {
      "cell_type": "markdown",
      "source": [
        "## Let op met np.nan-waarden\n",
        "De aggregatiefuncties hebben een probleem met np.nan-waarden. Dit is dus anders dan in SQL."
      ],
      "metadata": {
        "id": "GXHomfjfl4VG"
      }
    },
    {
      "cell_type": "code",
      "source": [
        "import numpy as np\n",
        "\n",
        "arr = np.array([1, 2, 3, np.nan])\n",
        "print(f'{arr=}')\n",
        "\n",
        "print(f'{np.sum(arr)=}')\n",
        "print(f'{np.mean(arr)=}')\n",
        "\n",
        "print(f'{np.nansum(arr)=}')\n",
        "print(f'{np.nanmean(arr)=}')"
      ],
      "metadata": {
        "id": "RTeJtCN7mJgi"
      },
      "execution_count": null,
      "outputs": []
    },
    {
      "cell_type": "markdown",
      "source": [
        "##Gemiddelde en mediaan\n",
        "Het gemiddelde is gedefinieerd als de *som van de elementen gedeeld door het aantal*.\n",
        "\n",
        "De mediaan is het *middelste element van de gesorteerde elementen*. Wanneer er een even aantal elementen zijn, wordt het gemiddelde van de twee middelste elementen genomen.\n",
        "\n",
        "In het volgende voorbeeld zien we dat extreme waarden (de 1-waarden) het gemiddelde meer beïnvloeden dan de mediaan.\n"
      ],
      "metadata": {
        "id": "FpUnfipCnAAB"
      }
    },
    {
      "cell_type": "code",
      "source": [
        "import numpy as np\n",
        "arr1 = np.arange(10, 20)\n",
        "print('arr1:\\n', arr1)\n",
        "print(f'{np.mean(arr1)=}')\n",
        "print(f'{np.median(arr1)=}')\n",
        "arr2 = np.ones(2, dtype=np.int64) #standaardtype van np.ones is float\n",
        "arr = np.hstack ([arr1, arr2])\n",
        "print('arr1:\\n', arr)\n",
        "print(f'{np.mean(arr)=}')\n",
        "print(f'{np.median(arr)=}')"
      ],
      "metadata": {
        "id": "6gZUpq9wnX0j"
      },
      "execution_count": null,
      "outputs": []
    },
    {
      "cell_type": "markdown",
      "source": [
        "##Unieke waarden\n",
        "Met np.unique() kunnen we unieke waarden opvragen. Met de extra parameter *return_counts* kunnen we ook opvragen hoe dikwijls elk van die waarden voorkomen"
      ],
      "metadata": {
        "id": "aE13NMWfwEKa"
      }
    },
    {
      "cell_type": "code",
      "source": [
        "import numpy as np\n",
        "rng = np.random.default_rng(42)\n",
        "arr = rng.integers(0, 5, size=10)\n",
        "print(f'{arr=}')\n",
        "print(f'{np.unique(arr)=}')\n",
        "print(f'{np.unique(arr, return_counts=True)=}')\n",
        "waarde = 0\n",
        "print(f'Hoe dikwijls komt de waarde {waarde} voor in de array?')\n",
        "uniek, aantallen = np.unique(arr, return_counts=True)\n",
        "aantallen[uniek==waarde]"
      ],
      "metadata": {
        "id": "XugvCx1twDik"
      },
      "execution_count": null,
      "outputs": []
    },
    {
      "cell_type": "markdown",
      "source": [
        "##Grootste en kleinste waarde\n",
        "Met de functies np.max() en np.min() kunnen we het maximum en het minimum van een array opvragen. Maar ook hier moeten we opletten met nan-waarden"
      ],
      "metadata": {
        "id": "WvMs7h-VyZ2J"
      }
    },
    {
      "cell_type": "code",
      "source": [
        "import numpy as np\n",
        "rng = np.random.default_rng(42)\n",
        "arr1 = rng.integers(0, 10, size=6).reshape(2, -1).astype(np.float64)\n",
        "\n",
        "print('arr1:\\n', arr1)\n",
        "print(f'{np.max(arr1)=}')\n",
        "print(f'{np.min(arr1)=}')\n",
        "print(f'{np.max(arr1, axis=0)=}')\n",
        "print(f'{np.max(arr1, axis=1)=}')\n",
        "arr1[1, 0] = np.nan\n",
        "print('arr1:\\n', arr1)\n",
        "print(f'{np.max(arr1)=}')\n",
        "print(f'{np.min(arr1)=}')\n",
        "print(f'{np.nanmax(arr1)=}')\n",
        "print(f'{np.nanmin(arr1)=}')\n"
      ],
      "metadata": {
        "id": "le1v3JNeypXT"
      },
      "execution_count": null,
      "outputs": []
    },
    {
      "cell_type": "markdown",
      "source": [
        "##Ongeldige datums\n",
        "Een ongeldige datum wordt 'NaT' (not-a-time). Hier kunnen we ook np.nanmax() gebruiken wanneer we de laatste datum willen opvragen."
      ],
      "metadata": {
        "id": "7VfZE82AB3ND"
      }
    },
    {
      "cell_type": "code",
      "source": [
        "import numpy as np\n",
        "arr = np.array(['2025-01-01','2025-02-28', '2025-09-20', ''], dtype='datetime64[D]')\n",
        "print(f'{arr=}')\n",
        "print(f'{np.isnat(arr)=}')\n",
        "print(f'{np.nanmax(arr)=}')\n"
      ],
      "metadata": {
        "id": "xB2fgwKUB5vL"
      },
      "execution_count": null,
      "outputs": []
    },
    {
      "cell_type": "markdown",
      "source": [
        "## Data uit een bestand\n",
        "Meestal worden de data bij een data-analyse niet ingetypt. We halen die bijvoorbeeld uit een bestand. We zouden het bestand kunnen lezen met Python. Maar er is een speciale functie in NumPy om CSV-bestanden te lezen: *np.genfromtext*.\n",
        "\n",
        "We beginnen met een planetendataset te downloaden van [kaggle](https://www.kaggle.com/datasets/iamsouravbanerjee/planet-dataset). Hiervoor gebruiken we natuurlijk Python. De download is een zipbestand. We gebruiken de ingebouwde module *zipfile* om de bestanden (planets.csv en planets_updated.csv) uit te pakken."
      ],
      "metadata": {
        "id": "kEwfRP0VolBH"
      }
    },
    {
      "cell_type": "code",
      "source": [
        "from zipfile import ZipFile\n",
        "import numpy as np\n",
        "import requests\n",
        "\n",
        "data = requests.get('https://www.kaggle.com/api/v1/datasets/download/iamsouravbanerjee/planet-dataset')\n",
        "ZIP_BESTAND = 'archive.zip'\n",
        "with open(ZIP_BESTAND, 'wb') as bestand:\n",
        "  bestand.write(data.content)\n",
        "with ZipFile(ZIP_BESTAND, 'r') as bestand:\n",
        "  bestand.extractall()"
      ],
      "metadata": {
        "id": "uK8um-7zpgXe"
      },
      "execution_count": null,
      "outputs": []
    },
    {
      "cell_type": "markdown",
      "source": [
        "##Planets.csv lezen\n",
        "Om te zien hoe het bestand er uitziet, kunnen we Python gebruiken"
      ],
      "metadata": {
        "id": "XQbIEtqErXtP"
      }
    },
    {
      "cell_type": "code",
      "source": [
        "PLANETS_CSV = 'planets.csv'\n",
        "with open(PLANETS_CSV, 'r') as bestand:\n",
        "  for _ in range(4):\n",
        "    print(bestand.readline(), end='')"
      ],
      "metadata": {
        "id": "dJlxlOvzrlgo"
      },
      "execution_count": null,
      "outputs": []
    },
    {
      "cell_type": "markdown",
      "source": [
        "## Probleem met kolom 'Color'\n",
        "De tweede kolom (Color) bevat tekst, gescheiden door een komma. De Python CSV-reader heeft hiermee geen probleem omdat we als *quotechar* de dubbele aanhalingstekens kunnen ingeven. Maar de functie die we zullen gebruiken in NumPy herkent de dubbele aanhalingstekens niet (\").\n",
        "\n",
        "Daarom zullen we het scheidingsteken vervangen door de puntkomma en een nieuw CSV-bestand maken."
      ],
      "metadata": {
        "id": "FYAhC9-2vWiB"
      }
    },
    {
      "cell_type": "code",
      "source": [
        "import csv\n",
        "PLANETEN_CSV = 'planeten.csv'\n",
        "with open(PLANETS_CSV, 'r') as bestand:\n",
        "  reader = csv.DictReader(bestand, delimiter=',', quotechar='\"')\n",
        "  with open(PLANETEN_CSV, 'w', newline='') as bestand2:\n",
        "    writer = csv.DictWriter(bestand2, fieldnames=reader.fieldnames, delimiter=';')\n",
        "    writer.writeheader()\n",
        "    writer.writerows(reader)\n",
        "with open(PLANETEN_CSV, 'r') as bestand:\n",
        "  for regel in bestand:\n",
        "    print(regel, end='')\n"
      ],
      "metadata": {
        "id": "m7EvXEzEvybl"
      },
      "execution_count": null,
      "outputs": []
    },
    {
      "cell_type": "markdown",
      "source": [
        "##De gemiddelde diameter van de planeten in ons zonnestelsel\n",
        "Het scheidingsteken is een puntkomma. De eerste regel bevat de kolomnamen. Die zullen we moeten overslaan. En de diameter staat in de 4de kolom."
      ],
      "metadata": {
        "id": "HQ9v3nBQsBMk"
      }
    },
    {
      "cell_type": "code",
      "source": [
        "import numpy as np\n",
        "arr_diameter = np.genfromtxt(PLANETEN_CSV, delimiter=';', usecols=3, skip_header=1)\n",
        "print(f'{arr_diameter=}')\n",
        "print(f'{np.mean(arr_diameter)=}')"
      ],
      "metadata": {
        "id": "wKLJAhPqsPDd"
      },
      "execution_count": null,
      "outputs": []
    },
    {
      "cell_type": "markdown",
      "source": [
        "## De planeten met een ringstelsel\n",
        "We maken een array met de namen van de planeten. Of een planeet een ringstelsel heeft, staat in de 21ste kolom. De waarden in die kolom zijn 'Yes' en 'No'. Met behulp van een converter kunnen we die omzetten naar een boolean.\n",
        "\n",
        "En we hebben al gezien dat we een array van booleanwaarden als filter kunnen gebruiken tussen de vierkante haakjes."
      ],
      "metadata": {
        "id": "eAkGIr9cs6mt"
      }
    },
    {
      "cell_type": "code",
      "source": [
        "import numpy as np\n",
        "arr_namen = np.genfromtxt(PLANETEN_CSV, delimiter=';', usecols=0, skip_header=1, dtype=str)\n",
        "arr_rings = np.genfromtxt(PLANETEN_CSV, delimiter=';', usecols=20, skip_header=1, converters={20:lambda s: s=='Yes'})\n",
        "print(f'{arr_rings=}')\n",
        "print(f'{arr_namen[arr_rings]=}')"
      ],
      "metadata": {
        "id": "kMv3jtO_tKDO"
      },
      "execution_count": null,
      "outputs": []
    }
  ]
}