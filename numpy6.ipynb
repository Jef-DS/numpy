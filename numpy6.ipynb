{
  "nbformat": 4,
  "nbformat_minor": 0,
  "metadata": {
    "colab": {
      "provenance": []
    },
    "kernelspec": {
      "name": "python3",
      "display_name": "Python 3"
    },
    "language_info": {
      "name": "python"
    }
  },
  "cells": [
    {
      "cell_type": "markdown",
      "source": [
        "#Broadcasting\n",
        "\n",
        "## wat is het ?\n",
        "De algemene regel bij het gebruik van de operatoren (+, -, *, /, ...) bij NumPy arrays is dat ze dezelfde dimensie moeten hebben:\n",
        "\n",
        "```\n",
        "ValueError: operands could not be broadcast together with shapes (3,) (2,)\n",
        "```\n",
        "\n"
      ],
      "metadata": {
        "id": "MwKYK9_OUt1b"
      }
    },
    {
      "cell_type": "code",
      "execution_count": null,
      "metadata": {
        "id": "cPrYfWRrUrmK"
      },
      "outputs": [],
      "source": [
        "import numpy as np\n",
        "\n",
        "arr_1 = np.array([1, 2, 3])\n",
        "arr_2 = np.array([4, 5, 6])\n",
        "arr_3 = np.array([1, 2])\n",
        "result = arr_1 + arr_2\n",
        "print(result)\n",
        "result = arr_1 + arr_3"
      ]
    },
    {
      "cell_type": "markdown",
      "source": [
        "## Arrays moeten niet altijd dezelfde shape hebben\n",
        "Er zijn echter uitzonderingen op deze regel"
      ],
      "metadata": {
        "id": "fSDzllJuWasA"
      }
    },
    {
      "cell_type": "code",
      "source": [
        "import numpy as np\n",
        "getal = np.int64(42)\n",
        "print(f'{getal=}')\n",
        "arr_1 = np.array([10])\n",
        "print(f'{arr_1=}')\n",
        "arr_2 = np.array([1, 2])\n",
        "print(f'{arr_2=}')\n",
        "print(f'{getal.shape=}')\n",
        "print(f'{arr_1.shape=}')\n",
        "print(f'{arr_2.shape=}')\n",
        "print(f'{(getal + arr_1)=}')\n",
        "print(f'{(getal + arr_2)=}')\n",
        "print(f'{(arr_1 + arr_2)=}')\n",
        "\n"
      ],
      "metadata": {
        "id": "wf1tLLlKWjVZ"
      },
      "execution_count": null,
      "outputs": []
    },
    {
      "cell_type": "markdown",
      "source": [
        "#Broadcasting in actie\n",
        "Broadcasting zorgt ervoor dat beide arrays dezelfde shape hebben. Bij de optellingen met getal, wordt het getal *gebroadcast* naar een array met dezelfde shape.\n",
        "\n",
        "Bij optelling van een shape (1,)-array en een shape (2,)-array wordt de array met shape (1,) gebroadcast naar een array met (2,).\n",
        "\n",
        "We kunnen het resultaat van een broadcast bekijken met de functie np.broadcast_to()"
      ],
      "metadata": {
        "id": "q4zG9WxlYASn"
      }
    },
    {
      "cell_type": "code",
      "source": [
        "import numpy as np\n",
        "getal = np.int64(42)\n",
        "print(f'{getal=}')\n",
        "arr_1 = np.array([10])\n",
        "print(f'{arr_1=}')\n",
        "arr_2 = np.array([1, 2])\n",
        "print(f'{arr_2=}')\n",
        "getal_broadcast = np.broadcast_to(getal, arr_2.shape)\n",
        "print(f'{getal_broadcast=}')\n",
        "print(f'{(getal_broadcast + arr_2)=}')\n",
        "arr_broadcast = np.broadcast_to(arr_1, arr_2.shape)\n",
        "print(f'{arr_broadcast=}')\n",
        "print(f'{(arr_broadcast + arr_2)=}')"
      ],
      "metadata": {
        "id": "N6Uc09GnYTg7"
      },
      "execution_count": null,
      "outputs": []
    },
    {
      "cell_type": "markdown",
      "source": [
        "## En met shape(2, 2) ?\n",
        "Hoe ziet het met de broadcasting naar een shape(2, 2)?"
      ],
      "metadata": {
        "id": "xewvkiBGa5x3"
      }
    },
    {
      "cell_type": "code",
      "source": [
        "import numpy as np\n",
        "arr_1 = np.array([1, 2])\n",
        "arr_2 = np.array([[3, 4], [5, 6]])\n",
        "print('arr_1:\\n', arr_1)\n",
        "print('arr_2:\\n', arr_2)\n",
        "arr_broadcast = np.broadcast_to(arr_1, arr_2.shape)\n",
        "print('arr_broadcast:\\n', arr_broadcast)\n",
        "print('arr_1 + arr_2:\\n', arr_1 + arr_2)"
      ],
      "metadata": {
        "id": "zv-C53nvbDKY"
      },
      "execution_count": null,
      "outputs": []
    },
    {
      "cell_type": "markdown",
      "source": [
        "#Er zijn regels voor broadcasting\n",
        "We kunnen zomaar niet eender welke array *broadcasten* naar eender welke shape"
      ],
      "metadata": {
        "id": "na6RxIZzaFXZ"
      }
    },
    {
      "cell_type": "code",
      "source": [
        "import numpy as np\n",
        "\n",
        "arr1 = np.array([1, 2])\n",
        "arr2 = np.array([3, 4, 5, 6])\n",
        "#arr_broadcast = np.broadcast_to(arr1, (4,))\n",
        "print(arr1 + arr2)"
      ],
      "metadata": {
        "id": "nVvyc2_iaONJ"
      },
      "execution_count": null,
      "outputs": []
    },
    {
      "cell_type": "markdown",
      "source": [
        "## Wat zijn die regels?\n",
        "1) wanneer het aantal dimensies niet gelijk is: vul de dimensies van de 'kleinste' array aan met 1 aan de linkerkant\n",
        "1) overloop de dimensies van links naar rechts. Wanneer de waarden van de dimensie verschillen en één van de waarden is gelijk aan 1 => broadcast de waarden van die dimensie naar de grootste array\n",
        "1) wanneer de waarden verschillen en geen beide arrays heeft waarde 1 => fout"
      ],
      "metadata": {
        "id": "aw6-Oa4xcc90"
      }
    },
    {
      "cell_type": "code",
      "source": [
        "import numpy as np\n",
        "\n",
        "def kan_broadcasten(arr1, arr2):\n",
        "  shape_verschil = len(arr2.shape) - len(arr1.shape)\n",
        "  aantal_1 = abs(shape_verschil)\n",
        "  if aantal_1 > 0:\n",
        "    tuple_1 = (1,) * aantal_1\n",
        "    if shape_verschil < 1:\n",
        "      arr2 = arr2.reshape(tuple_1 + arr2.shape)\n",
        "      print('nieuwe arr2 shape', arr2.shape)\n",
        "    else:\n",
        "      arr1 = arr1.reshape(tuple_1 + arr1.shape)\n",
        "      print('nieuwe arr1 shape', arr1.shape)\n",
        "  for arr1_dim, arr2_dim in zip(arr1.shape, arr2.shape):\n",
        "    print('Dimensies:', arr1_dim, arr2_dim)\n",
        "    if arr1_dim != arr2_dim and (arr1_dim != 1 and arr2_dim != 1):\n",
        "      raise ValueError('Kan niet broadcasten')\n",
        "  return True\n",
        "\n",
        "arr_1 = np.array([1, 2])\n",
        "arr_2 = np.array([[4, 5, 6, 7, 8, 9]]).reshape(3, 2)\n",
        "print(f'{arr_1.shape=}')\n",
        "print(f'{arr_2.shape=}')\n",
        "\n",
        "\n",
        "kan_broadcasten(arr_1, arr_2)\n",
        "print('arr_1 + arr_2:\\n', arr_1 + arr_2)\n"
      ],
      "metadata": {
        "id": "8OuoYxN_ddqG"
      },
      "execution_count": null,
      "outputs": []
    }
  ]
}