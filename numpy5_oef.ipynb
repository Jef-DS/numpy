{
  "nbformat": 4,
  "nbformat_minor": 0,
  "metadata": {
    "colab": {
      "provenance": []
    },
    "kernelspec": {
      "name": "python3",
      "display_name": "Python 3"
    },
    "language_info": {
      "name": "python"
    }
  },
  "cells": [
    {
      "cell_type": "markdown",
      "source": [
        "# Oefeningen op aggregatiefuncties\n",
        "##Oef 1\n",
        "In de onderstaande code wordt de som van de elementen in de array berekend met de Python-sum()-functie en met de NumPy-sum()-functie. Hoe moet je de NumPy-sum()-functie aanpassen om hetzelfde resultaat te krijgen als met de Python-sum()-functie?\n",
        "\n",
        "1) print(np.sum(arr[:, [0, 1]]))\n",
        "1) print(np.sum(arr[[0, 1], :]))\n",
        "1) print(np.sum(arr, axis=0))\n",
        "1) print(np.sum(arr, axis=1))\n"
      ],
      "metadata": {
        "id": "5Y7k-PuF5aiB"
      }
    },
    {
      "cell_type": "code",
      "source": [
        "import numpy as np\n",
        "arr = np.arange(4).reshape(2, -1)\n",
        "print('arr:\\n', arr)\n",
        "print('sum(arr):', sum(arr))\n",
        "print('np.sum(arr):', end=' ')\n",
        "print(np.sum(arr)) #Hoe krijg je dezelfde uitkomst als met sum(arr)"
      ],
      "metadata": {
        "id": "04FSVfav6k3R"
      },
      "execution_count": null,
      "outputs": []
    },
    {
      "cell_type": "markdown",
      "source": [
        "## Oef 2\n",
        "Hoe moet je in onderstaande code de berekening van de som aanpassen om het volgende resultaat te krijgen:\n",
        "```\n",
        "[[ 1  5]\n",
        " [ 9 13]]\n",
        "```\n",
        "1) print(np.sum(arr, axis=0))\n",
        "1) print(np.sum(arr, axis=1))\n",
        "1) print(np.sum(arr, axis=2))\n",
        "1) print(np.sum(arr, axis=3))\n",
        "\n",
        "\n"
      ],
      "metadata": {
        "id": "-xFeQpPI6h3B"
      }
    },
    {
      "cell_type": "code",
      "source": [
        "import numpy as np\n",
        "arr = np.arange(8).reshape((2, 2, -1))\n",
        "print('arr:\\n', arr)\n",
        "print('np.sum(arr):', end= ' ')\n",
        "print(np.sum(arr)) #hoe moet je deze regel aanpassen?"
      ],
      "metadata": {
        "id": "o6S775AU5fyw"
      },
      "execution_count": null,
      "outputs": []
    },
    {
      "cell_type": "markdown",
      "source": [
        "## Oef 3\n",
        "Wat is het type van de onderstaande array?\n",
        "\n",
        "1) object\n",
        "1) int64\n",
        "1) int8\n",
        "1) float64"
      ],
      "metadata": {
        "id": "LSlfp39w-Fiv"
      }
    },
    {
      "cell_type": "code",
      "source": [
        "import numpy as np\n",
        "arr = np.array([1, 2, 3, None])\n"
      ],
      "metadata": {
        "id": "0t8QfUy0-1YX"
      },
      "execution_count": null,
      "outputs": []
    },
    {
      "cell_type": "markdown",
      "source": [
        "## Oef 4\n",
        "Wat is het type van de onderstaande array?\n",
        "1) object\n",
        "1) int64\n",
        "1) int8\n",
        "1) float64"
      ],
      "metadata": {
        "id": "NG26ePnj_cbU"
      }
    },
    {
      "cell_type": "code",
      "source": [
        "import numpy as np\n",
        "arr = np.array([1, 2, 3, np.nan])"
      ],
      "metadata": {
        "id": "nEsvQzL__mY0"
      },
      "execution_count": null,
      "outputs": []
    },
    {
      "cell_type": "markdown",
      "source": [
        "## Oef 5\n",
        "Wat moet je in onderstaande code invullen om de volgende output te krijgen (meerdere antwoorden mogelijk):\n",
        "\n",
        "```\n",
        "[1.5 3. ]\n",
        "```\n",
        "1) print(np.nanmedian(arr))\n",
        "1) print(np.nanmedian(arr, axis=0))\n",
        "1) print(np.nanmedian(arr, axis=1))\n",
        "1) print(np.nanmean(arr))\n",
        "1) print(np.nanmean(arr, axis=0))\n",
        "1) print(np.nanmean(arr, axis=1))\n"
      ],
      "metadata": {
        "id": "2gZ0HQuNTSqv"
      }
    },
    {
      "cell_type": "code",
      "source": [
        "import numpy as np\n",
        "arr = np.array([1, 2, 3, np.nan]).reshape(2, -1)\n",
        "print('arr:\\n', arr)\n",
        "#wat moet je hier invullen?"
      ],
      "metadata": {
        "id": "HaIXEhRiSkiw"
      },
      "execution_count": null,
      "outputs": []
    },
    {
      "cell_type": "markdown",
      "source": [
        "##Oef 6\n",
        "We hebben gezien dat een ongeldige datum ('') wordt omgezet naar NaT (Not-a-Time). Wat gebeurt er met de onbestaande datum (29 februari 2025) in de volgende code?\n",
        "1) De waarde wordt 'NaT'\n",
        "1) Je krijgt een foutmelding omdat de datum omgeldig is\n",
        "1) De datum wordt omgezet naar 1 maart 2025"
      ],
      "metadata": {
        "id": "P_HqgVVLpiIg"
      }
    },
    {
      "cell_type": "code",
      "source": [
        "import numpy as np\n",
        "arr = np.array(['2025-01-31', '2025-02-29', '2025-03-31'],dtype='datetime64[D]')\n"
      ],
      "metadata": {
        "id": "Fa-65MiGp_Bt"
      },
      "execution_count": null,
      "outputs": []
    },
    {
      "cell_type": "markdown",
      "source": [
        "## Oef 7\n",
        "We hebben gezien dat de controle op het type (bijvoorbeeld np.int8) niet gebeurt in een array (wegens performantieredenen krijg je een *wrap around*). Hoe zit het met ongeldige datums? Waarom krijg je een foutmelding in de volgende code?\n",
        "1) Je kunt een NaT waarde niet optellen bij een timedelta64\n",
        "1) De string '2025-02-29' kan niet worden omgezet naar een geldige datum\n",
        "1) Integers zijn geen timedelta's en kunnen niet bij een datum worden geteld\n",
        "1) Je krijgt geen foutmelding in deze code"
      ],
      "metadata": {
        "id": "TbXwi5Y0s_My"
      }
    },
    {
      "cell_type": "code",
      "source": [
        "import numpy as np\n",
        "rng = np.random.default_rng(42)\n",
        "timedeltas = rng.integers(1, 301, size=10)\n",
        "datums = np.full(10, '2025-01-01')\n",
        "datums[-2] = ''\n",
        "datums[-1] = '2025-02-29'\n",
        "datums = datums.astype('datetime64[D]') + timedeltas\n",
        "datums"
      ],
      "metadata": {
        "id": "U-Ej20jrtMdm"
      },
      "execution_count": null,
      "outputs": []
    },
    {
      "cell_type": "markdown",
      "source": [
        "## Oef 8\n",
        "Hoe dikwijls komt het getal 9 voor in de array volgens deze code?\n",
        "1) 1 keer\n",
        "1) Deze code geeft een foutmelding omdat np.nan geen geldige integer is\n",
        "1) Deze code geeft een foutmelding omdat we 1 waarde (np.nan) niet kunnen toewijzen aan een slice"
      ],
      "metadata": {
        "id": "5TMvBSQzu92r"
      }
    },
    {
      "cell_type": "code",
      "source": [
        "import numpy as np\n",
        "rng = np.random.default_rng(42)\n",
        "arr = rng.integers(1, 10, size=20)\n",
        "arr[-2:] = np.nan\n",
        "getallen, frequenties = np.unique(arr, return_counts=True)\n",
        "print('getallen:', getallen)\n",
        "print('frequenties:', frequenties)"
      ],
      "metadata": {
        "id": "PjbNpGEsu_8k"
      },
      "execution_count": null,
      "outputs": []
    },
    {
      "cell_type": "markdown",
      "source": [
        "## Oef 9\n",
        "De volgende code geeft een foutmelding. Zorg ervoor dat je de juiste output krijgt (het aantal dagen zal verschillen omdat ik deze code niet vandaag heb uitgevoerd):\n",
        "```\n",
        "Karen werd 18593 dagen geleden geboren\n",
        "Kristel werd 18185 dagen geleden geboren\n",
        "Kathleen werd 17264 dagen geleden geboren\n",
        "```\n",
        "\n"
      ],
      "metadata": {
        "id": "DC10oqXt1SEg"
      }
    },
    {
      "cell_type": "code",
      "source": [
        "import csv\n",
        "from datetime import date\n",
        "import numpy as np\n",
        "waarden = [\n",
        "    {'voornaam':'Karen', 'geboortedatum':'1974-10-28'},\n",
        "    {'voornaam':'Kristel', 'geboortedatum':'1975-12-10'},\n",
        "    {'voornaam':'Kathleen', 'geboortedatum':'1978-06-18'}\n",
        "    ]\n",
        "with open('namen.csv', 'w', newline='') as csvfile:\n",
        "    fieldnames = ['voornaam', 'geboortedatum']\n",
        "    writer = csv.DictWriter(csvfile, fieldnames=fieldnames, delimiter=';')\n",
        "    writer.writeheader()\n",
        "    writer.writerows(waarden)\n",
        "namen = np.genfromtxt('namen.csv', skip_header=1, dtype='str', delimiter=';', usecols=(0))\n",
        "geboortedatums = np.genfromtxt('namen.csv', skip_header=1, dtype='datetime64[D]', delimiter=';', usecols=(1))\n",
        "vandaag = date.today()\n",
        "aantal_dagen = vandaag - geboortedatums\n",
        "aantal_dagen = aantal_dagen.astype(int).astype('str')\n",
        "resultaat = np.column_stack((namen, aantal_dagen))\n",
        "for item in resultaat:\n",
        "  print(f'{item[0]} werd {item[1]} dagen geleden geboren')\n"
      ],
      "metadata": {
        "id": "zY2wRZZl4Cxj"
      },
      "execution_count": null,
      "outputs": []
    },
    {
      "cell_type": "markdown",
      "source": [
        "## Oef 10\n",
        "De volgende code geeft een als output driemaal 'nan nan'. Zorg ervoor dat je de juiste output krijgt:\n",
        "```\n",
        "Karen Damen\n",
        "Kristel Verbeke\n",
        "Kathleen Aerts\n",
        "```\n",
        "\n",
        "\n"
      ],
      "metadata": {
        "id": "yGXz70gX6x9E"
      }
    },
    {
      "cell_type": "code",
      "source": [
        "import csv\n",
        "import numpy as np\n",
        "waarden = [\n",
        "    {'voornaam':'Karen', 'achternaam':'Damen', 'geboortedatum':'1974-10-28'},\n",
        "    {'voornaam':'Kristel', 'achternaam':'Verbeke','geboortedatum':'1975-12-10'},\n",
        "    {'voornaam':'Kathleen', 'achternaam':'Aerts', 'geboortedatum':'1978-06-18'}\n",
        "    ]\n",
        "with open('namen.csv', 'w', newline='') as csvfile:\n",
        "    fieldnames = ['voornaam', 'achternaam', 'geboortedatum']\n",
        "    writer = csv.DictWriter(csvfile, fieldnames=fieldnames, delimiter=';')\n",
        "    writer.writeheader()\n",
        "    writer.writerows(waarden)\n",
        "namen = np.genfromtxt('namen.csv', skip_header=1, delimiter=';', usecols=(0, 1))\n",
        "for naam in namen:\n",
        "  print(f'{naam[0]} {naam[1]}')\n"
      ],
      "metadata": {
        "id": "UTVNxje91f-v"
      },
      "execution_count": null,
      "outputs": []
    },
    {
      "cell_type": "markdown",
      "source": [
        "#Oplossingen\n",
        "##Oef 1\n",
        "De correcte oplossing is print(np.sum(arr, axis=0)) (antwoord 3). De Python functie telt de rijen samen en dat is hetzelfde als 'over de rijen heen'.\n",
        "\n",
        "##Oef 2\n",
        "De correcte oplossing is print(np.sum(arr, axis=2)) (antwoord 3).\n",
        "\n",
        "##Oef 3\n",
        "Het type is object (antwoord 1). Numpy kiest het gemeenschappelijke type tussen python integer en None.\n",
        "\n",
        "##Oef 4\n",
        "Het type is float64 (antwoord 4). Een np.nan is een float64. NumPy kiest het gemeenschappelijke type tussen een Python integer en een NumPy float.\n",
        "\n",
        "## Oef 5\n",
        "Mean en median geven hier dezelfde uitkomst omdat de gegevens gelijkmatig verdeeld zijn. Dus print(np.nanmean(arr, axis=1)) (antwoord 3) en print(np.nanmedian(arr, axis=1)) (antwoord 6) zijn allebei correct.\n",
        "\n",
        "## Oef 6\n",
        "Je krijgt een foutmelding omdat '2025-02-29' geen geldige datum is (antwoord 2)\n",
        "## Oef 7\n",
        "Het juiste antwoord is \"De string '2025-02-29' kan niet worden omgezet naar een geldige datum\" (antwoord 2)\n",
        "## Oef 8\n",
        "Aangezien np.nan een float is, kan de waarde niet gebruikt worden in een array van integers (antwoord 3)\n",
        "## Oef 9\n",
        "Het probleem was dat we de min-operator niet kunnen gebruiken met een Python object en een NumPy datetime64. We moeten *vandaag* om zetten naar een NumPy datetime64:\n",
        "```\n",
        "vandaag = np.datetime64(date.today())\n",
        "```\n",
        "## Oef 10\n",
        "Het probleem was dat *np.genfromtxt()* standaard waarden inleest als floats. Je moet de namen inlezen als strings:\n",
        "```\n",
        "namen = np.genfromtxt('namen.csv', dtype='str', skip_header=1, delimiter=';', usecols=(0, 1))\n",
        "```\n",
        "\n",
        "\n",
        "\n"
      ],
      "metadata": {
        "id": "dXj1eDOM9Gb6"
      }
    }
  ]
}