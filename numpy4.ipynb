{
  "nbformat": 4,
  "nbformat_minor": 0,
  "metadata": {
    "colab": {
      "provenance": []
    },
    "kernelspec": {
      "name": "python3",
      "display_name": "Python 3"
    },
    "language_info": {
      "name": "python"
    }
  },
  "cells": [
    {
      "cell_type": "markdown",
      "source": [
        "#Universal functions (UFunc)\n",
        "We hebben in het begin gezien dat berekeningen met NumPy sneller zijn dan berekeningen met Python. Achter deze snelheidswinst zit *vectorisatie*. Het woord 'vector' moeten we hier interpreteren als \"een reeks getallen\" (een array dus in NumPy-termen)\n",
        "\n",
        "Om een berekening te doen in NumPy geven we ineens de volledige array door. NumPy voert de berekening uit op de volledige array met behulp van de snelle C-code en geeft het resultaat terug aan Python.\n",
        "\n",
        "Belangrijk: NumPy is alleen sneller wanneer we vectorisatie gebruiken. En dat is wat we zien in de volgende code:\n",
        "```\n",
        "In Python: [x * 2 for x in lijst]\n",
        "475 µs ± 142 µs per loop (mean ± std. dev. of 7 runs, 1000 loops each)\n",
        "In NumPy: arr * 2\n",
        "6.76 µs ± 62.9 ns per loop (mean ± std. dev. of 7 runs, 100000 loops each)\n",
        "In NumPy met ufunc: np.multiply(arr, 2)\n",
        "8.56 µs ± 1.97 µs per loop (mean ± std. dev. of 7 runs, 100000 loops each)\n",
        "De trage manier: [x * 2 for x in arr]\n",
        "1.41 ms ± 409 µs per loop (mean ± std. dev. of 7 runs, 1000 loops each)\n",
        "```\n",
        "Opmerking: `arr * 2` is hetzelfde als `np.multiply(arr, 2)`. De functie np.multiply is een *Universal Function* of *UFunc*\n",
        "\n",
        "De naam 'universal' slaat op het feit dat ze een universele of algemene manier bieden om per element bewerkingen uit te voeren op arrays van willekeurige vorm en grootte."
      ],
      "metadata": {
        "id": "pzNQ-WUHgdZa"
      }
    },
    {
      "cell_type": "code",
      "execution_count": null,
      "metadata": {
        "id": "okdRvrkUgZzk"
      },
      "outputs": [],
      "source": [
        "import numpy as np\n",
        "lijst = list(range(10_000))\n",
        "arr = np.array(lijst)\n",
        "print('In Python: [x * 2 for x in lijst]')\n",
        "%timeit [x * 2 for x in lijst]\n",
        "print('In NumPy: arr * 2')\n",
        "%timeit arr * 2\n",
        "print('In NumPy met ufunc: np.multiply(arr, 2)')\n",
        "%timeit np.multiply(arr, 2)\n",
        "print('De trage manier: [x * 2 for x in arr]')\n",
        "%timeit [x * 2 for x in arr]"
      ]
    },
    {
      "cell_type": "markdown",
      "source": [
        "##UFunc's in NumPy\n",
        "Een UFunc is een Pythonfunctie die NumPy arrays als argumenten heeft. In de functie worden de argumenten uitgevoerd met C-code.\n",
        "\n",
        "Belangrijk: let op met for-lussen in Python die een NumPy array overlopen. Er is meestal een UFunc die dezelfde actie veel sneller kan uitvoeren.\n",
        "\n",
        "##UFuncs en operatoren\n",
        "In Python kunnen we operatoren gebruiken (+, -, \\*, /, ...). Maar achter de schermen gebruikt Python de correcte *magical method* (of *dunder method*): \\_\\_add\\_\\_, \\_\\_subtract\\_\\_, \\_\\_multiply\\_\\_, \\_\\_divide\\_\\_, ...\n",
        "\n",
        "In NumPy gebeurt hetzelfde:\n",
        "*   np.add: +\n",
        "*   np.subtract: -\n",
        "*   np.multiply: *\n",
        "*   np.divide: /\n",
        "*   np.power: **\n",
        "\n"
      ],
      "metadata": {
        "id": "hYTyg8cGjxkj"
      }
    },
    {
      "cell_type": "code",
      "source": [
        "import numpy as np\n",
        "arr1 = np.arange(5)\n",
        "arr2 = np.full_like(arr1, 2)\n",
        "print('arr1:', arr1)\n",
        "print('arr2:', arr2)\n",
        "print('De som: arr1 + arr2')\n",
        "print(np.add(arr1, arr2))\n",
        "print('Het verschil: arr1 - arr2')\n",
        "print(np.subtract(arr1, arr2))\n",
        "print('Het product: arr1 * arr2')\n",
        "print(np.multiply(arr1, arr2))\n",
        "print('Het quotiënt: arr1 / arr2')\n",
        "print(np.divide(arr1, arr2))\n",
        "print('Het kwadraat: arr1 ** arr2')\n",
        "print(np.power(arr1, arr2))"
      ],
      "metadata": {
        "id": "s_JTlGj6nrEs"
      },
      "execution_count": null,
      "outputs": []
    },
    {
      "cell_type": "markdown",
      "source": [
        "## += operator\n",
        "Bekijk de volgende code in [Python Tutor](https://pythontutor.com/)\n",
        "\n",
        "Voor de optelling van integers is er geen verschil tussen beide functies. Dat komt omdat een integer in Python *immutable* is: elke toewijzing (=) maakt een nieuwe integer.\n",
        "\n",
        "Een list is echter *mutable*: een bestaande lijst kan gewijzigd worden met +="
      ],
      "metadata": {
        "id": "pLxDecEZn-d4"
      }
    },
    {
      "cell_type": "code",
      "source": [
        "def add(a, b):\n",
        "  a = a + b\n",
        "def add_is(a, b):\n",
        "  a += b\n",
        "\n",
        "x = 1\n",
        "y = 2\n",
        "add(x, y)\n",
        "print('x na add(x, y):', x)\n",
        "add_is(x, y)\n",
        "print('x na add_is(x, y):', x)\n",
        "lijst1 = [1, 2, 3]\n",
        "lijst2 = [4, 5, 6]\n",
        "add(lijst1, lijst2)\n",
        "print('lijst1 na add(x, y):',lijst1)\n",
        "add_is(lijst1, lijst2)\n",
        "print('lijst1 na add_is(x, y):', lijst1)"
      ],
      "metadata": {
        "id": "xSndRlIHqciy"
      },
      "execution_count": null,
      "outputs": []
    },
    {
      "cell_type": "markdown",
      "source": [
        "Een array in NumPy is ook *mutable*. Deze UFunc maakt gebruikt van de out-parameter. Het resultaat van de functie wordt bewaard in de bestaande array. Omdat er geen nieuwe array moet gemaakt worden, besparen we geheugen.\n",
        "\n",
        "Wanneer we de oorspronkelijke inhoud van arr1 nog nodig hebben, is dit natuurlijk een slecht idee."
      ],
      "metadata": {
        "id": "HZ6MMrLLsMiX"
      }
    },
    {
      "cell_type": "code",
      "source": [
        "import numpy as np\n",
        "arr1 = np.arange(5)\n",
        "arr2 = np.full_like(arr1, 2)\n",
        "print(f'{arr1=}')\n",
        "print(f'{arr2=}')\n",
        "return_waarde = np.add(arr1, arr2)\n",
        "print('\\nreturn_waarde = arr1 + arr2')\n",
        "print(f'{return_waarde=}')\n",
        "print(f'{arr1=}')\n",
        "return_waarde = np.add(arr1, arr2, out=arr1)  #hetzelfde als arr1 += arr2\n",
        "print('\\narr1 += arr2')\n",
        "print(f'{return_waarde=}')\n",
        "print(f'{arr1=}')"
      ],
      "metadata": {
        "id": "vqvWkpFbrk6a"
      },
      "execution_count": null,
      "outputs": []
    },
    {
      "cell_type": "markdown",
      "source": [
        "##Het where-argument\n",
        "Met *where* kunnen we een filter definiëren. De functie wordt alleen uitgevoerd voor de elementen waarvoor de filter True is. De elementen waarvoor de filter False is, blijven ongewijzigd."
      ],
      "metadata": {
        "id": "2wWEcAfjsiBv"
      }
    },
    {
      "cell_type": "code",
      "source": [
        "import numpy as np\n",
        "arr1 = np.arange(5)\n",
        "arr2 = np.full_like(arr1, 2)\n",
        "print(f'{arr1=}')\n",
        "np.add(arr1, arr2, out=arr1, where=arr1 % 2 == 0)\n",
        "print('2 optellen bij de even getallen in arr1:', arr1)"
      ],
      "metadata": {
        "id": "b0e-GxQUtGRI"
      },
      "execution_count": null,
      "outputs": []
    },
    {
      "cell_type": "markdown",
      "source": [
        "##Andere UFunc's\n",
        "Er is een lijst van *Universal functions* terug te vinden op [de website van NumPy](https://numpy.org/doc/stable/reference/ufuncs.html#available-ufuncs)\n",
        "\n",
        "Maar daarnaast zijn er nog een hele reeks andere UFuncs in bijvoorbeeld het SciPy package"
      ],
      "metadata": {
        "id": "TlV_34zVt7nH"
      }
    },
    {
      "cell_type": "code",
      "source": [
        "import matplotlib.pyplot as plt\n",
        "import numpy as np\n",
        "import scipy.stats as stats\n",
        "\n",
        "x = np.linspace(-5, 5, 100)\n",
        "y = stats.norm.pdf(x)\n",
        "plt.gca().spines.bottom.set_position('zero')\n",
        "plt.gca().spines.left.set_position('zero')\n",
        "plt.gca().spines.top.set_visible(False)\n",
        "plt.gca().spines.right.set_visible(False)\n",
        "plt.plot(x, y)\n",
        "plt.title('Gauss-curve (klokcurve) of \"normaalverdeling\"')\n",
        "plt.show()"
      ],
      "metadata": {
        "id": "oviQQvLdx1VQ"
      },
      "execution_count": null,
      "outputs": []
    },
    {
      "cell_type": "markdown",
      "source": [
        "##Methodes van UFuncs\n",
        "###reduce\n",
        "In Python is een functie een object en een object kan methodes hebben. Sommige Ufuncs hebben bijvoorbeeld een *reduce*-functie.\n",
        "De *reduce*-functie vermindert de dimensie van de array met 1. Een array met als dimensie (5,) krijgt als dimensie () (dat is dus 1 getal).\n",
        "\n",
        "De *reduce*-functie bestaat alleen voor UFuncs die met 2 arrays werken, zoals bijvoorbeeld de *add*-functie\n",
        "\n",
        "De functie add.reduce(arr) gebruikt de add-functie om de elementen van de array op te tellen. Het resultaat is 1 getal (dimensie ())\n",
        "\n",
        "In de meeste gevallen zal men natuurlijk gebruik maken van np.sum(arr)"
      ],
      "metadata": {
        "id": "vXO_aQrKx_tv"
      }
    },
    {
      "cell_type": "code",
      "source": [
        "import numpy as np\n",
        "arr1 = np.arange(5)\n",
        "print('arr1: ', arr1)\n",
        "print('De som van alle getallen in arr1:', np.add.reduce(arr1)) #hetzelfde als np.sum(arr1)"
      ],
      "metadata": {
        "id": "rnlt1VeRzfuJ"
      },
      "execution_count": null,
      "outputs": []
    },
    {
      "cell_type": "markdown",
      "source": [
        "###accumulate\n",
        "De *accumulate*-functie past de UFunc één voor één cumulatief toe op de verschillende elementen van de array. Het resultaat is een array met dezelfde dimensie als de input array.\n",
        "\n",
        "Een voorbeeld zal het duidelijker maken: np.add.accumulate(arr) is hetzelfde als np.cumsum(arr) (*cumulatieve sum*)"
      ],
      "metadata": {
        "id": "kvVbD2pqzyZB"
      }
    },
    {
      "cell_type": "code",
      "source": [
        "import numpy as np\n",
        "arr1 = np.arange(5)\n",
        "print('arr1:', arr1)\n",
        "#hetzelfde als np.cumsum\n",
        "print('De lopende som van de getallen in arr1:', np.add.accumulate(arr1))"
      ],
      "metadata": {
        "id": "yasFOelu0-RW"
      },
      "execution_count": null,
      "outputs": []
    },
    {
      "cell_type": "markdown",
      "source": [
        "###outer\n",
        "De *outer*-functie past de UFunc toe op alle combinaties van de elementen in de twee arrays. In SQL zouden we dat ook een *cross-join* noemen.\n",
        "\n",
        "Bijvoorbeeld de tafel van vermenigvuldiging van de getallen van 1 tot 10:"
      ],
      "metadata": {
        "id": "aaekWtfK1Xev"
      }
    },
    {
      "cell_type": "code",
      "source": [
        "import numpy as np\n",
        "arr = np.arange(1,11)\n",
        "np.multiply.outer(arr, arr)"
      ],
      "metadata": {
        "id": "rNEUfJOw1ytR"
      },
      "execution_count": null,
      "outputs": []
    },
    {
      "cell_type": "markdown",
      "source": [
        "###at\n",
        "Met de *at*-functie kunnen we de UFunc toepassen op arrays van verschillende grootte. Ik wil bijvoorbeeld een array van drie elementen optellen bij de eerste drie elementen van een array van 5 elementen.\n",
        "\n",
        "Maar het hoeven natuurlijk niet de 3 eerste elementen te zijn. Het kunnen ook het eerste, het derde en het vijfde element zijn."
      ],
      "metadata": {
        "id": "-7Y38FsG3_sS"
      }
    },
    {
      "cell_type": "code",
      "source": [
        "import numpy as np\n",
        "arr1 = np.arange(1, 6)\n",
        "print('arr1: ', arr1)\n",
        "arr2 = np.arange(1, 4)\n",
        "print('arr2:', arr2)\n",
        "np.add.at(arr1,[0, 1, 2], arr2)\n",
        "print('np.add.at(arr1,[0, 1, 2], arr2):', arr1)\n",
        "arr1 = np.arange(1, 6)\n",
        "np.add.at(arr1,[0, 2, 4], arr2)\n",
        "print('np.add.at(arr1,[0, 2, 4], arr2):', arr1)"
      ],
      "metadata": {
        "id": "iSsJ3jCL5wgL"
      },
      "execution_count": null,
      "outputs": []
    },
    {
      "cell_type": "markdown",
      "source": [
        "###reduceat\n",
        "De *reduceat*-functie past de reduce-operatie toe op stukjes van de array. Die stukjes worden aangegeven door grenzen die in een tweede array zijn gedefinieerd. In tegenstelling tot bij *at* moeten de grenzen hier door paren van indices worden aangegeven: van-(vlak voor)tot.\n",
        "\n",
        "De *grenzen* [0, 2, 4, 6, 8] willen dus zeggen:\n",
        "*  van 0 tot vlak voor 2\n",
        "*  van 2 tot vlak voor 4\n",
        "*  van 4 tot vlak voor 6\n",
        "*  van 6 tot vlak voor 8\n",
        "*  (speciale situatie voor het laatste element) van 8 tot aan het einde."
      ],
      "metadata": {
        "id": "PUeobtvL2CHj"
      }
    },
    {
      "cell_type": "code",
      "source": [
        "import numpy as np\n",
        "arr1 = np.arange(1, 11)\n",
        "grenzen = np.array([0, 2, 4, 6, 8])\n",
        "print('arr1:', arr1)\n",
        "print('grenzen:', grenzen)\n",
        "print('np.add.reduceat(arr1, grenzen):', np.add.reduceat(arr1, grenzen))"
      ],
      "metadata": {
        "id": "s_2Rn-rv8QBa"
      },
      "execution_count": null,
      "outputs": []
    }
  ]
}