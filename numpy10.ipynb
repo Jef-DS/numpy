{
  "nbformat": 4,
  "nbformat_minor": 0,
  "metadata": {
    "colab": {
      "provenance": []
    },
    "kernelspec": {
      "name": "python3",
      "display_name": "Python 3"
    },
    "language_info": {
      "name": "python"
    }
  },
  "cells": [
    {
      "cell_type": "markdown",
      "source": [
        "#Structured arrays\n",
        "##Een meer uitgebreide arraystructuur\n",
        "We weten ondertussen dat in een NumPy-array alle elementen van hetzelfde type moeten zijn. Het type kan echter ook een samengesteld type zijn.\n",
        "\n",
        "In het volgende voorbeeld definiëren we een type (*K3_type*) dat samengesteld is uit een string (Unicode, lengte=8) en een datetime. De array *df_k3* bestaat uit items met een kolom met namen en een kolom met geboortedatums.\n",
        "\n",
        "Opmerking: in de praktijk zullen we voor dit soort *tabelstructuren* pandas gebruiken. Je moet dit hoofdstuk voornamelijk zien als een aanloop naar de module 'pandas'."
      ],
      "metadata": {
        "id": "nWXaKI3I8EkT"
      }
    },
    {
      "cell_type": "code",
      "execution_count": null,
      "metadata": {
        "id": "P50K88H67ufk"
      },
      "outputs": [],
      "source": [
        "import numpy as np\n",
        "namen = np.array(['Karen', 'Kristel', 'Kathleen'])\n",
        "datums = np.array(['1974-10-28', '1975-12-10', '1978-06-18'], dtype='datetime64[D]')\n",
        "k3_type = np.dtype([('naam', namen.dtype), ('geboortedatum', datums.dtype)])\n",
        "df_k3 = np.empty(3, dtype=k3_type)\n",
        "df_k3['naam'] = namen\n",
        "df_k3['geboortedatum'] = datums\n",
        "print(f'{df_k3.dtype=}')\n",
        "print('\"dataframe\" k3:')\n",
        "for item in df_k3:\n",
        "  print(item)\n",
        "print(f'{df_k3.shape=}')\n"
      ]
    },
    {
      "cell_type": "markdown",
      "source": [
        "##De elementen in een structured array\n",
        "We kunnen de kolommen aanspreken via het nummer, maar ook via de naam. Let op: het is geen 2-dimensionele array (rijen en kolommen)."
      ],
      "metadata": {
        "id": "_imQXk1UAQZR"
      }
    },
    {
      "cell_type": "code",
      "source": [
        "import numpy as np\n",
        "namen = np.array(['Karen', 'Kristel', 'Kathleen'])\n",
        "datums = np.array(['1974-10-28', '1975-12-10', '1978-06-18'], dtype='datetime64[D]')\n",
        "k3_type = np.dtype([('naam', namen.dtype), ('geboortedatum', datums.dtype)])\n",
        "df_k3 = np.empty(3, dtype=k3_type)\n",
        "df_k3['naam'] = namen\n",
        "df_k3['geboortedatum'] = datums\n",
        "print(f\"{df_k3['naam'][0]} is geboren op {df_k3['geboortedatum'][0]}\")\n",
        "print(f\"{df_k3[0][0]} is geboren op {df_k3[0][1]}\")\n",
        "print(f\"{df_k3[0]['naam']=}\")\n",
        "print(f\"{df_k3[0]['geboortedatum']=}\")"
      ],
      "metadata": {
        "id": "r1jsbbUMAaoR"
      },
      "execution_count": null,
      "outputs": []
    },
    {
      "cell_type": "markdown",
      "source": [
        "##Geavanceerde indexering\n",
        "De geavanceerde indexering waarmee we een lijst van indexen kunnen meegeven, werkt ook nog. We kunnen die gebruiken om te definiëren welke 'kolommen' we willen."
      ],
      "metadata": {
        "id": "2t3qIFlJBivD"
      }
    },
    {
      "cell_type": "code",
      "source": [
        "import numpy as np\n",
        "voornamen = np.array(['Karen', 'Kristel', 'Kathleen'])\n",
        "achternamen = np.array(['Damen', 'Verbeke', 'Aerts'])\n",
        "datums = np.array(['1974-10-28', '1975-12-10', '1978-06-18'], dtype='datetime64[D]')\n",
        "k3_type = np.dtype([('voornaam', voornamen.dtype), ('achternaam', achternamen.dtype), ('geboortedatum', datums.dtype)])\n",
        "df_k3 = np.empty(3, dtype=k3_type)\n",
        "df_k3['voornaam'] = voornamen\n",
        "df_k3['achternaam'] = achternamen\n",
        "df_k3['geboortedatum'] = datums\n",
        "print(df_k3[['voornaam', 'geboortedatum']])"
      ],
      "metadata": {
        "id": "oKTOuxqBBsnk"
      },
      "execution_count": null,
      "outputs": []
    },
    {
      "cell_type": "markdown",
      "source": [
        "##Filteren\n",
        "Wie is geboren vóór 1 januari 1976?"
      ],
      "metadata": {
        "id": "16NI8CFxCs4W"
      }
    },
    {
      "cell_type": "code",
      "source": [
        "import numpy as np\n",
        "voornamen = np.array(['Karen', 'Kristel', 'Kathleen'])\n",
        "achternamen = np.array(['Damen', 'Verbeke', 'Aerts'])\n",
        "datums = np.array(['1974-10-28', '1975-12-10', '1978-06-18'], dtype='datetime64[D]')\n",
        "k3_type = np.dtype([('voornaam', voornamen.dtype), ('achternaam', achternamen.dtype), ('geboortedatum', datums.dtype)])\n",
        "df_k3 = np.empty(3, dtype=k3_type)\n",
        "df_k3['voornaam'] = voornamen\n",
        "df_k3['achternaam'] = achternamen\n",
        "df_k3['geboortedatum'] = datums\n",
        "df_k3[df_k3['geboortedatum'] < np.datetime64('1976-01-01')]['voornaam']"
      ],
      "metadata": {
        "id": "4X9rdNLXCJQ5"
      },
      "execution_count": null,
      "outputs": []
    },
    {
      "cell_type": "markdown",
      "source": [
        "##Record arrays\n",
        "In plaats van vierkante haakjes met een tekst, kunnen we ook attributen gebruiken. Maar daarvoor moet de structured array omgezet worden naar een record array."
      ],
      "metadata": {
        "id": "pkI7FyYhDi_G"
      }
    },
    {
      "cell_type": "code",
      "source": [
        "import numpy as np\n",
        "voornamen = np.array(['Karen', 'Kristel', 'Kathleen'])\n",
        "achternamen = np.array(['Damen', 'Verbeke', 'Aerts'])\n",
        "datums = np.array(['1974-10-28', '1975-12-10', '1978-06-18'], dtype='datetime64[D]')\n",
        "k3_type = np.dtype([('voornaam', voornamen.dtype), ('achternaam', achternamen.dtype), ('geboortedatum', datums.dtype)])\n",
        "df_k3 = np.empty(3, dtype=k3_type)\n",
        "df_k3['voornaam'] = voornamen\n",
        "df_k3['achternaam'] = achternamen\n",
        "df_k3['geboortedatum'] = datums\n",
        "vw_k3 = df_k3.view(np.recarray)\n",
        "print(f'{vw_k3.voornaam=}')\n",
        "print(f'{vw_k3[0].voornaam=}')\n",
        "print(f'{vw_k3[0].geboortedatum=}')"
      ],
      "metadata": {
        "id": "POu1Zt6-Dw9I"
      },
      "execution_count": null,
      "outputs": []
    },
    {
      "cell_type": "markdown",
      "source": [
        "##Structured arrays en np.genfromtxt()\n",
        "Kunnen Structured Arrays ons helpen met gegevens van verschillende types, zoals bijvoorbeeld in het bestand met de weerdata van Spanje?\n",
        "\n",
        "We beginnen met de gegevens opnieuw te downloaden.\n",
        "\n",
        "Let op de naam van de 'zip_'-variabele. Om geen problemen te krijgen met de *zip()*-functie van Python heb ik een extra underscore toegevoegd."
      ],
      "metadata": {
        "id": "5MLuVKnFn3Gw"
      }
    },
    {
      "cell_type": "code",
      "source": [
        "import requests\n",
        "from zipfile import ZipFile\n",
        "data = requests.get('https://www.kaggle.com/api/v1/datasets/download/alexgczs/monthly-temperature-in-spain-1996-2023')\n",
        "with open('data.zip', 'wb') as f:\n",
        "  f.write(data.content)\n",
        "with open ('data.zip', 'rb') as f:\n",
        "  zip_ = ZipFile(f)\n",
        "  zip_.extractall()"
      ],
      "metadata": {
        "id": "4L4XvmlshBOn"
      },
      "execution_count": null,
      "outputs": []
    },
    {
      "cell_type": "markdown",
      "source": [
        "Door *names=True* mee te geven, worden de kolomnamen gebruikt die in de eerste regel staan:"
      ],
      "metadata": {
        "id": "7X97vTSjoMKf"
      }
    },
    {
      "cell_type": "code",
      "source": [
        "import numpy as np\n",
        "TEMP_CSV = 'monthly_temperature_spain (1996-2023).csv'\n",
        "df_spanje = np.genfromtxt(TEMP_CSV, delimiter=',', names=True, dtype=None, encoding='utf-8')\n",
        "print(f'{df_spanje.dtype=}')\n",
        "print(f'{df_spanje[0]=}')"
      ],
      "metadata": {
        "id": "gu-gI1wioYg5"
      },
      "execution_count": null,
      "outputs": []
    },
    {
      "cell_type": "markdown",
      "source": [
        "##Temperaturen omzetten naar integers\n",
        "We hebben al gezien dat we np.strings.replace() kunnen gebruiken om °C te verwijderen. Dat werkt natuurlijk nog steeds. Het enige verschil met de code die we al gezien hebben, is dat we de naam van het veld kunnen gebruiken."
      ],
      "metadata": {
        "id": "zvtKLTJ6o19-"
      }
    },
    {
      "cell_type": "code",
      "source": [
        "import numpy as np\n",
        "TEMP_CSV = 'monthly_temperature_spain (1996-2023).csv'\n",
        "df_spanje = np.genfromtxt(TEMP_CSV, delimiter=',', names=True, dtype=None, encoding='utf-8')\n",
        "df_spanje['avg_temp'] = np.strings.replace(df_spanje['avg_temp'], chr(186)+'C', '')\n",
        "df_spanje['min_temp'] = np.strings.replace(df_spanje['min_temp'], chr(186)+'C', '')\n",
        "df_spanje['max_temp'] = np.strings.replace(df_spanje['max_temp'], chr(186)+'C', '')\n",
        "print(df_spanje['min_temp'][0:10])"
      ],
      "metadata": {
        "id": "sK0kqcNxhcYi"
      },
      "execution_count": null,
      "outputs": []
    },
    {
      "cell_type": "markdown",
      "source": [
        "##De gemiddelde temperatuur in Murcia\n",
        "We kunnen filteren op 'Murcia' om de records van Murcia te pakken te krijgen. Vervolgens kunnen we de 'avg_temp' data van die array omzetten naar een unsigned int en het gemiddelde berekenen."
      ],
      "metadata": {
        "id": "sY7vyc-DpQVx"
      }
    },
    {
      "cell_type": "code",
      "source": [
        "import numpy as np\n",
        "TEMP_CSV = 'monthly_temperature_spain (1996-2023).csv'\n",
        "df_spanje = np.genfromtxt(TEMP_CSV, delimiter=',', names=True, dtype=None, encoding='utf-8')\n",
        "df_spanje['avg_temp'] = np.strings.replace(df_spanje['avg_temp'], chr(186)+'C', '')\n",
        "df_murcia = df_spanje[df_spanje['place'] == 'Murcia']\n",
        "print(f'{df_murcia[\"avg_temp\"].astype(np.uint8).mean()=}')"
      ],
      "metadata": {
        "id": "JzbRW7nFpXzk"
      },
      "execution_count": null,
      "outputs": []
    },
    {
      "cell_type": "markdown",
      "source": [
        "##Let op met de types\n",
        "Een type van een structured array behoort tot de volledige record. We kunnen dus het type van een afzonderlijk veld niet wijzigen."
      ],
      "metadata": {
        "id": "jC5vQlvJrcsl"
      }
    },
    {
      "cell_type": "code",
      "source": [
        "import numpy as np\n",
        "TEMP_CSV = 'monthly_temperature_spain (1996-2023).csv'\n",
        "df_spanje = np.genfromtxt(TEMP_CSV, delimiter=',', names=True, dtype=None, encoding='utf-8')\n",
        "#Verander het type van regendagen in np.uint8 na verwijderen van 'Dias'...\n",
        "df_spanje['rain_days'] = np.strings.replace(df_spanje['rain_days'], ' Días', '').astype(np.uint8)\n",
        "#... maar dat werkt niet:\n",
        "print(f\"{df_spanje['rain_days'].dtype=}\")\n",
        "print(f\"{df_spanje.dtype=}\")"
      ],
      "metadata": {
        "id": "aRvFNhy1kQ09"
      },
      "execution_count": null,
      "outputs": []
    },
    {
      "cell_type": "markdown",
      "source": [
        "##Type van de record wijzigen\n",
        "We kunnen het type van 1 item wijzigen door het dtype-attribuut van een structured array als een list te behandelen (via .descr). Vervolgens kunnen we het type van de kolom 'rainy_days' omzetten naar een integer.\n",
        "\n",
        "Vervolgens kunnen we filteren op Murcia en het gemiddeld aantal regendagen berekenen.\n",
        "\n",
        "Opmerking: Misschien dat er betere manieren zijn om dit te doen (zonder .descr). Maar ik heb heel weinig ervaring met structured arrays aangezien we voor dit werk normaal Pandas gebruiken. Ik weet wel dat deze manier werkt."
      ],
      "metadata": {
        "id": "TW7uWq8isFTb"
      }
    },
    {
      "cell_type": "code",
      "source": [
        "import numpy as np\n",
        "TEMP_CSV = 'monthly_temperature_spain (1996-2023).csv'\n",
        "df_spanje = np.genfromtxt(TEMP_CSV, delimiter=',', names=True, dtype=None, encoding='utf-8')\n",
        "df_spanje['rain_days'] = np.strings.replace(df_spanje['rain_days'], ' Días', '')\n",
        "print(f\"{type(df_spanje.dtype)=}\")\n",
        "print(f\"{type(df_spanje.dtype.descr)=}\")\n",
        "type_ = df_spanje.dtype.descr\n",
        "type_[4] = ('rain_days', np.int64)\n",
        "df_spanje = df_spanje.astype(type_)\n",
        "print('\\nVerander het type van \"rain days\":')\n",
        "print(f\"{df_spanje['rain_days'].dtype=}\")\n",
        "print(f\"{df_spanje.dtype=}\")\n",
        "print('\\nHet gemiddeld aantal regendagen in Murcia:')\n",
        "print(df_spanje[df_spanje['place']=='Murcia']['rain_days'].mean())"
      ],
      "metadata": {
        "id": "A6YBU2Rjl-pT"
      },
      "execution_count": null,
      "outputs": []
    },
    {
      "cell_type": "markdown",
      "source": [
        "## Zet een structured array om naar een gewone array\n",
        "Voor deze omzetting moeten we rekening houden met het feit dat alle elementen van een NumPy-array hetzelfde type moeten hebben. Maar we kunnen natuurlijk wel een NumPy array maken van de kolommen *max_temp* en *min_temp*.\n",
        "\n",
        "We kunnen het zelf doen, maar er is ook een hulpfunctie: *numpy.lib.recfunctions.structured_to_unstructured*"
      ],
      "metadata": {
        "id": "f1ThjVv6iEn9"
      }
    },
    {
      "cell_type": "code",
      "source": [
        "import numpy as np\n",
        "import numpy.lib.recfunctions as rf\n",
        "TEMP_CSV = 'monthly_temperature_spain (1996-2023).csv'\n",
        "df_spanje = np.genfromtxt(TEMP_CSV, delimiter=',', names=True, dtype=None, encoding='utf-8')\n",
        "df_spanje['min_temp'] = np.strings.replace(df_spanje['min_temp'], chr(186)+'C', '')\n",
        "df_spanje['max_temp'] = np.strings.replace(df_spanje['max_temp'], chr(186)+'C', '')\n",
        "arr_temp1 = np.empty((len(df_spanje),2), dtype=np.int8)\n",
        "for i, field in enumerate(['max_temp', 'min_temp']):\n",
        "   arr_temp1[:, i] = df_spanje[field].astype(np.int8)\n",
        "\n",
        "arr_temp2 = rf.structured_to_unstructured(df_spanje[['max_temp','min_temp']])\n",
        "arr_temp2 = arr_temp2.astype(np.int8)\n",
        "#Zijn ze aan elkaar gelijk?\n",
        "np.all(arr_temp1 == arr_temp2)\n"
      ],
      "metadata": {
        "id": "w9aDpU-figsp"
      },
      "execution_count": null,
      "outputs": []
    }
  ]
}