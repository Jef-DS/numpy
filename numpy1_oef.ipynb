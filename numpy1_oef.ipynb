{
  "nbformat": 4,
  "nbformat_minor": 0,
  "metadata": {
    "colab": {
      "provenance": []
    },
    "kernelspec": {
      "name": "python3",
      "display_name": "Python 3"
    },
    "language_info": {
      "name": "python"
    }
  },
  "cells": [
    {
      "cell_type": "markdown",
      "source": [
        "#Oefeningen arrays en lists\n",
        "##Oef1\n",
        "Hoe kun je best(=op de meest efficiënte manier) bij elk element van de onderstaande array 1 optellen?\n",
        "\n",
        "Output:\n",
        "\n",
        "[ 2  3  4  5  6  7  8  9 10 11]\n",
        "\n",
        "1) arr + 1\n",
        "1) for item in arr: item = item + 1\n",
        "1) for index in range(len(arr)): arr[index] += 1\n",
        "1) arr = arr + 1"
      ],
      "metadata": {
        "id": "IM0pdKGVe1Rh"
      }
    },
    {
      "cell_type": "code",
      "source": [
        "import numpy as np\n",
        "arr = np.array([1, 2, 3, 4, 5, 6, 7, 8, 9, 10])\n",
        "#wat moet je hier invullen ? (meest efficiënte manier)\n",
        "print(arr)"
      ],
      "metadata": {
        "id": "ptMKPDohe7hx"
      },
      "execution_count": null,
      "outputs": []
    },
    {
      "cell_type": "markdown",
      "source": [
        "##Oef2\n",
        "Wat moet je in de onderstaande code invullen om de volgende output te krijgen:\n",
        "\n",
        "[11 11 11 11 11 11 11 11 11 11]´\n",
        "\n",
        "1) arr = arr + arr[::-1]\n",
        "1) arr = arr + np.arange(10, 1, -1)\n",
        "1) arr += arr[10:0:-1]"
      ],
      "metadata": {
        "id": "NndYoZaUfN4k"
      }
    },
    {
      "cell_type": "code",
      "source": [
        "import numpy as np\n",
        "arr = np.array([1, 2, 3, 4, 5, 6, 7, 8, 9, 10])\n",
        "#wat moet je hier invullen?\n",
        "print(arr)"
      ],
      "metadata": {
        "id": "Q4yaU8cDfPN7"
      },
      "execution_count": null,
      "outputs": []
    },
    {
      "cell_type": "markdown",
      "source": [
        "##Oef3\n",
        "Is er een verschil in resultaat tussen\n",
        "`arr += 1`\n",
        "en\n",
        "`arr += np.ones_like(arr)`\n",
        "1) ja\n",
        "1) nee"
      ],
      "metadata": {
        "id": "jglXRvfCfY48"
      }
    },
    {
      "cell_type": "code",
      "source": [],
      "metadata": {
        "id": "eVFrfFTtfatN"
      },
      "execution_count": null,
      "outputs": []
    },
    {
      "cell_type": "markdown",
      "source": [
        "##Oef4\n",
        "Hoe kan ik het derde element van de eerste rij afdrukken in de volgende code? (meerdere antwoorden mogelijk)\n",
        "\n",
        "1) print(arr[0, -1])\n",
        "1) print(arr[0],[-1])\n",
        "1) print(arr[0][-1])\n",
        "1) print(arr[0, 3])\n",
        "1) print(arr[0],[3])\n",
        "1) print(arr[0][3])"
      ],
      "metadata": {
        "id": "epw2k09nfc_N"
      }
    },
    {
      "cell_type": "code",
      "source": [
        "import numpy as np\n",
        "lijst = [[1, 2, 3],[4, 5, 6]]\n",
        "arr = np.array(lijst)\n",
        "#welk print-statement moet ik hier invullen?"
      ],
      "metadata": {
        "id": "EpWvlIdYfgVe"
      },
      "execution_count": null,
      "outputs": []
    },
    {
      "cell_type": "markdown",
      "source": [
        "##Oef5\n",
        "Gegeven de onderstaande code. Hoe kan ik de laatste kolom van de array afdrukken?\n",
        "De output zou dus het volgende moeten zijn:\n",
        "\n",
        "[3 6 9]\n",
        "\n",
        "1) print(arr[-1])\n",
        "1) print(arr[][-1]\n",
        "1) print(arr[:, -1]\n",
        "1) print(arr[3])\n",
        "1) print(arr[][3]\n",
        "1) print(arr[:, 3]"
      ],
      "metadata": {
        "id": "8ipl7Kz_fjpG"
      }
    },
    {
      "cell_type": "code",
      "source": [
        "import numpy as np\n",
        "arr = np.array([[1, 2, 3], [4, 5, 6], [7, 8, 9]])\n",
        "#welk print-statement moet je hier invullen om de laatste kolom te tonen?"
      ],
      "metadata": {
        "id": "Lh2L46Jwfm12"
      },
      "execution_count": null,
      "outputs": []
    },
    {
      "cell_type": "markdown",
      "source": [
        "##Oef6\n",
        "Wat is de waarde van het tweede element van de array in de onderstaande code?\n",
        "\n",
        "1) Er is geen waarde want je krijgt een fout\n",
        "1) 128\n",
        "1) -128"
      ],
      "metadata": {
        "id": "GDLGs5fQfpZJ"
      }
    },
    {
      "cell_type": "code",
      "source": [
        "import numpy as np\n",
        "arr = np.arange(127, 138, dtype=np.int8)\n",
        "#hoe zou je hier het tweede element van de array afdrukken?"
      ],
      "metadata": {
        "id": "k1djB1w_fsTQ"
      },
      "execution_count": null,
      "outputs": []
    },
    {
      "cell_type": "markdown",
      "source": [
        "##Oef7\n",
        "Wat is de waarde van het eerste element van de som van de array met zichzelf?\n",
        "\n",
        "1) Er is geen waarde want je krijgt een fout\n",
        "1) 240\n",
        "1) -16"
      ],
      "metadata": {
        "id": "hmLGeyTZfvTo"
      }
    },
    {
      "cell_type": "code",
      "source": [
        "import numpy as np\n",
        "arr = np.arange(120, 128, dtype=np.int8)\n",
        "#Hoe druk je het eerste element van de som van de array met zichzelf af"
      ],
      "metadata": {
        "id": "CXV5HD61fyp4"
      },
      "execution_count": null,
      "outputs": []
    },
    {
      "cell_type": "markdown",
      "source": [
        "##Oef8\n",
        "Wat is het eerste element van arr / arr_2 in de volgende code?\n",
        "\n",
        "\n",
        "1) Er is geen waarde want je krijgt een fout\n",
        "1) inf\n",
        "1) 1/256"
      ],
      "metadata": {
        "id": "7R8PJ4gnf1oB"
      }
    },
    {
      "cell_type": "code",
      "source": [
        "import numpy as np\n",
        "arr = np.arange(1, 11, dtype=np.int8)\n",
        "arr_2 = np.full_like(arr, 256)\n",
        "#Hoe druk je hier het eerste element van arr / arr_2 af"
      ],
      "metadata": {
        "id": "qfjhS7Itf44x"
      },
      "execution_count": null,
      "outputs": []
    },
    {
      "cell_type": "markdown",
      "source": [
        "##Oef9\n",
        "Kijk eens bij de documentatie van np.full_like() om te zien wat je kunt doen om in de code van de vorige oefening toch 1/256 als resultaat te krijgen. Vul je antwoord hieronder in.\n",
        "\n"
      ],
      "metadata": {
        "id": "3IWEAyM5f9YB"
      }
    },
    {
      "cell_type": "code",
      "source": [
        "import numpy as np\n",
        "arr = np.arange(1, 11, dtype=np.int8)\n",
        "#Wat moet je in het volgende statement veranderen om de code toch correct te laten werken?\n",
        "arr_2 = np.full_like(arr, 256)\n",
        "print((arr / arr_2)[0]) #Moet 0.00390625 zijn"
      ],
      "metadata": {
        "id": "FSVrGPo8gArS"
      },
      "execution_count": null,
      "outputs": []
    },
    {
      "cell_type": "markdown",
      "source": [
        "##Oef10\n",
        "In de volgende code wordt de som van de 3 getallen afgedrukt. Hoe zou je op de laatste regel ook de som van de 3 getallen kunnen afdrukken?\n",
        "\n",
        "\n",
        "\n",
        "\n",
        "\n",
        "\n",
        "\n",
        "\n",
        "\n",
        "\n",
        "\n",
        "\n",
        "\n",
        "\n"
      ],
      "metadata": {
        "id": "T4rn5appMkGz"
      }
    },
    {
      "cell_type": "code",
      "source": [
        "import numpy as np\n",
        "arr = np.array([1, 2, 3])\n",
        "print(np.sum(arr))\n",
        "arr = np.append(arr, 'test')\n",
        "#welk print-statement moet je hier invullen om de som van de drie getallen af te drukken?"
      ],
      "metadata": {
        "id": "N11u2nKHgHlD"
      },
      "execution_count": null,
      "outputs": []
    },
    {
      "cell_type": "markdown",
      "source": [
        "##Oplossingen oefeningen\n",
        "###Oef1\n",
        "De beste manier om 1 op te tellen bij elk element is arr = arr + 1(antwoord 4). Het antwoord 'arr + 1' verandert de array niet. Let op: arr += 1 zou de array wel veranderen. De andere oplossingen gebruiken een Python for-lus en zijn zeker niet de beste manier om het te doen.\n",
        "##Oef2\n",
        "Je krijgt het juiste resultaat met arr = arr + arr[::-1] (antwoord 1). De twee andere arrays zijn telkens maar 9 elementen lang.\n",
        "##Oef3\n",
        "Er is geen verschil in resultaat tussen beide statement. De functie np.ones_like in NumPy maakt een array met allemaal 1-en met dezelfde dimensies als de array *arr*.\n",
        "##Oef4\n",
        "Er zijn twee correcte antwoorden: arr[0, -1] en arr[0][-1]. De eerste heeft de voorkeur omdat we hier ineens de waarde opvragen. Bij de tweede gebeurt de opvraging in twee stappen: eerst vragen we de eerste rij op (arr[0]) en vervolgens het laatste element van die rij.\n",
        "##Oef5\n",
        "Het juiste antwoord is arr[:, -1] (antwoord 3). We kunnen alle elementen van een bepaalde dimensie opvragen met ':'. Hier is dat dus: alle rijen van de laatste kolom.\n",
        "##Oef6\n",
        "Je krijgt een foutmelding (antwoord 1). Je moest de waarde dus zelfs niet afdrukken, want de fout gebeurt bij de creatie van de array. Een np.int8 heeft als grootste waarde 127 en 128 is dus te groot. Let op: NumPy zal je niet altijd waarschuwen wanneer een waarde te groot is. (maar hier dus wel)\n",
        "##Oef7\n",
        "De waarde is -16 (antwoord 3). Hier zijn de waarden van de array niet te groot voor een np.int8. Bij de optelling worden de waarden echter wel te groot. Omdat de fout gebeurt tijdens de verwerking van de array, worden we niet gewaarschuwd en gebeurt er een *wrap-around*: 127 + 1 zou 128 worden, maar bij een np.int8 wordt dat -128 (het kleinst mogelijke getal). 127 + 2 wordt -127. 127 + 3 wordt -126...\n",
        "\n",
        "Om te onthouden: wanneer je met integer werkt, gebruikt je best in eerst instantie np.int64 (de standaard). Pas wanneer je merkt dat je problemen krijgt met het geheugengebruik, kun je eens kijken of je geen kleinere integer kunt gebruiken.\n",
        "##Oef8\n",
        "De waarde is 'inf' (oneindig), maar je krijgt wel een waarschuwing omdat je deelt door 0. Het probleem is dat *np.full_like* een array maakt met hetzelfde type als *arr*. (np.int8 dus) De waarde 256 is te groot voor een np.int8 en met de *wrap-around* komen we (toevallig) uit op 0. En NumPy geeft als resultaat $\\infty$ (oneindig).\n",
        "##Oef9\n",
        "Om ervoor te zorgen dat we het type van *arr* niet overnemen bij *np.full_like*, kunnen we een eigen type invullen. Een int16 is al voldoende:\n",
        "`arr_2 = np.full_like(arr, 256, dtype=np.int16)`\n",
        "##Oef10\n",
        "Er waren hier verschillende mogelijkheden. Het probleem hier is dat door de append van een string het type van de array is veranderd. De drie getallen zijn teksten geworden. Het is dus niet voldoende om de som te nemen van de eerste drie elementen (np.sum(arr[:-1])). We moeten die elementen ook omzetten naar integers. Dat hebben we niet gezien, maar chatgpt kon je hier zeker bij helpen:\n",
        "\n",
        "Je kon de functie np.int8() gebruiken: `print(np.sum(np.int8(arr[:-1])))`\n",
        "\n",
        "\n",
        "Je kon ook np.astype() gebruiken: `print(np.sum((np.astype(arr[:-1], np.int8))))`\n"
      ],
      "metadata": {
        "id": "83jrreiGAy0a"
      }
    }
  ]
}