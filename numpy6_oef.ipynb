{
  "nbformat": 4,
  "nbformat_minor": 0,
  "metadata": {
    "colab": {
      "provenance": []
    },
    "kernelspec": {
      "name": "python3",
      "display_name": "Python 3"
    },
    "language_info": {
      "name": "python"
    }
  },
  "cells": [
    {
      "cell_type": "markdown",
      "source": [
        "#Oefeningen op broadcasting\n",
        "##Oef 1\n",
        "Wat moet je in onderstaande code invullen om het volgende resultaat te krijgen:\n",
        "```\n",
        "(arr_3 + arr_2)=array([12, 14, 14, 16])\n",
        "```\n",
        "\n",
        "1) arr_3 = arr_1 (je moet dus eigenlijk niets doen)\n",
        "1) arr_3 = np.broadcast_to(arr_1, arr_2.shape)\n",
        "1) arr_3 = np.hstack([arr_1, arr_1])\n",
        "1) arr_3 = np.vstack([arr_1, arr_1])\n",
        "\n"
      ],
      "metadata": {
        "id": "RdF2vO07oeRm"
      }
    },
    {
      "cell_type": "code",
      "source": [
        "import numpy as np\n",
        "arr_1 = np.array([1, 2])\n",
        "arr_2 = np.arange(11, 15)\n",
        "print(f'{arr_1=}')\n",
        "print(f'{arr_2=}')\n",
        "#wat moet je hier invullen?\n",
        "print(f'{(arr_3 + arr_2)=}')"
      ],
      "metadata": {
        "id": "muBaT2-2oif3"
      },
      "execution_count": null,
      "outputs": []
    },
    {
      "cell_type": "markdown",
      "source": [
        "##Oef2\n",
        "Welk van de onderstaande antwoorden werkt **niet** om de volgende output te krijgen (of werken ze allemaal?):\n",
        "```\n",
        "arr_3 + arr_2:\n",
        " [[11 12]\n",
        " [13 14]]\n",
        "```\n",
        "1) arr_3 = arr_1 (je moet dus eigenlijk niets doen)\n",
        "1) arr_3 = np.broadcast_to(arr_1, arr_2.shape)\n",
        "1) arr_3 = np.hstack([arr_1, arr_1])\n",
        "1) arr_3 = np.vstack([arr_1, arr_1])\n",
        "1) alle antwoorden werken\n"
      ],
      "metadata": {
        "id": "6jhohZNRqe65"
      }
    },
    {
      "cell_type": "code",
      "source": [
        "import numpy as np\n",
        "arr_1 = np.array([10])\n",
        "arr_2 = np.arange(1, 5).reshape(2, 2)\n",
        "print(f'{arr_1=}')\n",
        "print('arr_2:\\n', arr_2)\n",
        "#wat moet je hier invullen?\n",
        "print('arr_3:\\n', arr_3)\n",
        "print('arr_3 + arr_2:\\n', arr_3 + arr_2)\n"
      ],
      "metadata": {
        "id": "QU1QCbJqqgqS"
      },
      "execution_count": null,
      "outputs": []
    },
    {
      "cell_type": "markdown",
      "source": [
        "##Oef3\n",
        "De volgende code werkt niet want ze geeft een fout. Welke *shape* moet arr_1 hebben om geen fout meer te krijgen op broadcasting?\n",
        "\n",
        "1) (4, 1)\n",
        "1) (1, 2)\n",
        "1) (1, 4)\n",
        "1) (2, 1)\n",
        "1) Geen enkele van deze oplossingen werkt\n"
      ],
      "metadata": {
        "id": "B53S8gGvsstk"
      }
    },
    {
      "cell_type": "code",
      "source": [
        "import numpy as np\n",
        "arr_1 = np.array([[1], [1]])\n",
        "arr_2 = np.arange(1, 9).reshape(4, -1)\n",
        "print(arr_1 + arr_2)"
      ],
      "metadata": {
        "id": "7jSExI1NtXNf"
      },
      "execution_count": null,
      "outputs": []
    },
    {
      "cell_type": "markdown",
      "source": [
        "##Oef 4\n",
        "De volgende code werkt niet want ze geeft een fout. Welke *shape* moet arr_1 hebben om geen fout te krijgen op broadcasting?\n",
        "\n",
        "1) (2, 3)\n",
        "1) (2, 2, 3)\n",
        "1) (3, 2, 1)\n",
        "1) (2, 3, 1)\n",
        "1) Geen enkele van deze oplossingen werkt"
      ],
      "metadata": {
        "id": "QasWwIqRu8T7"
      }
    },
    {
      "cell_type": "code",
      "source": [
        "import numpy as np\n",
        "arr_1 = np.array([1, 2, 3])\n",
        "arr_1 = np.broadcast_to(arr_1, (2, 3))\n",
        "arr_1 = arr_1.reshape(2, 3, -1)\n",
        "print(f'{arr_1.shape=}')\n",
        "\n",
        "arr_2 = np.arange(12).reshape(2, 3, -1)\n",
        "print(f'{arr_2.shape=}')\n",
        "print('arr_1:\\n', arr_1)\n",
        "print('arr_2:\\n', arr_2)\n",
        "print('arr_1 + arr_2:\\n', arr_1 + arr_2)"
      ],
      "metadata": {
        "id": "RWDUg14hu-ap"
      },
      "execution_count": null,
      "outputs": []
    },
    {
      "cell_type": "markdown",
      "source": [
        "#Oef5\n",
        "Je weet ondertussen al dat de onderstaande code niet werkt. Hoe zou je arr_1 veranderen om de code toch te laten werken? Je mag enkel gebruik maken van *reshape()*, *np.vstack([])*, *np.hstack([])* en *np.column_stack([])*"
      ],
      "metadata": {
        "id": "rOIXKW81w_wj"
      }
    },
    {
      "cell_type": "code",
      "source": [
        "import numpy as np\n",
        "arr_1 = np.array([1, 2, 3])\n",
        "arr_1 = np.vstack([arr_1, arr_1])\n",
        "arr_1 = arr_1.reshape(2, 3, 1)\n",
        "arr_2 = np.arange(12).reshape(2, 3, -1)\n",
        "print('arr_1.shape:', arr_1.shape)\n",
        "print('arr_2.shape:', arr_2.shape)\n",
        "print('arr_1 + arr_2:\\n', arr_1 + arr_2)"
      ],
      "metadata": {
        "id": "vRAdMwCfxIjk"
      },
      "execution_count": null,
      "outputs": []
    },
    {
      "cell_type": "markdown",
      "source": [
        "## Extra oefening\n",
        "Vertrek van onderstaande code om het bestand 'cleaned_bi.csv' te downloaden. Het bestand bevat gegevens over deelnemers aan een cursus Python.\n",
        "\n",
        "\n",
        "*   Lees de leeftijden in het bestand met NumPy en toon de gemiddelde leeftijd en de mediaan van de leeftijden van de deelnemers\n",
        "*   Lees de geslachten in het bestand met NumPy. Wanneer er meer vrouwen deelnamen, toon je de tekst 'Er namen meer vrouwen deel'. Wanneer er meer mannen deelnamen, toon je de tekst ''Er namen meer mannen deel'. Wanneer er evenveel mannen als vrouwen deelnamen, toon je de tekst 'Er namen evenveel vrouwen als mannen deel'.\n",
        "\n",
        "De output zou bijvoorbeeld kunnen zijn:\n",
        "```\n",
        "De gemiddelde leeftijd is 35.2\n",
        "De mediaan van de leeftijden is 33.0\n",
        "Er namen meer vrouwen deel.\n",
        "```\n",
        "\n",
        "\n",
        "\n",
        "\n"
      ],
      "metadata": {
        "id": "HxIDFC9hMVfS"
      }
    },
    {
      "cell_type": "code",
      "source": [
        "import requests\n",
        "from zipfile import ZipFile\n",
        "import numpy as np\n",
        "data = requests.get('https://learn.walsoftcomputers.com/csv/cleaned_bi.csv')\n",
        "BESTAND = 'cleaned_bi.csv'\n",
        "with open(BESTAND, 'w') as f:\n",
        "  f.write(data.text)\n"
      ],
      "metadata": {
        "id": "p0H6oxr9MYpa"
      },
      "execution_count": null,
      "outputs": []
    },
    {
      "cell_type": "markdown",
      "source": [
        "##Optionele oefening\n",
        "Het bestand uit de vorige oefening heet 'cleaned_bi.csv'. Er is ook een 'bi.csv'. (uit de naam kun je opmaken, dat er waarschijnlijk enkele probleme zullen zijn met die data).\n",
        "\n",
        "Je vindt het bestand terug op de volgende URL: [https://learn.walsoftcomputers.com/csv/bi.csv](https://learn.walsoftcomputers.com/csv/bi.csv)\n",
        "\n",
        "Download het bestand en schrijf NumPy code die een antwoord geeft op de volgende vragen:\n",
        "1. wat is het gemiddelde aantal punten dat behaald is op Python (voorlaatste kolom).\n",
        "1. hoeveel vrouwen namen deel aan de opleiding?"
      ],
      "metadata": {
        "id": "CACyCKRjdk5B"
      }
    },
    {
      "cell_type": "markdown",
      "source": [
        "#Oplossingen\n",
        "##Oef1\n",
        "De shapes zijn (2,) en (4,). Dit kun je nooit met broadcasten oplossen. Het enige correcte antwoord is arr_3 = np.hstack (antwoord 3)\n",
        "##Oef2\n",
        "Alle antwoorden werken (antwoord 5).\n",
        "##Oef3\n",
        "De shapes die werken zijn (4, 1) en (1, 2) (antwoorden 1 en 2). Dat zijn de enige shapes die gebroadcast kunnen worden naar de shape (4, 2)\n",
        "\n",
        "##Oef4\n",
        "De shape (2, 3, 1) werkt (antwoord 4). De laatste dimensie (1) kan gebroadcast worden naar 2.\n",
        "\n",
        "##Oef5\n",
        "Om de shape (2, 3, 1) te krijgen kun je gebruik maken van\n",
        "```\n",
        "arr_1 = np.vstack([arr_1, arr_1])\n",
        "arr_1 = arr_1.reshape(2, 3, 1)\n",
        "```\n",
        "\n",
        "Een andere shape die werkt is (3, 2). Om die te krijgen kun je gebruik maken van `np.column_stack([arr_1, arr_1])`\n",
        "\n",
        "##Extra oefening\n",
        "De leeftijden staan in kolom nummer 2. Aangezien er geen ongeldige waarden zijn (np.nan), kunnen we np.mean() en np.median() gebruiken.\n",
        "\n",
        "Voor de geslachten moeten we er rekening mee houden dat het teksten zijn (dtype='str').\n",
        "\n",
        "```\n",
        "import numpy as np\n",
        "leeftijden = np.genfromtxt('cleaned_bi.csv', delimiter=',', skip_header=1, usecols=2)\n",
        "print(f'De gemiddelde leeftijd is {np.mean(leeftijden):0.1f}')\n",
        "print(f'De mediaan van de leeftijden is {np.median(leeftijden):0.1f}')\n",
        "geslachten = np.genfromtxt('cleaned_bi.csv', delimiter=',', dtype='str', skip_header=1, usecols=3)\n",
        "waarden, aantallen = np.unique(geslachten, return_counts=True)\n",
        "if aantallen[0] > aantallen[1]:\n",
        "  print('Er namen meer vrouwen deel.')\n",
        "elif aantallen[1] > aantallen[0]:\n",
        "  print('Er namen meer mannen deel.')\n",
        "else:\n",
        "  print('Er namen evenveel vrouwen als mannen deel.')\n",
        "```\n",
        "\n",
        "## Optionele oefening\n",
        "Om de data te downloaden, kun je de volgende code gebruiken:\n",
        "```\n",
        "import requests\n",
        "data = requests.get('https://learn.walsoftcomputers.com/csv/bi.csv')\n",
        "with open('bi.csv', 'w') as f:\n",
        "    f.write(data.text)\n",
        "```\n",
        "De punten voor Python staan in de voorlaatste kolom. Aangezien *usecols* ook met negatieve waarden kan werken, is dit de eenvoudigste code om die punten te lezen:\n",
        "```\n",
        "import numpy as np\n",
        "python = np.genfromtxt('bi.csv', delimiter=',', skip_header=1, usecols=(-2))\n",
        "```\n",
        "Let op met de waarden. Ze worden ingelezen als floats en dat is goed want er zit een nan-waarde bij. Om het gemiddelde te berekenen, moet je dus de volgende code gebruiken:\n",
        "```\n",
        "print(f'{np.nanmean(python):.2f}')\n",
        "```\n",
        "De geslachten staan in kolomindex 3. We moeten ze inlezen als string. Maar er zijn verschillende benamingen voor 'vrouwelijk'.\n",
        "```\n",
        "geslachten = np.genfromtxt('bi.csv', delimiter=',', skip_header=1, usecols=(3), dtype=np.str_)\n",
        "waarden, aantallen = np.unique(geslachten, return_counts=True)\n",
        "print(waarden)\n",
        "print(np.sum(aantallen[[0, 1, 4]])) #F, Female en female\n",
        "```\n",
        "In de praktijk zullen we die eerst omzetten naar dezelfde waarden voordat we met we eigenlijke analyse beginnen.\n",
        "\n",
        "\n",
        "\n",
        "\n",
        "\n",
        "\n",
        "\n"
      ],
      "metadata": {
        "id": "Tvyhm1O0qJAm"
      }
    }
  ]
}