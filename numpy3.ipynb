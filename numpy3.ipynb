{
  "nbformat": 4,
  "nbformat_minor": 0,
  "metadata": {
    "colab": {
      "provenance": []
    },
    "kernelspec": {
      "name": "python3",
      "display_name": "Python 3"
    },
    "language_info": {
      "name": "python"
    }
  },
  "cells": [
    {
      "cell_type": "markdown",
      "source": [
        "#Extra manieren om arrays te maken\n",
        "Eerst een kleine herhaling:\n",
        "*  In Python kunnen we lists gebruiken om een reeks gegevens bij te houden\n",
        "*  In NumPy doen we dat met een ndarray (N-dimensional array)\n",
        "*  Alle elementen in een NumPy array moeten van hetzelfde type zijn"
      ],
      "metadata": {
        "id": "57dU-JvMiD5n"
      }
    },
    {
      "cell_type": "code",
      "execution_count": null,
      "metadata": {
        "id": "xj-h363RiAOo"
      },
      "outputs": [],
      "source": [
        "import numpy as np\n",
        "arr = np.array([1, 2, 3])\n",
        "print(arr, arr.dtype)\n",
        "arr = np.arange(1, 4)\n",
        "print(arr, arr.dtype)\n",
        "arr = np.zeros(3)\n",
        "print(arr, arr.dtype)\n",
        "arr = np.ones((2, 3))\n",
        "print(arr, arr.dtype)\n",
        "arr = np.full(3, 127)\n",
        "print(arr, arr.dtype)\n",
        "arr = np.full_like(arr, 1701)\n",
        "print(arr, arr.dtype)"
      ]
    },
    {
      "cell_type": "markdown",
      "source": [
        "## Array met meer dimensies\n",
        "\n",
        "De *shape* van een array vertelt ons hoe het zit met de rijen en de kolommen. Met de *reshape()* functie kunnen we de *shape* wijzigen.\n",
        "\n",
        "Tussendoortje: we hebben gezien dat de *append()*-functie in NumPy niet bij een array hoort, maar rechtstreeks in de *numpy* (np)-namespace. Dat geeft aan dat er een nieuwe array wordt gemaakt.\n",
        "\n",
        "Belangrijke achtergrond informatie: door de shape te veranderen van een array, verandert er niets in het geheugen. Er wordt geen nieuwe array gemaakt. Vandaar dat de *reshape()*-functie bij een array hoort. (verwarrend: er is ook een identieke functie [die in de numpy-namespace staat](https://numpy.org/doc/stable/reference/generated/numpy.ndarray.reshape.html#numpy.ndarray.reshape))"
      ],
      "metadata": {
        "id": "-MeAZfzduOBd"
      }
    },
    {
      "cell_type": "code",
      "source": [
        "import numpy as np\n",
        "arr = np.arange(9)\n",
        "print('arr:',arr)\n",
        "print('arr.shape:', arr.shape)\n",
        "aantal_rijen = 3\n",
        "aantal_kolommen = 3\n",
        "arr2 = arr.reshape(aantal_rijen, aantal_kolommen) #np.reshape() bestaat ook, maar is dezelfde functie\n",
        "print(f'arr.reshape({aantal_rijen}, {aantal_kolommen}):\\n', arr2)\n",
        "print('arr.shape:', arr2.shape)\n",
        "rijnr = 1\n",
        "arr2[rijnr, 0] = 10\n",
        "print('De tweede rij van arr2:', arr2[rijnr, :])\n",
        "print('De tweede rij van arr:', arr[rijnr * aantal_kolommen : (rijnr + 1) * aantal_kolommen])\n",
        "\n"
      ],
      "metadata": {
        "id": "kjHidl6MvS0n"
      },
      "execution_count": null,
      "outputs": []
    },
    {
      "cell_type": "markdown",
      "source": [
        "## Een copy en een 'view'\n",
        "Met de *copy()* maken we een nieuwe kopie van een array (waarom niet np.copy()? Dat volgt de logica van numpy-functies maken een nieuwe array en array-functie veranderen de array. Misschien omdat de naam van de functie duidelijk maakt dat er een kopie wordt gemaakt)"
      ],
      "metadata": {
        "id": "PJZo9eZJxKrv"
      }
    },
    {
      "cell_type": "code",
      "source": [
        "import numpy as np\n",
        "arr = np.arange(9)\n",
        "print('arr:', arr)\n",
        "arr2 = arr\n",
        "arr2[0] = 100\n",
        "print('arr2:', arr2)\n",
        "print('arr:', arr)\n",
        "print(\"De view-functie doet hetzelfde (maar ze heeft een specifieke toepassing)\")\n",
        "arr = np.arange(9)\n",
        "arr2 = arr.view()\n",
        "arr2[0] = 100\n",
        "print('arr2:', arr2)\n",
        "print('arr:', arr)\n",
        "print('En nu met de copy()-functie:')\n",
        "arr = np.arange(9)\n",
        "arr2 = arr.copy()\n",
        "arr2[0] = 100\n",
        "print('arr2:', arr2)\n",
        "print('arr:', arr)\n"
      ],
      "metadata": {
        "id": "5QoG9xySxpF5"
      },
      "execution_count": null,
      "outputs": []
    },
    {
      "cell_type": "markdown",
      "source": [
        "##Om verwarring te zaaien: de view()-functie\n",
        "De view()-functie wordt vooral gebruikt om het type van de array te veranderen. Maar let op: een int8-array omzetten naar een int16-array doet misschien niet wat je verwacht had.\n",
        "\n",
        "Een view is een manier om een array te bekijken:\n",
        "*   int8: bekijk de 4 geheugenlocaties van de array als 4 int8 integers\n",
        "*   int16: bekijk de 4 geheugenlocaties van de array als 2 int16 integers\n",
        "\n",
        "De int16 integers worden gelezen als 0 * 1 + 1 * 256 en 2 * 1 + 3 * 256\n"
      ],
      "metadata": {
        "id": "Zfx9JiYRzPvJ"
      }
    },
    {
      "cell_type": "code",
      "source": [
        "import numpy as np\n",
        "arr = np.arange(4, dtype=np.int8)\n",
        "arr2 = arr.view(dtype=np.int16)\n",
        "print('arr:', arr)\n",
        "print('arr2:', arr2)\n",
        "arr2[0] = arr2[0] + 1\n",
        "print('na arr2[0] = arr2[0] + 1:')\n",
        "print('arr:', arr)\n",
        "print('arr2:', arr2)"
      ],
      "metadata": {
        "id": "l9r4YWl1zYRC"
      },
      "execution_count": null,
      "outputs": []
    },
    {
      "cell_type": "markdown",
      "source": [
        "##Random waarden\n",
        "Wanneer we data willen om iets uit te proberen, is het handig om (semi)-willekeurige getallen te hebben. In moderne NumPy gebruiken we hiervoor een *random generator*: [np.random.default_rng()](https://numpy.org/doc/stable/reference/random/generator.html)\n",
        "\n",
        "Aangezien een computer geen willekeurige waarden kan genereren, moet men op een andere manier te werk gaan. Er wordt een 'random'-functie gedefinieerd die één voor één waarden kan teruggeven (een generator in Python termen).\n",
        "\n",
        "In tegenstelling tot bij 'klassieke' generatorfuncties (denk aan de range()-functie) kunnen we de volgende waarde niet 'raden'. De opeenvolging van de waarden ligt vast, maar we kunnen wel een 'beginpunt' meegeven. Dan zullen we altijd dezelfde reeks van 'willekeurige' waarden terugkrijgen. Dat 'beginpunt' noemen we ook de *seed*.\n",
        "\n",
        "Dat is de waarde die we meegeven aan np.random.default_rng(). Wanneer we die seed weglaten, kiest NumPy zelf een beginpunt op basis van een aantal waarden (bijvoorbeeld: hoe lang staat de computer al aan).\n",
        "\n",
        "In deze code maken we:\n",
        "*   een (3, 4) array met willekeurige integers tussen 0 en 10 (niet inbegrepen)\n",
        "*   een (3, ) array met willekeurige floats\n",
        "*   een (10, ) array met willekeurige waarden uit de array voorbeeld. Na een element gekozen te hebben wordt het terug in de array voorbeeld gezet, zodat het opnieuw kan gekozen worden (vgl met de lottotrekking)\n",
        "*   tenslotte worden de elementen in de array *voorbeeld* dooreen gehaald.\n",
        "\n"
      ],
      "metadata": {
        "id": "mat8ZpBpjzY2"
      }
    },
    {
      "cell_type": "code",
      "source": [
        "import numpy as np\n",
        "rng = np.random.default_rng(42) #vaste seed -> altijd dezelfde reeks (random) waarden\n",
        "arr = rng.integers(0, 10, size=(3, 4))  #endpoint = False is de default\n",
        "print(f'{arr.size} random integers van 0 tot en met 9:')\n",
        "print(arr)\n",
        "arr = rng.random(size=3) #drie random float tussen 0.0 en 1.0\n",
        "print(f'{arr.size} random floats tussen 0.0 en 1.0: [0.0, 1.0)')\n",
        "print(arr)\n",
        "voorbeeld = np.array([3, 7, 9, 12, 10, 14, 8])\n",
        "arr = rng.choice(voorbeeld, size=10, replace=True) # replace=True: zet de gekozen waarde terug in de array\n",
        "print(f'{arr.size} random waarden uit {voorbeeld}:')\n",
        "print(arr)\n",
        "voorbeeld = np.arange(10)\n",
        "print(f'De array {voorbeeld} dooreengeschud:')\n",
        "rng.shuffle(voorbeeld) #'schud' de array\n",
        "print(voorbeeld)"
      ],
      "metadata": {
        "id": "fcKhON2Gj2eG"
      },
      "execution_count": null,
      "outputs": []
    },
    {
      "cell_type": "markdown",
      "source": [
        "##np.linspace() vs np.arange()\n",
        "Met np.arange(begin, einde, [step]) maken we een array met de waarden tussen begin  en einde (niet inbegrepen). Met de optionele step-waarde kunnen we de stapgrootte bepalen. Om te weten hoeveel elementen er gegenereerd worden, moeten we rekenen (einde- begin)/step.\n",
        "\n",
        "Het verschil tussen arange en linspace:\n",
        "*   linspace: eindpunt is inbegrepen\n",
        "*   linspace: laatste parameter = aantal getallen ('stapgrootte' wordt berekend)\n"
      ],
      "metadata": {
        "id": "rO0YG3gqj5fm"
      }
    },
    {
      "cell_type": "code",
      "source": [
        "import numpy as np\n",
        "arr = np.arange(10, 21, 2)\n",
        "print('De getallen in stappen van 2 tussen 10 en 21: [10, 21)')\n",
        "print(arr)\n",
        "arr = np.linspace(10, 20, 6, dtype=np.int64)\n",
        "print('6 getallen tussen 10 en 20: [10, 20]')\n",
        "print(arr)"
      ],
      "metadata": {
        "id": "mM0Ue96pj772"
      },
      "execution_count": null,
      "outputs": []
    },
    {
      "cell_type": "markdown",
      "source": [
        "linspace is vooral handig bij het maken van grafieken waar we controle willen over het aantal x-waarden.\n",
        "\n",
        "Ik wil de volgende functie in een grafiek zetten: $y = 2x$\n",
        "\n",
        "Een grafiek noemen we een *axis* in matplotlib.\n",
        "\n",
        "Met plt.gca() vragen we de huidige grafiek op (*get current axis*)\n",
        "\n",
        "De *spines* de assen die getekend worden. Er zijn er vier: bottom, left, top en right.\n",
        "\n",
        "We willen maar 2 assen tonen en ze moeten op het nulpunt staan in de grafiek."
      ],
      "metadata": {
        "id": "ptn1rxo0j-SP"
      }
    },
    {
      "cell_type": "code",
      "source": [
        "import numpy as np\n",
        "import matplotlib.pyplot as plt\n",
        "x = np.linspace(-10, 10, 100)\n",
        "y = 2 * x\n",
        "plt.gca().spines.bottom.set_position('zero')\n",
        "plt.gca().spines.left.set_position('zero')\n",
        "plt.gca().spines.top.set_visible(False)\n",
        "plt.gca().spines.right.set_visible(False)\n",
        "plt.plot(x, y)\n",
        "plt.show()"
      ],
      "metadata": {
        "id": "QrIP1gN1kBRv"
      },
      "execution_count": null,
      "outputs": []
    },
    {
      "cell_type": "markdown",
      "source": [
        "Omdat het resultaat een rechte was, maakte het niet veel uit in het vorige voorbeeld hoeveel x-waarden we lieten genereren. Het wordt natuurlijk anders bij de functie $y = x^{2}$"
      ],
      "metadata": {
        "id": "21czn_CdkFvQ"
      }
    },
    {
      "cell_type": "code",
      "source": [
        "import numpy as np\n",
        "import matplotlib.pyplot as plt\n",
        "def generate_splines():\n",
        "  plt.gca().spines.bottom.set_position('zero')\n",
        "  plt.gca().spines.left.set_position('zero')\n",
        "  plt.gca().spines.top.set_visible(False)\n",
        "  plt.gca().spines.right.set_visible(False)\n",
        "x = np.linspace(-10, 10, 10)\n",
        "y = x ** 2\n",
        "generate_splines()\n",
        "plt.plot(x, y)\n",
        "plt.show()"
      ],
      "metadata": {
        "id": "anmrp_SGkKYg"
      },
      "execution_count": null,
      "outputs": []
    },
    {
      "cell_type": "markdown",
      "source": [
        "Een 'tussendoortje': de afgeleide van de sinus is de cosinus. Maar in NumPy moeten we dat niet weten om de afgeleide te kunnen berekenen. We kunnen hiervoor de *gradient*-functie gebruiken."
      ],
      "metadata": {
        "id": "v0AhyGmCkPii"
      }
    },
    {
      "cell_type": "code",
      "source": [
        "import numpy as np\n",
        "import matplotlib.pyplot as plt\n",
        "x = np.arange(0, 2 * np.pi + 0.1, 0.2)\n",
        "y = np.sin(x)\n",
        "generate_splines()\n",
        "plt.plot(x, y, label=\"sinus\")\n",
        "#voor de wiskundigen: de afgeleide van de sinus is de cosinus\n",
        "plt.plot(x, np.gradient(y, x), label='afgeleide van de sinus')\n",
        "#plt.legend(loc='upper right', bbox_to_anchor=(1.5, 1))\n",
        "plt.legend(loc=(1.0, 0.9))\n",
        "plt.show()"
      ],
      "metadata": {
        "id": "CfNRrxEqkcWz"
      },
      "execution_count": null,
      "outputs": []
    },
    {
      "cell_type": "markdown",
      "source": [
        "Een grafiek in 3 dilensies (x-, y- en z-coördinaten) kunnen we ook voorstellen met een contourplot. Enig idee wat *np.meshgrid* doet?"
      ],
      "metadata": {
        "id": "FSjbNQOWkgUE"
      }
    },
    {
      "cell_type": "code",
      "source": [
        "import numpy as np\n",
        "import matplotlib.pyplot as plt\n",
        "x_val = np.linspace(-1, 1, 100)\n",
        "y_val = np.linspace(-1, 1, 100)\n",
        "x, y = np.meshgrid(x_val, y_val)\n",
        "z = x**2 + y**2\n",
        "\n",
        "plt.contourf(x, y, z, levels=10)\n",
        "plt.colorbar()\n",
        "plt.show()"
      ],
      "metadata": {
        "id": "EQNNcNDokwyG"
      },
      "execution_count": null,
      "outputs": []
    },
    {
      "cell_type": "markdown",
      "source": [
        "Hoe kunnen we arrays combineren? Door ze boven elkaar te zetten, bijvoorbeeld."
      ],
      "metadata": {
        "id": "e_6xmcGLlT1j"
      }
    },
    {
      "cell_type": "code",
      "source": [
        "import numpy as np\n",
        "arr1 = np.arange(1, 6)\n",
        "arr2 = np.arange(11, 16)\n",
        "np.vstack([arr1, arr2])"
      ],
      "metadata": {
        "id": "Lk4xtq37lcod"
      },
      "execution_count": null,
      "outputs": []
    },
    {
      "cell_type": "markdown",
      "source": [
        "Met *np.hstack* kunnen we ze naast elkaar zetten. Maar is dit wat je verwacht had?"
      ],
      "metadata": {
        "id": "lpLtEJkhlgAF"
      }
    },
    {
      "cell_type": "code",
      "source": [
        "import numpy as np\n",
        "arr1 = np.arange(1, 6)\n",
        "arr2 = np.arange(11, 16)\n",
        "np.hstack([arr1, arr2])"
      ],
      "metadata": {
        "id": "L0yfrx17loRO"
      },
      "execution_count": null,
      "outputs": []
    },
    {
      "cell_type": "markdown",
      "source": [
        "Om *np.hstack* te laten werken zoals je het misschien verwacht had, moeten we er kolomarrays van maken:"
      ],
      "metadata": {
        "id": "-rKBT9odlq3e"
      }
    },
    {
      "cell_type": "code",
      "source": [
        "import numpy as np\n",
        "arr1 = np.arange(1, 6).reshape(-1, 1)\n",
        "arr2 = np.arange(11, 16).reshape(-1, 1)\n",
        "np.hstack([arr1, arr2])"
      ],
      "metadata": {
        "id": "a5TA_haal4FQ"
      },
      "execution_count": null,
      "outputs": []
    },
    {
      "cell_type": "markdown",
      "source": [
        "Een alternatief is gebruik maken van *np.column_stack*"
      ],
      "metadata": {
        "id": "YHkG-pZWl525"
      }
    },
    {
      "cell_type": "code",
      "source": [
        "import numpy as np\n",
        "arr1 = np.arange(1, 6)\n",
        "arr2 = np.arange(11, 16)\n",
        "np.column_stack((arr1, arr2))"
      ],
      "metadata": {
        "id": "FBQ6v5dsl_4p"
      },
      "execution_count": null,
      "outputs": []
    },
    {
      "cell_type": "markdown",
      "source": [
        "Het omgekeerde van stacking is splitting. We kunnen een list meegeven met de indexen waarop gesplitst moet worden:"
      ],
      "metadata": {
        "id": "9laJh68amFka"
      }
    },
    {
      "cell_type": "code",
      "source": [
        "import numpy as np\n",
        "arr = np.arange(10)\n",
        "arr1, arr2, arr3 = np.split(arr, [2, 5])\n",
        "print(arr1)\n",
        "print(arr2)\n",
        "print(arr3)"
      ],
      "metadata": {
        "id": "b0AiTc50mZOl"
      },
      "execution_count": null,
      "outputs": []
    },
    {
      "cell_type": "markdown",
      "source": [
        "We kunnen ook één getal meegeven. In dit geval willen we de array opdelen in 2 gelijke delen:"
      ],
      "metadata": {
        "id": "ycKDh8S9ma9V"
      }
    },
    {
      "cell_type": "code",
      "source": [
        "import numpy as np\n",
        "arr = np.arange(10).reshape(2, -1)\n",
        "arr1, arr2 = np.split(arr, 2) #verschil tussen array en integer\n",
        "print(arr1)\n",
        "print(arr2)"
      ],
      "metadata": {
        "id": "4R92HMtMmtIQ"
      },
      "execution_count": null,
      "outputs": []
    },
    {
      "cell_type": "markdown",
      "source": [
        "Dat is niet hetzelfde als dit:"
      ],
      "metadata": {
        "id": "1wXEIySEm36S"
      }
    },
    {
      "cell_type": "code",
      "source": [
        "import numpy as np\n",
        "arr = np.arange(10).reshape(2, -1)\n",
        "arr1= np.split(arr, [2])\n",
        "print(arr1)"
      ],
      "metadata": {
        "id": "WztlEGz5m6hR"
      },
      "execution_count": null,
      "outputs": []
    },
    {
      "cell_type": "markdown",
      "source": [
        "Om nog eens iets wiskundig te doen, kunnen we een stelsel van vergelijkingen oplossen. De volgende vergelijking:\n",
        "$$x_1 + x_2 = 3\\\\3x_1 - 2x_2=4$$\n",
        "kunnen we voorstellen onder de vorm van 2 arrays. Een 2-dimensionele array met de coëfficiënten en een 1-dimensionele array met de resultaten. Vervolgens gebruiken we de eliminatiemethode van Gauss-Jordan.\n",
        "\n",
        "We kunnen de twee arrays samenvoegen tot 1 matrix:\n",
        "\n",
        "$$\\begin{bmatrix}1 && 1 &&3\\\\3 && -2 && 4\\end{bmatrix}$$\n",
        "\n",
        "In de eerste stap kunnen we 3 x de eerste rij aftrekken van de tweede:\n",
        "$$\\begin{bmatrix}1 && 1 &&3\\\\0 && -5 && -5\\end{bmatrix}$$\n",
        "In een tweede stap delen we de tweede rij door -5:\n",
        "$$\\begin{bmatrix}1 && 1 &&3\\\\0 && 1 && 1\\end{bmatrix}$$\n",
        "In de laatste stap trekken we 1x de tweede rij af van de eerste:\n",
        "$$\\begin{bmatrix}1 && 0 &&2\\\\0 && 1 && 1\\end{bmatrix}$$\n",
        "Het resultaat: $x_1=2$ en $x_2=1$"
      ],
      "metadata": {
        "id": "sDzxLpwUm8UC"
      }
    },
    {
      "cell_type": "code",
      "source": [
        "import numpy as np\n",
        "arr_A = np.array([1, 1, 3, -2], dtype=np.float64).reshape(2, -1)\n",
        "print(arr_A)\n",
        "vec_y = np.array([3, 4])\n",
        "print(vec_y.reshape(2, -1))\n",
        "\n",
        "arr_mat = np.column_stack([arr_A, vec_y])\n",
        "print('stap0: rij1 = rij1 / 1')\n",
        "print(arr_mat)\n",
        "print('stap 1: rij2 = rij2 - 3 * rij1')\n",
        "arr_mat[1] -= arr_mat[1, 0] * arr_mat[0]\n",
        "print('na stap 1\\n', arr_mat)\n",
        "print('stap 2: rij2 = rij2 / -5')\n",
        "arr_mat[1] /= arr_mat[1, 1]\n",
        "print('na stap 2\\n', arr_mat)\n",
        "print('stap3: rij1 = rij1 - rij2')\n",
        "arr_mat[0] -= arr_mat[0, 1] * arr_mat[1]\n",
        "print('na stap 3\\n', arr_mat)\n",
        "print(f'x1={arr_mat[0, -1]}, x2= {arr_mat[1, -1]}')\n",
        "oplossing = arr_mat[:, -1]\n",
        "print('controle')\n",
        "for index in range(oplossing.shape[0]):\n",
        "  print( (arr_A[index] * oplossing).sum())"
      ],
      "metadata": {
        "id": "pbkVlm9ynjAH"
      },
      "execution_count": null,
      "outputs": []
    },
    {
      "cell_type": "markdown",
      "source": [
        "Voor de controle moeten we twee vermenigvuldigingen uitvoeren: één voor elke rij (vandaar de for-lus met range(oplossing.shape[0])\n",
        "\n",
        "NumPy kent echter ook een aparte operator om dat in één keer te doen: @. Dat noemen we een [matrixvermenigvuldiging](https://nl.wikipedia.org/wiki/Matrixvermenigvuldiging) ( [youtube](https://www.youtube.com/watch?v=HmngGKVzdic)):\n"
      ],
      "metadata": {
        "id": "JnWwl9PuGZE2"
      }
    },
    {
      "cell_type": "code",
      "source": [
        "arr_A @ oplossing"
      ],
      "metadata": {
        "id": "qnCQRo2KG2PK"
      },
      "execution_count": null,
      "outputs": []
    },
    {
      "cell_type": "markdown",
      "source": [
        "##De methode van Cramer\n",
        "Een vergelijking oplossen met de methode van Cramer (om eens iets anders te doen). Bij de methode van Cramer moeten we de determinant van een matrix kunnen berekenen. Dat is geen probleem in NumPy omdat we daarvoor een functie hebben: numpy.linalg.det(arr).\n",
        "\n",
        "\n",
        "1) Bereken de determinant van de matrix met de coëffiënten. (det)\n",
        "1) Vervang in de matrix met de coëfficiënten de eerste kolom door de kolom met de resultaten en bereken de determinant van die matrix (detx)\n",
        "1) Vervang in de matrix met de coëfficiënten de tweede kolom door de kolom met de resultaten en bereken de determinant van die matrix (dety)\n",
        "1) de x-waarde is detx/det\n",
        "1) de y-waarde is dety/det\n",
        "\n",
        "##Toegepast op ons voorbeeld\n",
        "\n",
        "De matrix met de coëfficiënten:\n",
        "$$\\begin{bmatrix}1 && 1\\\\3 && -2\\end{bmatrix}$$\n",
        "\n",
        "De determinant (det): -5\n",
        "\n",
        "Vervanging van de eerste kolom:\n",
        "$$\\begin{bmatrix}3 && 1\\\\4 && -2\\end{bmatrix}$$\n",
        "\n",
        "De determinant (detx): -10\n",
        "\n",
        "Vervanging van de tweede kolom:\n",
        "$$\\begin{bmatrix}1 && 3\\\\3 && 4\\end{bmatrix}$$\n",
        "\n",
        "De determinant (dety): -5\n",
        "\n",
        "x= detx / det = -10 / -5 = 2\n",
        "\n",
        "y= dety / det = -5/-5 = 1\n",
        "\n",
        "En nu proberen we dat in NumPy:\n"
      ],
      "metadata": {
        "id": "mSJjZ1srlZx4"
      }
    },
    {
      "cell_type": "code",
      "source": [
        "import numpy as np\n",
        "arr_A = np.array([1, 1, 3, -2], dtype=np.float64).reshape(2, -1)\n",
        "vec_y = np.array([3, 4])\n",
        "det = np.linalg.det(arr_A)\n",
        "arr_x = np.copy(arr_A)  #wijzig de oorspronkelijke array niet\n",
        "arr_x[:, 0] = vec_y\n",
        "detx = np.linalg.det(arr_x)\n",
        "arr_y = np.copy(arr_A)\n",
        "arr_y[:, 1] = vec_y\n",
        "dety = np.linalg.det(arr_y)\n",
        "print(f'x={detx/det}, y={dety/det}')"
      ],
      "metadata": {
        "id": "GkjT0U3MomD7"
      },
      "execution_count": null,
      "outputs": []
    },
    {
      "cell_type": "markdown",
      "source": [
        "##De inverse van een matrix\n",
        "We zouden de vergelijking ook als een matrix vermenigvuldiging kunnen schrijven:\n",
        "$$Ax = y$$\n",
        "Wanneer we dit met gewone getallen schrijven, bijvoorbeeld:\n",
        "$$2x = 4$$\n",
        "Dan kunnen we dit oplossen door aan beide kanten te delen door 2:\n",
        "$$x = 2$$\n",
        "We kunnen niet delen door een matrix, maar we kunnen wel de inverse van een matrix berekenen. Een matrix vermenigvuldigd met zijn inverse geeft de eenheidsmatrix terug:\n",
        "$$\\begin{bmatrix}1 && 0\\\\0 && 1\\end{bmatrix}$$\n",
        "en die mogen we weglaten bij een vermendigvuldiging.\n",
        "\n",
        "Dus om x op te lossen kunnen de vergelijking als volgt schrijven:\n",
        "$$A^{-1} A x = A^{-1} y$$\n",
        "of (aangezien $A^{-1} A$ gelijk is aan de eenheidsmatrix en weggelaten mag worden)\n",
        "$$x = A^{-1}y$$\n",
        "\n",
        "Belangrijk detail: om twee matrices te vermenigvuldigen, moeten we in NumPy de @-operator gebruiken. De inverse berekenen, kunnen we overlaten aan NumPy (*np.linalg.inv()*):"
      ],
      "metadata": {
        "id": "1tv1v1SvztsO"
      }
    },
    {
      "cell_type": "code",
      "source": [
        "import numpy as np\n",
        "arr_A = np.array([1, 1, 3, -2], dtype=np.float64).reshape(2, -1)\n",
        "vec_y = np.array([3, 4])\n",
        "print('A:', arr_A)\n",
        "print('y:', vec_y)\n",
        "arr_A_inv = np.linalg.inv(arr_A)\n",
        "print('De inverse van A:\\n',arr_A_inv)\n",
        "print('A * A**(-1):\\n',arr_A @ arr_A_inv)\n",
        "print('A**(-1) * y:\\n',arr_A_inv @ vec_y)"
      ],
      "metadata": {
        "id": "MV_j35nE1rYP"
      },
      "execution_count": null,
      "outputs": []
    },
    {
      "cell_type": "markdown",
      "source": [
        "##Tenslotte: zo doen we het echt\n",
        "In NumPy is er een aparte functie om een stelsel van vergelijkingen op te lossen: *np.linalg.solve()*"
      ],
      "metadata": {
        "id": "HG1BFOwFqna1"
      }
    },
    {
      "cell_type": "code",
      "source": [
        "import numpy as np\n",
        "arr_A = np.array([1, 1, 3, -2], dtype=np.float64).reshape(2, -1)\n",
        "vec_y = np.array([3, 4])\n",
        "oplossing = np.linalg.solve(arr_A, vec_y)\n",
        "print('oplossing:\\n',oplossing)\n",
        "print('controle:\\n', arr_A @ oplossing)"
      ],
      "metadata": {
        "id": "EpT-SmtJq9UQ"
      },
      "execution_count": null,
      "outputs": []
    }
  ]
}