{
  "nbformat": 4,
  "nbformat_minor": 0,
  "metadata": {
    "colab": {
      "provenance": []
    },
    "kernelspec": {
      "name": "python3",
      "display_name": "Python 3"
    },
    "language_info": {
      "name": "python"
    }
  },
  "cells": [
    {
      "cell_type": "markdown",
      "source": [
        "#Oefeningen op sorteren\n",
        "##Oef1\n",
        "Hoe kan ik ervoor zorgen dat de array *arr* gesorteerd wordt in onderstaande code. De output moet dus het volgende zijn: (meerdere oplossingen mogelijk)\n",
        "```\n",
        "[ 9  9 10 21 44 44 66 70 78 86]\n",
        "```\n",
        "1. np.sort(arr)\n",
        "1. np.sorted(arr)\n",
        "1. arr.sort()\n",
        "1. sorted(arr)\n",
        "1. arr = np.sort(arr)"
      ],
      "metadata": {
        "id": "EE4uEwDL4Kb6"
      }
    },
    {
      "cell_type": "code",
      "execution_count": null,
      "metadata": {
        "id": "eDpA8JMH2qKj"
      },
      "outputs": [],
      "source": [
        "import numpy as np\n",
        "rng = np.random.default_rng(42)\n",
        "arr = rng.integers(1, 101, size=(10))\n",
        "#Wat moet je hier invullen om te sorteren?\n",
        "print(arr)\n"
      ]
    },
    {
      "cell_type": "markdown",
      "source": [
        "##Oef2\n",
        "Hoe kan ik de array omgekeerd sorteren (van groot naar klein)? (meerdere antwoorden mogelijk)\n",
        "\n",
        "Je moet dus de volgende output krijgen:\n",
        "```\n",
        "[86 78 70 66 44 44 21 10  9  9]\n",
        "```\n",
        "1. arr.sort(kind='reverse')\n",
        "1. arr[::-1].sort()\n",
        "1. arr.sort()[::-1]\n",
        "1. arr = np.sort(arr)[::-1]\n",
        "1. arr = np.sort(arr, kind='reverse')\n",
        "1. arr = arr[np.argsort(-arr)]\n"
      ],
      "metadata": {
        "id": "LUNrKO6B5WJa"
      }
    },
    {
      "cell_type": "code",
      "source": [
        "import numpy as np\n",
        "rng = np.random.default_rng(42)\n",
        "arr = rng.integers(1, 101, size=(10))\n",
        "#wat moet je hier invullen om omgekeerd te sorteren?\n",
        "print(arr)\n"
      ],
      "metadata": {
        "id": "XJpNktI75YRi"
      },
      "execution_count": null,
      "outputs": []
    },
    {
      "cell_type": "markdown",
      "source": [
        "##Oef3\n",
        "Hoe kan ik in het volgende programma de namen afdrukken in de deze volgorde:\n",
        "```\n",
        "['Kathleen' 'Kristel' 'Karen']\n",
        "```\n",
        "1. namen = leeftijden.sort()\n",
        "1. namen = voornamen.sort()\n",
        "1. namen = geboortedatums.sort()\n",
        "1. namen = voornamen[np.argsort(leeftijden)]\n",
        "1. namen = leeftijden[np.argsort(voornamen)]\n",
        "1. namen = voornamen[np.argsort(geboortedatums)]\n",
        "\n",
        "\n"
      ],
      "metadata": {
        "id": "1lR5bHGo8QCw"
      }
    },
    {
      "cell_type": "code",
      "source": [
        "import numpy as np\n",
        "def bereken_leeftijden(geboortedatums, refdatum):\n",
        "  leeftijden = (refdatum - geboortedatums).astype('timedelta64[Y]')\n",
        "  return leeftijden.astype(int)\n",
        "\n",
        "voornamen = np.array(['Karen', 'Kristel', 'Kathleen'])\n",
        "geboortedatums = np.array(['1974-10-28', '1975-12-10', '1978-06-18'], dtype=np.datetime64)\n",
        "leeftijden = bereken_leeftijden(geboortedatums, np.datetime64('2025-12-09'))\n",
        "#wat moeten we hier invullen?\n",
        "print(namen)"
      ],
      "metadata": {
        "id": "V1aWptTO80J_"
      },
      "execution_count": null,
      "outputs": []
    },
    {
      "cell_type": "markdown",
      "source": [
        "##Oef4\n",
        "Wat is de default waarde van de parameter *axis* in de sort()-functie?\n",
        "\n",
        "1. 0\n",
        "1. 1\n",
        "1. -1"
      ],
      "metadata": {
        "id": "fBtZ0GKfGfRU"
      }
    },
    {
      "cell_type": "code",
      "source": [
        "import numpy as np\n",
        "rng = np.random.default_rng(42)\n",
        "arr = rng.integers(1, 101, size=(3,2))\n",
        "print(arr)\n",
        "arr.sort()\n",
        "print(arr)"
      ],
      "metadata": {
        "id": "fzpJHevFGklI"
      },
      "execution_count": null,
      "outputs": []
    },
    {
      "cell_type": "markdown",
      "source": [
        "##Oef5\n",
        "Hoe kan ik de array op de eerste kolom sorteren? Het resultaat zou er als volgt moeten uitzien:\n",
        "```\n",
        "[[ 9 78]\n",
        " [44 86]\n",
        " [66 44]]\n",
        "```\n",
        "1. arr = np.sort(arr[:, 0], axis=1)\n",
        "1. arr = arr[np.argsort(arr, axis=0)]\n",
        "1. arr = arr[np.argsort(arr[:, 0])]\n",
        "1. arr = arr[np.argsort(arr[1, :])]\n",
        "\n"
      ],
      "metadata": {
        "id": "U_oF4xfCHrIf"
      }
    },
    {
      "cell_type": "code",
      "source": [
        "import numpy as np\n",
        "rng = np.random.default_rng(42)\n",
        "arr = rng.integers(1, 101, size=(3,2))\n",
        "print(arr)\n",
        "#Wat moet je hier invullen om te sorteren op de eerste kolom?\n",
        "print(arr)\n"
      ],
      "metadata": {
        "id": "tvn-DUyyH5S7"
      },
      "execution_count": null,
      "outputs": []
    },
    {
      "cell_type": "markdown",
      "source": [
        "##Oef6\n",
        "Hoe kan ik de array op de tweede rij sorteren? De output moet er dus als volgt uitzien:\n",
        "```\n",
        "[[78  9]\n",
        " [44 66]\n",
        " [86 44]]\n",
        "```\n",
        "1. arr = arr[np.argsort(arr[1, :])]\n",
        "1. arr = arr[:, np.argsort(arr[1, :])]\n",
        "1. arr = arr[np.argsort(arr[1, :]), :]\n",
        "\n"
      ],
      "metadata": {
        "id": "0xhF_THvMDQK"
      }
    },
    {
      "cell_type": "code",
      "source": [
        "import numpy as np\n",
        "rng = np.random.default_rng(42)\n",
        "arr = rng.integers(1, 101, size=(3,2))\n",
        "print(arr)\n",
        "#Wat moeten we hier invullen om te sorteren op de tweede rij?\n",
        "print(arr)"
      ],
      "metadata": {
        "id": "4kJutq_VMKCO"
      },
      "execution_count": null,
      "outputs": []
    },
    {
      "cell_type": "markdown",
      "source": [
        "##Oef7\n",
        "NumPy heeft geen *groupby*-functie (pandas wel). De functie *gemiddelde_per_groep* moet het gemiddelde van de waarden in kolom 1 berekenen per groep van dezelfde waarden in kolom 0. De functie werkt echter niet want er zitten 4 fouten in.\n",
        "\n",
        "In SQL zou dit zijn: SELECT kol0, avg(kol1) FROM tabel GROUP BY kol0\n",
        "\n",
        "De output die je zou moeten krijgen is:\n",
        "```\n",
        "oorspronkelijke array:\n",
        "[[ 1 72]\n",
        " [ 1 79]\n",
        " [ 2 52]\n",
        " [ 3 13]\n",
        " [ 3 84]\n",
        " [ 1 46]\n",
        " [ 2 51]\n",
        " [ 2 38]\n",
        " [ 1 19]\n",
        " [ 2 93]\n",
        " [ 3 79]\n",
        " [ 1 65]\n",
        " [ 3 41]]\n",
        "\n",
        "arr na stap1: sorteer arr op de eerste kolom\n",
        "[[ 1 72]\n",
        " [ 1 79]\n",
        " [ 1 46]\n",
        " [ 1 19]\n",
        " [ 1 65]\n",
        " [ 2 51]\n",
        " [ 2 38]\n",
        " [ 2 52]\n",
        " [ 2 93]\n",
        " [ 3 13]\n",
        " [ 3 84]\n",
        " [ 3 79]\n",
        " [ 3 41]]\n",
        "\n",
        "skip na stap2: genereer indexen waar kolom1 van waarde verandert:\n",
        "[4 8]\n",
        "\n",
        "skip na stap3: zet positie om naar index en voeg op eerste positie van skip een 0 toe\n",
        "[0 5 9]\n",
        "\n",
        "resultaat na stap4: tel de waarden in de tweede kolom op per skipwaarde:\n",
        "[281 234 217]\n",
        "\n",
        "lengtes na stap5: maak skip klaar om de lengtes van de groepen te berekenen:\n",
        "[5 4 4]\n",
        "\n",
        "keys na stap7: maak array met unieke groepwaarden:\n",
        "[1 2 3]\n",
        "\n",
        "gemiddelde per waarde in kolom1:\n",
        "[[ 1.   56.2 ]\n",
        " [ 2.   58.5 ]\n",
        " [ 3.   54.25]]\n",
        "```\n",
        "\n"
      ],
      "metadata": {
        "id": "6AClXrS2OKbi"
      }
    },
    {
      "cell_type": "code",
      "source": [
        "import numpy as np\n",
        "def gemiddelde_per_groep(arr):\n",
        "  #stap1: sorteer arr op de eerste kolom\n",
        "  arr = arr[np.argsort(arr[:, 0])]\n",
        "  print('\\narr na stap1: sorteer arr op de eerste kolom')\n",
        "  print(arr)\n",
        "  #stap2: genereer indexen waar kolom1 van waarde verandert\n",
        "  skip = arr[1:, 0] - arr[:-1,0]\n",
        "  skip = np.nonzero(skip)\n",
        "  print('\\nskip na stap2: genereer indexen waar kolom1 van waarde verandert:')\n",
        "  print(skip)\n",
        "  skip += 1\n",
        "  #stap3: zet positie om naar index en voeg op eerste positie van skip een 0 toe\n",
        "  skip = np.insert(skip,0, 0)\n",
        "  print('\\nskip na stap3: zet positie om naar index en voeg op eerste positie van skip een 0 toe')\n",
        "  print(skip)\n",
        "  #stap4: tel de waarden in de tweede kolom op per skipwaarde\n",
        "  resultaat = np.add.reduceat(arr[:, 0], skip)\n",
        "  print('\\nresultaat na stap4: tel de waarden in de tweede kolom op per skipwaarde:')\n",
        "  print(resultaat)\n",
        "  #stap5: maak skip klaar om de lengtes van de groepen te berekenen\n",
        "  skip = np.append(skip, len(arr)-1)\n",
        "  lengtes = skip[1:] - skip[:-1]\n",
        "  print('\\nlengtes na stap5: maak skip klaar om de lengtes van de groepen te berekenen:')\n",
        "  print(lengtes)\n",
        "  #stap6: bereken het gemiddelde van elke groep\n",
        "  resultaat = resultaat / lengtes\n",
        "  #stap7: maak array met unieke groepwaarden\n",
        "  keys = np.unique(arr[:, 0])\n",
        "  print('\\nkeys na stap7: maak array met unieke groepwaarden:')\n",
        "  print(keys)\n",
        "  resultaat = np.hstack([keys, resultaat])\n",
        "  return resultaat\n",
        "rng = np.random.default_rng(42)\n",
        "arr = rng.integers(1, 101, size=(3,2))\n",
        "rng = np.random.default_rng(42)\n",
        "arr1 = np.array([1, 2, 3])\n",
        "arr1 = np.tile(arr1, (4, 1))\n",
        "arr1 = np.ravel(arr1, order='F')\n",
        "arr1 = np.append(arr1, 1)\n",
        "rng.shuffle(arr1)\n",
        "arr2 = rng.integers(1, 101, size=(arr1.size))\n",
        "arr = np.column_stack([arr1, arr2])\n",
        "#print(arr)\n",
        "print('oorspronkelijke array:')\n",
        "print(arr)\n",
        "gemiddelde_per_kolom1 = gemiddelde_per_groep(arr)\n",
        "print('\\ngemiddelde per waarde in kolom1:')\n",
        "print(gemiddelde_per_kolom1)\n",
        "\n"
      ],
      "metadata": {
        "id": "nKJEfkJhRFH4"
      },
      "execution_count": null,
      "outputs": []
    },
    {
      "cell_type": "markdown",
      "source": [
        "#Oplossingen\n",
        "##Oef1\n",
        "We kunnen de array zelf sorteren met arr.sort() en we krijgen een gesorteerde array terug met arr=np.sort(). Dus antwoorden 3 en 5.\n",
        "##Oef2\n",
        "We kunnen het resultaat van een sortering omgekeren (arr = np.sort(arr)[::-1]), maar we kunnen ook argsort() gebruiken om de negatieve array te sorteren en de indexen te gebruiken (arr = arr[np.argsort(-arr)]). Dus antwoorden 4 en 6\n",
        "##Oef3\n",
        "We moeten voornamen terugkrijgen, dus de array die we moeten sorteren is *voornamen*. De sortering gebeurt op basis van de leeftijd, dus namen = voornamen[np.argsort(leeftijden)] (antwoord 4)\n",
        "##Oef4\n",
        "Er wordt gesorteerd over de laatste dimensie, dus -1 (antwoord 3)\n",
        "##Oef5\n",
        "We hebben de indexen nodig die gesorteerd zijn op kolom 0: arr = arr[np.argsort(arr[:, 0])] (antwoord 3)\n",
        "##Oef6\n",
        "De kolommen moeten verplaatst worden, dus de indexen moeten bij de kolommen staan: arr = arr[:, np.argsort(arr[1, :])] (antwoord 2)\n",
        "\n",
        "##Oef7\n",
        "Je moest de volgende zaken aanpassen:\n",
        "* na stap2: vervang   skip = np.nonzero(skip) door skip = np.nonzero(skip)[0] omdat het resultaat anders een tuple is (van 1 element, namelijk de NumPy array die we nodig hebben)\n",
        "* na stap4: vervang resultaat = np.add.reduceat(arr[:, 0], skip) door resultaat = np.add.reduceat(arr[:, 1], skip) omdat je de functie wil toepassen op kolom 1 en niet op kolom 0\n",
        "* na stap5: vervang skip = np.append(skip, len(arr)-1) door skip = np.append(skip, len(arr)) omdat de laatste waarde 1 meer moet zijn dan de laatste index om het correcte aantal elementen te berekenen voor de laatste groep (aantal elementen in de laatste groep is 4)\n",
        "* na stap7: vervang  resultaat = np.hstack([keys, resultaat]) door resultaat = np.column_stack([keys, resultaat]) omdat je de arrays als kolommen naast elkaar wil.\n",
        "\n",
        "\n",
        "```\n",
        "import numpy as np\n",
        "def groepeer(arr):\n",
        "  #stap1: sorteer arr op de eerste kolom\n",
        "  arr = arr[np.argsort(arr[:, 0])]\n",
        "  print('\\narr na stap1: sorteer arr op de eerste kolom')\n",
        "  print(arr)\n",
        "  #stap2: genereer indexen waar kolom1 van waarde verandert\n",
        "  skip = arr[1:, 0] - arr[:-1,0]\n",
        "  skip = np.nonzero(skip)[0]\n",
        "  print('\\nskip na stap2: genereer indexen waar kolom1 van waarde verandert:')\n",
        "  print(skip)\n",
        "  skip += 1\n",
        "  #stap3: zet positie om naar index en voeg op eerste positie van skip een 0 toe\n",
        "  skip = np.insert(skip,0, 0)\n",
        "  print('\\nskip na stap3: zet positie om naar index en voeg op eerste positie van skip een 0 toe')\n",
        "  print(skip)\n",
        "  #stap4: tel de waarden in de tweede kolom op per skipwaarde\n",
        "  resultaat = np.add.reduceat(arr[:, 1], skip)\n",
        "  print('\\nresultaat na stap4: tel de waarden in de tweede kolom op per skipwaarde:')\n",
        "  print(resultaat)\n",
        "  #stap5: maak skip klaar om de lengtes van de groepen te berekenen\n",
        "  skip = np.append(skip, len(arr))\n",
        "  lengtes = skip[1:] - skip[:-1]\n",
        "  print('\\nlengtes na stap5: maak skip klaar om de lengtes van de groepen te berekenen:')\n",
        "  print(lengtes)\n",
        "  #stap6: bereken het gemiddelde van elke groep\n",
        "  resultaat = resultaat / lengtes\n",
        "  #stap7: maak array met unieke groepwaarden\n",
        "  keys = np.unique(arr[:, 0])\n",
        "  print('\\nkeys na stap7: maak array met unieke groepwaarden:')\n",
        "  print(keys)\n",
        "  resultaat = np.column_stack([keys, resultaat])\n",
        "  #resultaat = np.hstack([keys, resultaat])\n",
        "  return resultaat\n",
        "rng = np.random.default_rng(42)\n",
        "arr = rng.integers(1, 101, size=(3,2))\n",
        "rng = np.random.default_rng(42)\n",
        "arr1 = np.array([1, 2, 3])\n",
        "arr1 = np.tile(arr1, (4, 1))\n",
        "arr1 = np.ravel(arr1, order='F')\n",
        "arr1 = np.append(arr1, 1)\n",
        "rng.shuffle(arr1)\n",
        "arr2 = rng.integers(1, 101, size=(arr1.size))\n",
        "arr = np.column_stack([arr1, arr2])\n",
        "#print(arr)\n",
        "print('oorspronkelijke array:')\n",
        "print(arr)\n",
        "gemiddelde_per_kolom1 = groepeer(arr)\n",
        "print('\\ngemiddelde per waarde in kolom1:')\n",
        "print(gemiddelde_per_kolom1)\n",
        "```\n",
        "\n"
      ],
      "metadata": {
        "id": "wpzwix2q4zE0"
      }
    }
  ]
}