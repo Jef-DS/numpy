{
  "nbformat": 4,
  "nbformat_minor": 0,
  "metadata": {
    "colab": {
      "provenance": []
    },
    "kernelspec": {
      "name": "python3",
      "display_name": "Python 3"
    },
    "language_info": {
      "name": "python"
    }
  },
  "cells": [
    {
      "cell_type": "markdown",
      "source": [
        "##Datums in NumPy\n",
        "NumPy heeft ook een apart datumtype: datetime64. Net zoals in Python is er ook een *timedelta* om met een periode te werken. Hier zien we hoe we een range kunnen maken met de dagen van januari 2025."
      ],
      "metadata": {
        "id": "Yhx1oh7781LQ"
      }
    },
    {
      "cell_type": "code",
      "source": [
        "import numpy as np\n",
        "arr = np.arange(np.datetime64('2025-01-01'), np.datetime64('2025-02-01'), np.timedelta64(1, 'D'))\n",
        "print(arr)"
      ],
      "metadata": {
        "id": "rOP7GhOdvklE"
      },
      "execution_count": null,
      "outputs": []
    },
    {
      "cell_type": "markdown",
      "source": [
        "We kunnen iets gelijkaardig doen met uren."
      ],
      "metadata": {
        "id": "tIp7k93J9PSD"
      }
    },
    {
      "cell_type": "code",
      "source": [
        "import numpy as np\n",
        "arr = np.arange(np.datetime64('2025-01-01T00:00'), np.datetime64('2025-01-03T00:00'), np.timedelta64(1, 'h'))\n",
        "print(arr)"
      ],
      "metadata": {
        "id": "yAennWUXwjou"
      },
      "execution_count": null,
      "outputs": []
    },
    {
      "cell_type": "markdown",
      "source": [
        "De functie *np.isbusday()* kunnen we gebruiken om te controleren of een datum een *business day* is. Kort gezegd: de functie controleert hier of de datum een weekdag is en geeft een boolean terug.\n",
        "\n",
        "Omdat het argument van *np.isbusday* een array is, krijgen we een array van boolean waarden terug.\n",
        "\n",
        "Wanneer we tussen de vierkante haakjes van een array een booleanarray zetten, krijgen we alleen de waarden terug die True waren. Hier zien we dus alle weekdagen van januari 2025."
      ],
      "metadata": {
        "id": "TAPk0Ytf9WOz"
      }
    },
    {
      "cell_type": "code",
      "source": [
        "import numpy as np\n",
        "arr = np.arange(np.datetime64('2025-08-01'), np.datetime64('2025-09-01'), np.timedelta64(1, 'D'))\n",
        "print(np.is_busday(arr))\n",
        "print(arr[np.is_busday(arr)])\n"
      ],
      "metadata": {
        "id": "jYwHAuAixIM6"
      },
      "execution_count": null,
      "outputs": []
    },
    {
      "cell_type": "markdown",
      "source": [
        "In België hebben we natuurlijk ook vakantiedagen. Die kunnen we als extra argument (*holidays*) meegeven. (15 augustus 2025 was een vrijdag)"
      ],
      "metadata": {
        "id": "Nx5o249P-B05"
      }
    },
    {
      "cell_type": "code",
      "source": [
        "import numpy as np\n",
        "arr = np.arange(np.datetime64('2025-08-01'), np.datetime64('2025-09-01'), np.timedelta64(1, 'D'))\n",
        "vakantiedagen = ['2025-11-01', '2025-08-15']\n",
        "\n",
        "print(np.is_busday(arr, holidays=vakantiedagen))\n",
        "print(arr[np.is_busday(arr, holidays=vakantiedagen)])"
      ],
      "metadata": {
        "id": "5niATLbr05fS"
      },
      "execution_count": null,
      "outputs": []
    },
    {
      "cell_type": "markdown",
      "source": [
        "De filtering die we in het vorige voorbeeld hebben gezien met *np.isbusday* is ook handig om alle datums te zien die voor 15 januari 2025 liggen. De array *is_voor_15_jan* bevat True voor alle datums die kleiner zijn dan 15 januari."
      ],
      "metadata": {
        "id": "d2VWwRjo-Xq0"
      }
    },
    {
      "cell_type": "code",
      "source": [
        "import numpy as np\n",
        "arr = np.arange(np.datetime64('2025-01-01'), np.datetime64('2025-02-01'), np.timedelta64(1, 'D'))\n",
        "print(arr)\n",
        "is_voor_15_jan= arr < np.datetime64('2025-01-15')\n",
        "print(is_voor_15_jan)\n",
        "print(arr[is_voor_15_jan])"
      ],
      "metadata": {
        "id": "7zMBXwIZo6Fy"
      },
      "execution_count": null,
      "outputs": []
    }
  ]
}